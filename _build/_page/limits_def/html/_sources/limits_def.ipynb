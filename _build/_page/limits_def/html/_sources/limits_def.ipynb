{
 "cells": [
  {
   "cell_type": "markdown",
   "id": "89ab1293",
   "metadata": {},
   "source": [
    "# Limit of a Function"
   ]
  },
  {
   "cell_type": "markdown",
   "id": "989c277e",
   "metadata": {},
   "source": [
    "## Definition\n",
    "\n",
    "The function $f(x)$ has a limit of L as $x$ approaches $a$,\n",
    "\n",
    "$$ \\lim_{x\\to a} f(x) = L$$\n",
    "\n",
    "if the value of $f(x)$ can be made as close to the number $L$ as we please by taking x values *sufficiently close* to, but not equal to, $a$."
   ]
  },
  {
   "cell_type": "code",
   "execution_count": 1,
   "id": "bc59f68c",
   "metadata": {
    "tags": [
     "remove-cell",
     "thebe-init"
    ]
   },
   "outputs": [],
   "source": [
    "from cyllene import *\n",
    "f = function('x^2+1')"
   ]
  },
  {
   "cell_type": "markdown",
   "id": "232dc717-960a-4fdf-9f5d-714493c9caea",
   "metadata": {
    "tags": []
   },
   "source": [
    "### Exercise\n",
    "\n",
    "Below, you see a table in which we evaluate a function $f(x)$ for values of $x$ that are closer and closer to $2$ (but **not equal to $2$**). What do the values $f(x)$ suggest $\\lim_{x\\to 2} f(x)$ should be?"
   ]
  },
  {
   "cell_type": "code",
   "execution_count": 2,
   "id": "46b4b73c",
   "metadata": {},
   "outputs": [
    {
     "data": {
      "application/vnd.jupyter.widget-view+json": {
       "model_id": "0ee52449285a4908b2a2a29f013cb622",
       "version_major": 2,
       "version_minor": 0
      },
      "text/plain": [
       "Sheet(cells=(Cell(column_end=2, column_start=0, numeric_format='0.00000', row_end=0, row_start=0, squeeze_colu…"
      ]
     },
     "metadata": {},
     "output_type": "display_data"
    }
   ],
   "source": [
    "tab = function_to_table(f, [2.1, 2.01, 2.0001])\n",
    "output_table(tab)"
   ]
  },
  {
   "cell_type": "code",
   "execution_count": 3,
   "id": "d06657fb",
   "metadata": {},
   "outputs": [
    {
     "data": {
      "text/latex": [
       "$\\displaystyle 5.004001$"
      ],
      "text/plain": [
       "5.00400100000000"
      ]
     },
     "execution_count": 3,
     "metadata": {},
     "output_type": "execute_result"
    }
   ],
   "source": [
    "f(2.001)"
   ]
  },
  {
   "cell_type": "code",
   "execution_count": 4,
   "id": "0f0fee61",
   "metadata": {},
   "outputs": [
    {
     "data": {
      "text/latex": [
       "$\\displaystyle 5.00000004$"
      ],
      "text/plain": [
       "5.00000004000000"
      ]
     },
     "execution_count": 4,
     "metadata": {},
     "output_type": "execute_result"
    }
   ],
   "source": [
    "f(2.00000001)"
   ]
  },
  {
   "cell_type": "markdown",
   "id": "ea318d5a",
   "metadata": {},
   "source": [
    "````{admonition} Click the button to show solution.\n",
    ":class: dropdown\n",
    "The values $f(x)$ get closer to $5$ as $x$ gets closer to $2$.\n",
    "This suggests that \n",
    "```{math}\n",
    "    \\lim_{x \\to 2} f(x) = 5\n",
    "```\n",
    "````"
   ]
  },
  {
   "cell_type": "code",
   "execution_count": null,
   "id": "3932ff6d-cd89-44e7-aa2e-64c52444731d",
   "metadata": {},
   "outputs": [],
   "source": []
  }
 ],
 "metadata": {
  "kernelspec": {
   "display_name": "Python 3.9.4 64-bit",
   "language": "python",
   "name": "python394jvsc74a57bd0085761d8a84a55f3b91b6696b289e6480df59aded311489218ab7e58f5e20cd3"
  },
  "language_info": {
   "codemirror_mode": {
    "name": "ipython",
    "version": 3
   },
   "file_extension": ".py",
   "mimetype": "text/x-python",
   "name": "python",
   "nbconvert_exporter": "python",
   "pygments_lexer": "ipython3",
   "version": "3.9.4"
  },
  "metadata": {
   "interpreter": {
    "hash": "085761d8a84a55f3b91b6696b289e6480df59aded311489218ab7e58f5e20cd3"
   }
  }
 },
 "nbformat": 4,
 "nbformat_minor": 5
}