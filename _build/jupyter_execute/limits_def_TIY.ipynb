{
 "cells": [
  {
   "cell_type": "code",
   "execution_count": 1,
   "id": "b587fd28-18fe-40f4-81db-fd64b90e3cf2",
   "metadata": {},
   "outputs": [
    {
     "name": "stdout",
     "output_type": "stream",
     "text": [
      "Initialization successful!\n"
     ]
    }
   ],
   "source": [
    "from cyllene import *\n",
    "%initialize limits_def"
   ]
  },
  {
   "cell_type": "markdown",
   "id": "a25b6290",
   "metadata": {},
   "source": [
    "## Numerically estimating limits"
   ]
  },
  {
   "cell_type": "code",
   "execution_count": 2,
   "id": "fc16056a",
   "metadata": {},
   "outputs": [
    {
     "data": {
      "text/markdown": [
       "### Problem 1"
      ],
      "text/plain": [
       "<IPython.core.display.Markdown object>"
      ]
     },
     "metadata": {},
     "output_type": "display_data"
    },
    {
     "data": {
      "text/markdown": [
       "Below, you see a table in which we evaluate a function $f(x)$ for values of $x$ that are closer and closer to $-1$ (but **not equal to** $-1$). \\\n",
       "    What do the values $f(x)$ suggest $\\lim_{x\\to -1} f(x)$ would be?"
      ],
      "text/plain": [
       "<IPython.core.display.Markdown object>"
      ]
     },
     "metadata": {},
     "output_type": "display_data"
    },
    {
     "data": {
      "application/vnd.jupyter.widget-view+json": {
       "model_id": "2b454bc2f30245c3afec1d2f3422caf2",
       "version_major": 2,
       "version_minor": 0
      },
      "text/plain": [
       "Sheet(cells=(Cell(column_end=3, column_start=0, numeric_format='0.00000', row_end=0, row_start=0, squeeze_colu…"
      ]
     },
     "metadata": {},
     "output_type": "display_data"
    },
    {
     "data": {
      "text/markdown": [
       "(You can edit the table to compute further values of $f$)"
      ],
      "text/plain": [
       "<IPython.core.display.Markdown object>"
      ]
     },
     "metadata": {},
     "output_type": "display_data"
    },
    {
     "data": {
      "text/markdown": [],
      "text/plain": [
       "<IPython.core.display.Markdown object>"
      ]
     },
     "metadata": {},
     "output_type": "display_data"
    },
    {
     "data": {
      "text/markdown": [
       "*Enter the answer(s) in the cell below.*"
      ],
      "text/plain": [
       "<IPython.core.display.Markdown object>"
      ]
     },
     "metadata": {},
     "output_type": "display_data"
    }
   ],
   "source": [
    "%problem 1"
   ]
  },
  {
   "cell_type": "code",
   "execution_count": 3,
   "id": "860833c8",
   "metadata": {},
   "outputs": [
    {
     "name": "stdout",
     "output_type": "stream",
     "text": [
      "Your answer is empty. Please try again!\n"
     ]
    }
   ],
   "source": [
    "%%answer Problem 1\n"
   ]
  },
  {
   "cell_type": "markdown",
   "id": "36e48c4f",
   "metadata": {},
   "source": [
    "## Numerically estimating one-sided limits"
   ]
  },
  {
   "cell_type": "markdown",
   "id": "56a7fb94",
   "metadata": {
    "slideshow": {
     "slide_type": "subslide"
    }
   },
   "source": [
    "In the cell below, you can evaluate an unknow function $g(x)$ for any value of $x$. For example, to compute $g(3)$ you would enter `g(3)` in the cell below and press `Shift+Enter` to execute."
   ]
  },
  {
   "cell_type": "code",
   "execution_count": 4,
   "id": "f57e1ae2",
   "metadata": {},
   "outputs": [
    {
     "data": {
      "text/latex": [
       "$\\displaystyle 19$"
      ],
      "text/plain": [
       "19"
      ]
     },
     "execution_count": 4,
     "metadata": {},
     "output_type": "execute_result"
    }
   ],
   "source": [
    "g(3)"
   ]
  },
  {
   "cell_type": "markdown",
   "id": "8225c8da",
   "metadata": {},
   "source": [
    "---"
   ]
  },
  {
   "cell_type": "code",
   "execution_count": 5,
   "id": "2d442c9b",
   "metadata": {},
   "outputs": [
    {
     "data": {
      "text/markdown": [
       "### Problem 2"
      ],
      "text/plain": [
       "<IPython.core.display.Markdown object>"
      ]
     },
     "metadata": {},
     "output_type": "display_data"
    },
    {
     "data": {
      "text/markdown": [
       "Use the function evaluation cell above to estimate the left-hand limit $\\lim_{x \\to {0}^-} g(x)$"
      ],
      "text/plain": [
       "<IPython.core.display.Markdown object>"
      ]
     },
     "metadata": {},
     "output_type": "display_data"
    },
    {
     "data": {
      "text/markdown": [],
      "text/plain": [
       "<IPython.core.display.Markdown object>"
      ]
     },
     "metadata": {},
     "output_type": "display_data"
    },
    {
     "data": {
      "text/markdown": [
       "*Enter the answer(s) in the cell below.*"
      ],
      "text/plain": [
       "<IPython.core.display.Markdown object>"
      ]
     },
     "metadata": {},
     "output_type": "display_data"
    }
   ],
   "source": [
    "%problem 2"
   ]
  },
  {
   "cell_type": "code",
   "execution_count": 6,
   "id": "1afd4e41",
   "metadata": {},
   "outputs": [
    {
     "name": "stdout",
     "output_type": "stream",
     "text": [
      "Your answer is empty. Please try again!\n"
     ]
    }
   ],
   "source": [
    "%%answer Problem 2\n"
   ]
  },
  {
   "cell_type": "code",
   "execution_count": 7,
   "id": "5dce2f54",
   "metadata": {},
   "outputs": [
    {
     "data": {
      "text/markdown": [
       "### Problem 3"
      ],
      "text/plain": [
       "<IPython.core.display.Markdown object>"
      ]
     },
     "metadata": {},
     "output_type": "display_data"
    },
    {
     "data": {
      "text/markdown": [
       "Use the function evaluation cell above to estimate the right-hand limit $\\lim_{x \\to {0}^+} g(x)$"
      ],
      "text/plain": [
       "<IPython.core.display.Markdown object>"
      ]
     },
     "metadata": {},
     "output_type": "display_data"
    },
    {
     "data": {
      "text/markdown": [],
      "text/plain": [
       "<IPython.core.display.Markdown object>"
      ]
     },
     "metadata": {},
     "output_type": "display_data"
    },
    {
     "data": {
      "text/markdown": [
       "*Enter the answer(s) in the cell below.*"
      ],
      "text/plain": [
       "<IPython.core.display.Markdown object>"
      ]
     },
     "metadata": {},
     "output_type": "display_data"
    }
   ],
   "source": [
    "%problem 3"
   ]
  },
  {
   "cell_type": "code",
   "execution_count": 8,
   "id": "525f4634",
   "metadata": {},
   "outputs": [
    {
     "name": "stdout",
     "output_type": "stream",
     "text": [
      "Your answer is empty. Please try again!\n"
     ]
    }
   ],
   "source": [
    "%%answer Problem 3\n"
   ]
  }
 ],
 "metadata": {
  "kernelspec": {
   "display_name": "Python 3",
   "language": "python",
   "name": "python3"
  },
  "language_info": {
   "codemirror_mode": {
    "name": "ipython",
    "version": 3
   },
   "file_extension": ".py",
   "mimetype": "text/x-python",
   "name": "python",
   "nbconvert_exporter": "python",
   "pygments_lexer": "ipython3",
   "version": "3.9.4"
  },
  "widgets": {
   "application/vnd.jupyter.widget-state+json": {
    "state": {
     "2b454bc2f30245c3afec1d2f3422caf2": {
      "model_module": "ipysheet",
      "model_module_version": "~0.4.4",
      "model_name": "SheetModel",
      "state": {
       "_dom_classes": [],
       "_model_module": "ipysheet",
       "_model_module_version": "~0.4.4",
       "_model_name": "SheetModel",
       "_view_count": null,
       "_view_module": "ipysheet",
       "_view_module_version": "~0.4.4",
       "_view_name": "SheetView",
       "cells": [
        "IPY_MODEL_a2b685b25f4f4d7cab5265d36971a204",
        "IPY_MODEL_d928848e7adb42d79a9c1834f8386aa1"
       ],
       "column_headers": false,
       "column_resizing": true,
       "column_width": null,
       "columns": 4,
       "layout": "IPY_MODEL_a73bb2a1b4964460bceaf8c5d5fd18c8",
       "named_cells": {},
       "row_headers": [
        "x",
        "f(x)"
       ],
       "row_resizing": true,
       "rows": 2,
       "search_token": "",
       "stretch_headers": "all"
      }
     },
     "a2b685b25f4f4d7cab5265d36971a204": {
      "model_module": "ipysheet",
      "model_module_version": "~0.4.4",
      "model_name": "CellRangeModel",
      "state": {
       "_model_module": "ipysheet",
       "_model_module_version": "~0.4.4",
       "_model_name": "CellRangeModel",
       "_view_count": null,
       "_view_module": null,
       "_view_module_version": "",
       "_view_name": null,
       "choice": null,
       "column_end": 3,
       "column_start": 0,
       "date_format": "YYYY/MM/DD",
       "name": null,
       "numeric_format": "0.00000",
       "read_only": false,
       "renderer": null,
       "row_end": 0,
       "row_start": 0,
       "squeeze_column": false,
       "squeeze_row": true,
       "style": {},
       "time_format": "h:mm:ss a",
       "transpose": false,
       "type": "numeric",
       "value": [
        -1.1,
        -1.001,
        -0.999,
        -0.9
       ]
      }
     },
     "a73bb2a1b4964460bceaf8c5d5fd18c8": {
      "model_module": "@jupyter-widgets/base",
      "model_module_version": "1.2.0",
      "model_name": "LayoutModel",
      "state": {
       "_model_module": "@jupyter-widgets/base",
       "_model_module_version": "1.2.0",
       "_model_name": "LayoutModel",
       "_view_count": null,
       "_view_module": "@jupyter-widgets/base",
       "_view_module_version": "1.2.0",
       "_view_name": "LayoutView",
       "align_content": null,
       "align_items": null,
       "align_self": null,
       "border": null,
       "bottom": null,
       "display": null,
       "flex": null,
       "flex_flow": null,
       "grid_area": null,
       "grid_auto_columns": null,
       "grid_auto_flow": null,
       "grid_auto_rows": null,
       "grid_column": null,
       "grid_gap": null,
       "grid_row": null,
       "grid_template_areas": null,
       "grid_template_columns": null,
       "grid_template_rows": null,
       "height": "auto",
       "justify_content": null,
       "justify_items": null,
       "left": null,
       "margin": null,
       "max_height": null,
       "max_width": null,
       "min_height": null,
       "min_width": null,
       "object_fit": null,
       "object_position": null,
       "order": null,
       "overflow": null,
       "overflow_x": null,
       "overflow_y": null,
       "padding": null,
       "right": null,
       "top": null,
       "visibility": null,
       "width": "auto"
      }
     },
     "d928848e7adb42d79a9c1834f8386aa1": {
      "model_module": "ipysheet",
      "model_module_version": "~0.4.4",
      "model_name": "CellRangeModel",
      "state": {
       "_model_module": "ipysheet",
       "_model_module_version": "~0.4.4",
       "_model_name": "CellRangeModel",
       "_view_count": null,
       "_view_module": null,
       "_view_module_version": "",
       "_view_name": null,
       "choice": null,
       "column_end": 3,
       "column_start": 0,
       "date_format": "YYYY/MM/DD",
       "name": null,
       "numeric_format": "0.00000",
       "read_only": false,
       "renderer": null,
       "row_end": 1,
       "row_start": 1,
       "squeeze_column": false,
       "squeeze_row": true,
       "style": {},
       "time_format": "h:mm:ss a",
       "transpose": false,
       "type": "numeric",
       "value": [
        3.721000000000001,
        3.007002000999999,
        2.9930019989999996,
        2.3190000000000004
       ]
      }
     }
    },
    "version_major": 2,
    "version_minor": 0
   }
  }
 },
 "nbformat": 4,
 "nbformat_minor": 5
}