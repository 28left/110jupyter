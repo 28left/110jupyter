{
 "cells": [
  {
   "cell_type": "markdown",
   "id": "89ab1293",
   "metadata": {},
   "source": [
    "# Limit of a Function"
   ]
  },
  {
   "cell_type": "markdown",
   "id": "989c277e",
   "metadata": {},
   "source": [
    "## Definition\n",
    "\n",
    "The function $f(x)$ has a limit of L as $x$ approaches $a$,\n",
    "\n",
    "$$ \\lim_{x\\to a} f(x) = L$$\n",
    "\n",
    "if the value of $f(x)$ can be made as close to the number $L$ as we please by taking x values *sufficiently close* to, but not equal to, $a$."
   ]
  },
  {
   "cell_type": "code",
   "execution_count": 1,
   "id": "bc59f68c",
   "metadata": {
    "tags": [
     "remove-cell"
    ]
   },
   "outputs": [],
   "source": [
    "from cyllene import *\n",
    "f = function('x^2+1')"
   ]
  },
  {
   "cell_type": "markdown",
   "id": "232dc717-960a-4fdf-9f5d-714493c9caea",
   "metadata": {
    "tags": []
   },
   "source": [
    "### Exercise\n",
    "\n",
    "Below, we evaluate a function $f(x)$ for values of $x$ that are closer and closer to $2$. What do the values $f(x)$ suggest $\\lim_{x\\to 2} f(x)$ should be?"
   ]
  },
  {
   "cell_type": "code",
   "execution_count": 2,
   "id": "2a617e79",
   "metadata": {},
   "outputs": [
    {
     "data": {
      "text/latex": [
       "$\\displaystyle 5.0401$"
      ],
      "text/plain": [
       "5.04010000000000"
      ]
     },
     "execution_count": 2,
     "metadata": {},
     "output_type": "execute_result"
    }
   ],
   "source": [
    "f(2.01)"
   ]
  },
  {
   "cell_type": "code",
   "execution_count": 3,
   "id": "d06657fb",
   "metadata": {},
   "outputs": [
    {
     "data": {
      "text/latex": [
       "$\\displaystyle 5.004001$"
      ],
      "text/plain": [
       "5.00400100000000"
      ]
     },
     "execution_count": 3,
     "metadata": {},
     "output_type": "execute_result"
    }
   ],
   "source": [
    "f(2.001)"
   ]
  },
  {
   "cell_type": "code",
   "execution_count": 4,
   "id": "0f0fee61",
   "metadata": {},
   "outputs": [
    {
     "data": {
      "text/latex": [
       "$\\displaystyle 5.00000004$"
      ],
      "text/plain": [
       "5.00000004000000"
      ]
     },
     "execution_count": 4,
     "metadata": {},
     "output_type": "execute_result"
    }
   ],
   "source": [
    "f(2.00000001)"
   ]
  },
  {
   "cell_type": "markdown",
   "id": "ea318d5a",
   "metadata": {},
   "source": [
    "````{admonition} Click the button to show solution.\n",
    ":class: dropdown\n",
    "The values $f(x)$ get closer to $5$ as $x$ gets closer to $2$.\n",
    "This suggests that \n",
    "```{math}\n",
    "    \\lim_{x \\to 2} f(x) = 5\n",
    "```\n",
    "````"
   ]
  },
  {
   "cell_type": "code",
   "execution_count": null,
   "id": "3932ff6d-cd89-44e7-aa2e-64c52444731d",
   "metadata": {},
   "outputs": [],
   "source": []
  }
 ],
 "metadata": {
  "kernelspec": {
   "display_name": "Python 3.9.4 64-bit",
   "language": "python",
   "name": "python394jvsc74a57bd0085761d8a84a55f3b91b6696b289e6480df59aded311489218ab7e58f5e20cd3"
  },
  "language_info": {
   "codemirror_mode": {
    "name": "ipython",
    "version": 3
   },
   "file_extension": ".py",
   "mimetype": "text/x-python",
   "name": "python",
   "nbconvert_exporter": "python",
   "pygments_lexer": "ipython3",
   "version": "3.9.4"
  },
  "metadata": {
   "interpreter": {
    "hash": "085761d8a84a55f3b91b6696b289e6480df59aded311489218ab7e58f5e20cd3"
   }
  }
 },
 "nbformat": 4,
 "nbformat_minor": 5
}