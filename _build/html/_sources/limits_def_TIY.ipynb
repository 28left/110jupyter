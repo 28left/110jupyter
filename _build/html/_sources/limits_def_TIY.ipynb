{
 "cells": [
  {
   "cell_type": "code",
   "execution_count": null,
   "id": "b587fd28-18fe-40f4-81db-fd64b90e3cf2",
   "metadata": {},
   "outputs": [],
   "source": [
    "from cyllene import *\n",
    "%initialize limits_def"
   ]
  },
  {
   "cell_type": "markdown",
   "id": "a25b6290",
   "metadata": {},
   "source": [
    "## Numerically estimating limits"
   ]
  },
  {
   "cell_type": "code",
   "execution_count": null,
   "id": "fc16056a",
   "metadata": {},
   "outputs": [],
   "source": [
    "%problem 1"
   ]
  },
  {
   "cell_type": "code",
   "execution_count": null,
   "id": "860833c8",
   "metadata": {},
   "outputs": [],
   "source": [
    "%%answer Problem 1\n"
   ]
  },
  {
   "cell_type": "markdown",
   "id": "36e48c4f",
   "metadata": {},
   "source": [
    "## Numerically estimating one-sided limits"
   ]
  },
  {
   "cell_type": "markdown",
   "id": "56a7fb94",
   "metadata": {
    "slideshow": {
     "slide_type": "subslide"
    }
   },
   "source": [
    "In the cell below, you can evaluate an unknow function $g(x)$ for any value of $x$. For example, to compute $g(3)$ you would enter `g(3)` in the cell below and press `Shift+Enter` to execute."
   ]
  },
  {
   "cell_type": "code",
   "execution_count": null,
   "id": "f57e1ae2",
   "metadata": {},
   "outputs": [],
   "source": [
    "g(3)"
   ]
  },
  {
   "cell_type": "markdown",
   "id": "8225c8da",
   "metadata": {},
   "source": [
    "---"
   ]
  },
  {
   "cell_type": "code",
   "execution_count": null,
   "id": "2d442c9b",
   "metadata": {},
   "outputs": [],
   "source": [
    "%problem 2"
   ]
  },
  {
   "cell_type": "code",
   "execution_count": null,
   "id": "1afd4e41",
   "metadata": {},
   "outputs": [],
   "source": [
    "%%answer Problem 2\n"
   ]
  },
  {
   "cell_type": "code",
   "execution_count": null,
   "id": "5dce2f54",
   "metadata": {},
   "outputs": [],
   "source": [
    "%problem 3"
   ]
  },
  {
   "cell_type": "code",
   "execution_count": null,
   "id": "525f4634",
   "metadata": {},
   "outputs": [],
   "source": [
    "%%answer Problem 3\n"
   ]
  }
 ],
 "metadata": {
  "kernelspec": {
   "display_name": "Python 3",
   "language": "python",
   "name": "python3"
  },
  "language_info": {
   "codemirror_mode": {
    "name": "ipython",
    "version": 3
   },
   "file_extension": ".py",
   "mimetype": "text/x-python",
   "name": "python",
   "nbconvert_exporter": "python",
   "pygments_lexer": "ipython3",
   "version": "3.9.4"
  }
 },
 "nbformat": 4,
 "nbformat_minor": 5
}
