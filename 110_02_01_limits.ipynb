{
 "cells": [
  {
   "cell_type": "markdown",
   "id": "89ab1293",
   "metadata": {},
   "source": [
    "# Limit of a Function"
   ]
  },
  {
   "cell_type": "markdown",
   "id": "989c277e",
   "metadata": {},
   "source": [
    "## Definition\n",
    "\n",
    "The function $f(x)$ has a limit of L as $x$ approaches $a$,\n",
    "\n",
    "$$ \\lim_{x\\to a} f(x) = L$$\n",
    "\n",
    "if the value of $f(x)$ can be made as close to the number $L$ as we please by taking x values *sufficiently close* to, but not equal to, $a$."
   ]
  },
  {
   "cell_type": "markdown",
   "id": "39f471e2",
   "metadata": {},
   "source": [
    "This is a text \n",
    "\n",
    "\n",
    "```{math}\n",
    "   \\begin{eqnarray}\n",
    "      y    & = & ax^2 + bx + c \\\\\n",
    "      f(x) & = & x^2 + 2xy + y^2\n",
    "   \\end{eqnarray}\n",
    "```"
   ]
  },
  {
   "cell_type": "code",
   "execution_count": 2,
   "id": "2a617e79",
   "metadata": {},
   "outputs": [
    {
     "data": {
      "text/plain": [
       "2"
      ]
     },
     "execution_count": 2,
     "metadata": {},
     "output_type": "execute_result"
    }
   ],
   "source": [
    "1+1"
   ]
  },
  {
   "cell_type": "code",
   "execution_count": null,
   "id": "3ac4e0a2",
   "metadata": {},
   "outputs": [],
   "source": []
  }
 ],
 "metadata": {
  "kernelspec": {
   "display_name": "Python 3",
   "language": "python",
   "name": "python3"
  },
  "language_info": {
   "codemirror_mode": {
    "name": "ipython",
    "version": 3
   },
   "file_extension": ".py",
   "mimetype": "text/x-python",
   "name": "python",
   "nbconvert_exporter": "python",
   "pygments_lexer": "ipython3",
   "version": "3.9.4"
  }
 },
 "nbformat": 4,
 "nbformat_minor": 5
}
