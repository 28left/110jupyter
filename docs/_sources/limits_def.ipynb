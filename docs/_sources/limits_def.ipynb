{
 "cells": [
  {
   "cell_type": "markdown",
   "id": "1a904847",
   "metadata": {},
   "source": [
    "# Limit of a Function"
   ]
  },
  {
   "cell_type": "markdown",
   "id": "126769ec",
   "metadata": {},
   "source": [
    "## Definition of a Limit\n",
    "\n",
    "The function $f(x)$ has a limit of L as $x$ approaches $a$,\n",
    "\n",
    "$$ \\lim_{x\\to a} f(x) = L$$\n",
    "\n",
    "if the value of $f(x)$ can be made as close to the number $L$ as we please by taking x values *sufficiently close* to, but not equal to, $a$."
   ]
  },
  {
   "cell_type": "markdown",
   "id": "9d6902f8",
   "metadata": {},
   "source": [
    "Keep in mind that the value of a limit does not depend on the value of the function at $x=a$.  In fact, it is possible that $\\lim\\limits_{x\\to a}f(x) = L$ even though\n",
    "- $f(a)$ does not exist, or\n",
    "- $f(a)$ exists, but is not equal to $L$."
   ]
  },
  {
   "cell_type": "code",
   "execution_count": 1,
   "id": "19db5d81",
   "metadata": {
    "tags": [
     "remove-cell",
     "thebe-init"
    ]
   },
   "outputs": [
    {
     "data": {
      "text/latex": [
       "$\\displaystyle -1$"
      ],
      "text/plain": [
       "-1"
      ]
     },
     "metadata": {
      "scrapbook": {
       "mime_prefix": "application/papermill.record/",
       "name": "limit_val"
      }
     },
     "output_type": "display_data"
    }
   ],
   "source": [
    "from cyllene import *\n",
    "f = function('quadratic')\n",
    "\n",
    "from myst_nb import glue\n",
    "limit = f(1)\n",
    "glue(\"limit_val\", limit, display=False)"
   ]
  },
  {
   "cell_type": "markdown",
   "id": "4adf29cf",
   "metadata": {
    "tags": []
   },
   "source": [
    "### Exercise"
   ]
  },
  {
   "cell_type": "markdown",
   "id": "9fccd592",
   "metadata": {},
   "source": [
    "Below, you see a table in which we evaluate a function $f(x)$ for values of $x$ that are closer and closer to $1$ (but **not equal to** $1$). What do the values $f(x)$ suggest $\\lim_{x\\to 1} f(x)$ would be?"
   ]
  },
  {
   "cell_type": "code",
   "execution_count": 2,
   "id": "f8d38669",
   "metadata": {
    "tags": [
     "remove-input"
    ]
   },
   "outputs": [
    {
     "data": {
      "text/html": [
       "<style  type=\"text/css\" >\n",
       "</style><table id=\"T_08adc_\" ><thead>    <tr>        <th class=\"col_heading level0 col0\" >x</th>        <th class=\"col_heading level0 col1\" >f(x)</th>    </tr></thead><tbody>\n",
       "                <tr>\n",
       "                                <td id=\"T_08adc_row0_col0\" class=\"data row0 col0\" >1.100000</td>\n",
       "                        <td id=\"T_08adc_row0_col1\" class=\"data row0 col1\" >0.0600000000000014</td>\n",
       "            </tr>\n",
       "            <tr>\n",
       "                                <td id=\"T_08adc_row1_col0\" class=\"data row1 col0\" >1.010000</td>\n",
       "                        <td id=\"T_08adc_row1_col1\" class=\"data row1 col1\" >-0.899400000000000</td>\n",
       "            </tr>\n",
       "            <tr>\n",
       "                                <td id=\"T_08adc_row2_col0\" class=\"data row2 col0\" >1.001000</td>\n",
       "                        <td id=\"T_08adc_row2_col1\" class=\"data row2 col1\" >-0.989994000000002</td>\n",
       "            </tr>\n",
       "            <tr>\n",
       "                                <td id=\"T_08adc_row3_col0\" class=\"data row3 col0\" >1.000100</td>\n",
       "                        <td id=\"T_08adc_row3_col1\" class=\"data row3 col1\" >-0.998999940000000</td>\n",
       "            </tr>\n",
       "    </tbody></table>"
      ],
      "text/plain": [
       "<pandas.io.formats.style.Styler at 0x10331ffd0>"
      ]
     },
     "execution_count": 2,
     "metadata": {},
     "output_type": "execute_result"
    }
   ],
   "source": [
    "tab = function_to_table(f, [1.1, 1.01, 1.001, 1.0001])\n",
    "output_table(tab)"
   ]
  },
  {
   "cell_type": "markdown",
   "id": "4eb0085f",
   "metadata": {
    "tags": []
   },
   "source": [
    "```{admonition} Click the button to show solution.\n",
    ":class: dropdown\n",
    "The values $f(x)$ get closer to {glue:}`limit_val` as $x$ gets closer to $1$.\n",
    "This suggests that $\\lim_{x \\to 2} f(x) =$  {glue:}`limit_val`.\n",
    "```"
   ]
  },
  {
   "cell_type": "markdown",
   "id": "cb1bf5ae",
   "metadata": {},
   "source": [
    "## One-Sided Limits"
   ]
  },
  {
   "cell_type": "markdown",
   "id": "74f9bade",
   "metadata": {},
   "source": [
    "The function $f(x)$ has the **right-hand limit** $L$ as $x$ approaches $a$ from the right, \n",
    "\n",
    "$$\\lim_{x\\to a^+} f(x) = L $$ \n",
    "\n",
    "if the values of $f(x)$ can be made as close to $L$ as we please by taking $x$  sufficiently close to (but not equal to) $a$ and to the right of $a$ (i.e., $x>a$)."
   ]
  },
  {
   "cell_type": "markdown",
   "id": "655195e4",
   "metadata": {},
   "source": [
    "Similarly, the function $f(x)$ has the **left-hand limit** $M$ as $x$ approaches $a$ from the left, \n",
    "\n",
    "$$\\lim_{x\\to a^-} f(x) = M$$ \n",
    "\n",
    "if the values of $f(x)$ can be made as close to $M$ as we please by taking $x$ sufficiently close to (but not equal to) $a$ and to the left of $a$ (i.e., $x<a$)."
   ]
  },
  {
   "cell_type": "markdown",
   "id": "bd12c004",
   "metadata": {},
   "source": [
    "### Exercise"
   ]
  },
  {
   "cell_type": "markdown",
   "id": "d1104629",
   "metadata": {},
   "source": [
    "Below, you see a table in which we evaluate a function $f(x)$ for values of $x$ that are closer and closer to $1$ (but **not equal to** $1$). The first four values are for inputs $x < 1$, the next four are for inputs $x> 1$. \n",
    "\n",
    "What do the values $f(x)$ suggest $\\lim_{x\\to 1^+} f(x)$ and $\\lim_{x\\to 1^-} f(x)$  would be?"
   ]
  },
  {
   "cell_type": "code",
   "execution_count": 3,
   "id": "08c296df",
   "metadata": {
    "tags": [
     "remove-input"
    ]
   },
   "outputs": [
    {
     "data": {
      "text/html": [
       "<style  type=\"text/css\" >\n",
       "</style><table id=\"T_174af_\" ><thead>    <tr>        <th class=\"col_heading level0 col0\" >x</th>        <th class=\"col_heading level0 col1\" >f(x)</th>    </tr></thead><tbody>\n",
       "                <tr>\n",
       "                                <td id=\"T_174af_row0_col0\" class=\"data row0 col0\" >0.900000</td>\n",
       "                        <td id=\"T_174af_row0_col1\" class=\"data row0 col1\" >1.810000</td>\n",
       "            </tr>\n",
       "            <tr>\n",
       "                                <td id=\"T_174af_row1_col0\" class=\"data row1 col0\" >0.990000</td>\n",
       "                        <td id=\"T_174af_row1_col1\" class=\"data row1 col1\" >1.980100</td>\n",
       "            </tr>\n",
       "            <tr>\n",
       "                                <td id=\"T_174af_row2_col0\" class=\"data row2 col0\" >0.999000</td>\n",
       "                        <td id=\"T_174af_row2_col1\" class=\"data row2 col1\" >1.998001</td>\n",
       "            </tr>\n",
       "            <tr>\n",
       "                                <td id=\"T_174af_row3_col0\" class=\"data row3 col0\" >0.999900</td>\n",
       "                        <td id=\"T_174af_row3_col1\" class=\"data row3 col1\" >1.999800</td>\n",
       "            </tr>\n",
       "            <tr>\n",
       "                                <td id=\"T_174af_row4_col0\" class=\"data row4 col0\" >1.000100</td>\n",
       "                        <td id=\"T_174af_row4_col1\" class=\"data row4 col1\" >1.000600</td>\n",
       "            </tr>\n",
       "            <tr>\n",
       "                                <td id=\"T_174af_row5_col0\" class=\"data row5 col0\" >1.001000</td>\n",
       "                        <td id=\"T_174af_row5_col1\" class=\"data row5 col1\" >1.006003</td>\n",
       "            </tr>\n",
       "            <tr>\n",
       "                                <td id=\"T_174af_row6_col0\" class=\"data row6 col0\" >1.010000</td>\n",
       "                        <td id=\"T_174af_row6_col1\" class=\"data row6 col1\" >1.060300</td>\n",
       "            </tr>\n",
       "            <tr>\n",
       "                                <td id=\"T_174af_row7_col0\" class=\"data row7 col0\" >1.100000</td>\n",
       "                        <td id=\"T_174af_row7_col1\" class=\"data row7 col1\" >1.630000</td>\n",
       "            </tr>\n",
       "    </tbody></table>"
      ],
      "text/plain": [
       "<pandas.io.formats.style.Styler at 0x1200b0a60>"
      ]
     },
     "execution_count": 3,
     "metadata": {},
     "output_type": "execute_result"
    }
   ],
   "source": [
    "def one_sided(x):\n",
    "    if x >= 1:\n",
    "        return 3*x**2-2\n",
    "    else:\n",
    "        return x**2+1\n",
    "    \n",
    "tab2 = function_to_table(one_sided, [0.9, 0.99, 0.999, 0.9999, 1.0001, 1.001, 1.01, 1.1])\n",
    "output_table(tab2)"
   ]
  },
  {
   "cell_type": "markdown",
   "id": "df097bec",
   "metadata": {},
   "source": [
    "```{admonition} Click the button to show solution.\n",
    ":class: dropdown\n",
    "If approaching from the left ($x< 1$), the values $f(x)$ get closer to $2$ as $x$ gets closer to $1$. This suggests that $\\lim_{x \\to 1^-} f(x) = 2$.\n",
    "\n",
    "If approaching from the right ($x> 1$), the values $f(x)$ get closer to $1$ as $x$ gets closer to $1$. This suggests that $\\lim_{x \\to 1^+} f(x) = 1$.\n",
    "```"
   ]
  },
  {
   "cell_type": "markdown",
   "id": "ffd960a4",
   "metadata": {},
   "source": [
    "```{link-button} https://binder.jupytr.cloud.psu.edu/v2/gh/28left/110jupyter/master?filepath=limits_def_TIY.ipynb\n",
    "    :type: url\n",
    "    :text: Try it yourself!\n",
    "    :classes: btn-outline-primary btn-block\n",
    "```"
   ]
  }
 ],
 "metadata": {
  "jupytext": {
   "formats": "ipynb,md:myst",
   "text_representation": {
    "extension": ".md",
    "format_name": "myst",
    "format_version": 0.13,
    "jupytext_version": "1.10.3"
   }
  },
  "kernelspec": {
   "display_name": "Python 3.9.4 64-bit",
   "language": "python",
   "name": "python394jvsc74a57bd0085761d8a84a55f3b91b6696b289e6480df59aded311489218ab7e58f5e20cd3"
  },
  "language_info": {
   "codemirror_mode": {
    "name": "ipython",
    "version": 3
   },
   "file_extension": ".py",
   "mimetype": "text/x-python",
   "name": "python",
   "nbconvert_exporter": "python",
   "pygments_lexer": "ipython3",
   "version": "3.9.4"
  },
  "source_map": [
   13,
   17,
   27,
   33,
   44,
   48,
   52,
   59,
   67,
   71,
   79,
   87,
   91,
   97,
   108,
   117
  ]
 },
 "nbformat": 4,
 "nbformat_minor": 5
}