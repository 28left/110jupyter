{
 "cells": [
  {
   "cell_type": "markdown",
   "id": "a456539c",
   "metadata": {},
   "source": [
    "# Computational Examples: Limits"
   ]
  },
  {
   "cell_type": "code",
   "execution_count": 1,
   "id": "ba7c2900",
   "metadata": {
    "hide_input": false,
    "init_cell": true,
    "tags": [
     "thebe-init",
     "thebelab-init",
     "hide-cell"
    ]
   },
   "outputs": [
    {
     "data": {
      "text/markdown": [
       "Initialization successful"
      ],
      "text/plain": [
       "<IPython.core.display.Markdown object>"
      ]
     },
     "metadata": {},
     "output_type": "display_data"
    }
   ],
   "source": [
    "# The following line will initialize the notebook by loading some libraries necessary to run the code below\n",
    "%run limits_def.py"
   ]
  },
  {
   "cell_type": "markdown",
   "id": "9ad93b29",
   "metadata": {},
   "source": [
    "## Estimating limits by evaluating a function"
   ]
  },
  {
   "cell_type": "markdown",
   "id": "eee45917",
   "metadata": {},
   "source": [
    "In this example, we will randomly generate a function $g(x)$. We will not know the function $g(x)$ explicitely, but we can evaluate $g$ for specific $x$ to estimate limits."
   ]
  },
  {
   "cell_type": "code",
   "execution_count": 2,
   "id": "4ca0b343",
   "metadata": {},
   "outputs": [
    {
     "data": {
      "text/latex": [
       "$\\text{New $g(x), s$ generated}$"
      ],
      "text/plain": [
       "<IPython.core.display.Latex object>"
      ]
     },
     "metadata": {},
     "output_type": "display_data"
    },
    {
     "data": {
      "text/latex": [
       "$s = -0.2$"
      ],
      "text/plain": [
       "<IPython.core.display.Latex object>"
      ]
     },
     "metadata": {},
     "output_type": "display_data"
    },
    {
     "data": {
      "text/markdown": [
       "**Problem**: *Estimate the one-sided limits*  "
      ],
      "text/plain": [
       "<IPython.core.display.Markdown object>"
      ]
     },
     "metadata": {},
     "output_type": "display_data"
    },
    {
     "data": {
      "text/latex": [
       "$ \\lim_{x \\to s^-} g(x) \\text{ and } \\lim_{x \\to s^+} g(x)$"
      ],
      "text/plain": [
       "<IPython.core.display.Latex object>"
      ]
     },
     "metadata": {},
     "output_type": "display_data"
    }
   ],
   "source": [
    "g,s = generate_example()"
   ]
  },
  {
   "cell_type": "markdown",
   "id": "7fbaeb80",
   "metadata": {},
   "source": [
    "We first compute a table with values of $g(x)$ for numbers $x$ close, *but not equal to*, $s$:"
   ]
  },
  {
   "cell_type": "code",
   "execution_count": 3,
   "id": "3006f15c",
   "metadata": {},
   "outputs": [
    {
     "data": {
      "text/html": [
       "<style  type=\"text/css\" >\n",
       "</style><table id=\"T_5aeb1_\" ><thead>    <tr>        <th class=\"col_heading level0 col0\" >x</th>        <th class=\"col_heading level0 col1\" >f(x)</th>    </tr></thead><tbody>\n",
       "                <tr>\n",
       "                                <td id=\"T_5aeb1_row0_col0\" class=\"data row0 col0\" >-0.300000</td>\n",
       "                        <td id=\"T_5aeb1_row0_col1\" class=\"data row0 col1\" >-6.45000000000000</td>\n",
       "            </tr>\n",
       "            <tr>\n",
       "                                <td id=\"T_5aeb1_row1_col0\" class=\"data row1 col0\" >-0.210000</td>\n",
       "                        <td id=\"T_5aeb1_row1_col1\" class=\"data row1 col1\" >-6.22050000000000</td>\n",
       "            </tr>\n",
       "            <tr>\n",
       "                                <td id=\"T_5aeb1_row2_col0\" class=\"data row2 col0\" >-0.201000</td>\n",
       "                        <td id=\"T_5aeb1_row2_col1\" class=\"data row2 col1\" >-6.20200500000000</td>\n",
       "            </tr>\n",
       "            <tr>\n",
       "                                <td id=\"T_5aeb1_row3_col0\" class=\"data row3 col0\" >-0.199000</td>\n",
       "                        <td id=\"T_5aeb1_row3_col1\" class=\"data row3 col1\" >-5.29800500000000</td>\n",
       "            </tr>\n",
       "            <tr>\n",
       "                                <td id=\"T_5aeb1_row4_col0\" class=\"data row4 col0\" >-0.190000</td>\n",
       "                        <td id=\"T_5aeb1_row4_col1\" class=\"data row4 col1\" >-5.28050000000000</td>\n",
       "            </tr>\n",
       "            <tr>\n",
       "                                <td id=\"T_5aeb1_row5_col0\" class=\"data row5 col0\" >-0.100000</td>\n",
       "                        <td id=\"T_5aeb1_row5_col1\" class=\"data row5 col1\" >-5.15000000000000</td>\n",
       "            </tr>\n",
       "    </tbody></table>"
      ],
      "text/plain": [
       "<pandas.io.formats.style.Styler at 0x136b5f880>"
      ]
     },
     "execution_count": 3,
     "metadata": {},
     "output_type": "execute_result"
    }
   ],
   "source": [
    "show_table(g, [s-0.1, s-0.01, s-0.001, s+0.001, s+0.01, s+0.1])"
   ]
  },
  {
   "cell_type": "markdown",
   "id": "f9c32625",
   "metadata": {},
   "source": [
    "It appears that the left-hand limit is not equal to the right-hand limit.\n",
    "\n",
    "For further detail, we can evaluate $g$ at additional inputs:"
   ]
  },
  {
   "cell_type": "code",
   "execution_count": 4,
   "id": "31f2fc25",
   "metadata": {},
   "outputs": [
    {
     "data": {
      "text/latex": [
       "$\\displaystyle -6.20000020000005$"
      ],
      "text/plain": [
       "-6.20000020000005"
      ]
     },
     "execution_count": 4,
     "metadata": {},
     "output_type": "execute_result"
    }
   ],
   "source": [
    "g(s-0.0000001)"
   ]
  },
  {
   "cell_type": "code",
   "execution_count": 5,
   "id": "fd72d594",
   "metadata": {},
   "outputs": [
    {
     "data": {
      "text/latex": [
       "$\\displaystyle -5.29999980000005$"
      ],
      "text/plain": [
       "-5.29999980000005"
      ]
     },
     "execution_count": 5,
     "metadata": {},
     "output_type": "execute_result"
    }
   ],
   "source": [
    "g(s+0.0000001)"
   ]
  },
  {
   "cell_type": "markdown",
   "id": "ba2d4b0e",
   "metadata": {},
   "source": [
    "These values should give us a good estimate of the limits. \n",
    "\n",
    "Let's confirm this by computing the limit formally:"
   ]
  },
  {
   "cell_type": "code",
   "execution_count": 6,
   "id": "ab84721f",
   "metadata": {},
   "outputs": [
    {
     "data": {
      "text/latex": [
       "$\\displaystyle -6.2$"
      ],
      "text/plain": [
       "-6.20000000000000"
      ]
     },
     "execution_count": 6,
     "metadata": {},
     "output_type": "execute_result"
    }
   ],
   "source": [
    "lim_left(g,s)"
   ]
  },
  {
   "cell_type": "code",
   "execution_count": 7,
   "id": "57317d8f",
   "metadata": {},
   "outputs": [
    {
     "data": {
      "text/latex": [
       "$\\displaystyle -5.3$"
      ],
      "text/plain": [
       "-5.30000000000000"
      ]
     },
     "execution_count": 7,
     "metadata": {},
     "output_type": "execute_result"
    }
   ],
   "source": [
    "lim_right(g,s)"
   ]
  },
  {
   "cell_type": "markdown",
   "id": "7ec008c0",
   "metadata": {},
   "source": [
    "Finally, note that in this example both limits are **different from the value of $g$ at $s$**:"
   ]
  },
  {
   "cell_type": "code",
   "execution_count": 9,
   "id": "a235448d",
   "metadata": {},
   "outputs": [
    {
     "data": {
      "text/latex": [
       "$\\displaystyle -4.4$"
      ],
      "text/plain": [
       "-4.40000000000000"
      ]
     },
     "execution_count": 9,
     "metadata": {},
     "output_type": "execute_result"
    }
   ],
   "source": [
    "g(s)"
   ]
  },
  {
   "cell_type": "markdown",
   "id": "8574a934",
   "metadata": {},
   "source": [
    "Now try this analysis again with different $g$ and $s$. Activate the `Live Code` option and run the cell `g = generate_example()` above to generate new $g,s$."
   ]
  }
 ],
 "metadata": {
  "celltoolbar": "Tags",
  "hide_input": false,
  "kernelspec": {
   "display_name": "Python 3",
   "language": "python",
   "name": "python3"
  },
  "language_info": {
   "codemirror_mode": {
    "name": "ipython",
    "version": 3
   },
   "file_extension": ".py",
   "mimetype": "text/x-python",
   "name": "python",
   "nbconvert_exporter": "python",
   "pygments_lexer": "ipython3",
   "version": "3.9.4"
  }
 },
 "nbformat": 4,
 "nbformat_minor": 5
}
