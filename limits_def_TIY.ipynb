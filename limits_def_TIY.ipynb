{
 "cells": [
  {
   "cell_type": "code",
   "execution_count": 1,
   "id": "b587fd28-18fe-40f4-81db-fd64b90e3cf2",
   "metadata": {
    "hide_input": false,
    "init_cell": true
   },
   "outputs": [
    {
     "name": "stdout",
     "output_type": "stream",
     "text": [
      "Initialization successful!\n"
     ]
    }
   ],
   "source": [
    "from cyllene import *\n",
    "%initialize limits_def"
   ]
  },
  {
   "cell_type": "markdown",
   "id": "a25b6290",
   "metadata": {},
   "source": [
    "## Numerically estimating limits"
   ]
  },
  {
   "cell_type": "code",
   "execution_count": 2,
   "id": "fc16056a",
   "metadata": {
    "init_cell": true
   },
   "outputs": [
    {
     "data": {
      "text/markdown": [
       "### Problem 1"
      ],
      "text/plain": [
       "<IPython.core.display.Markdown object>"
      ]
     },
     "metadata": {},
     "output_type": "display_data"
    },
    {
     "data": {
      "text/markdown": [
       "Below, you see a table in which we evaluate a function $f(x)$ for values of $x$ that are closer and closer to $-1$ (but **not equal to** $-1$). \\\n",
       "    What do the values $f(x)$ suggest $\\lim_{x\\to -1} f(x)$ would be?"
      ],
      "text/plain": [
       "<IPython.core.display.Markdown object>"
      ]
     },
     "metadata": {},
     "output_type": "display_data"
    },
    {
     "data": {
      "application/vnd.jupyter.widget-view+json": {
       "model_id": "d8841f4fefa54a778e2a9dc0a3ba121c",
       "version_major": 2,
       "version_minor": 0
      },
      "text/plain": [
       "Sheet(cells=(Cell(column_end=3, column_start=0, numeric_format='0.00000', row_end=0, row_start=0, squeeze_colu…"
      ]
     },
     "metadata": {},
     "output_type": "display_data"
    },
    {
     "data": {
      "text/markdown": [
       "(You can edit the table to compute further values of $f$)"
      ],
      "text/plain": [
       "<IPython.core.display.Markdown object>"
      ]
     },
     "metadata": {},
     "output_type": "display_data"
    },
    {
     "data": {
      "text/markdown": [],
      "text/plain": [
       "<IPython.core.display.Markdown object>"
      ]
     },
     "metadata": {},
     "output_type": "display_data"
    },
    {
     "data": {
      "text/markdown": [
       "*Enter the answer(s) in the cell below.*"
      ],
      "text/plain": [
       "<IPython.core.display.Markdown object>"
      ]
     },
     "metadata": {},
     "output_type": "display_data"
    }
   ],
   "source": [
    "%problem 1"
   ]
  },
  {
   "cell_type": "code",
   "execution_count": null,
   "id": "860833c8",
   "metadata": {},
   "outputs": [],
   "source": [
    "%%answer Problem 1\n"
   ]
  },
  {
   "cell_type": "markdown",
   "id": "36e48c4f",
   "metadata": {},
   "source": [
    "## Numerically estimating one-sided limits"
   ]
  },
  {
   "cell_type": "markdown",
   "id": "56a7fb94",
   "metadata": {
    "slideshow": {
     "slide_type": "subslide"
    }
   },
   "source": [
    "In the cell below, you can evaluate an unknow function $g(x)$ for any value of $x$. For example, to compute $g(3)$ you would enter `g(3)` in the cell below and press `Shift+Enter` to execute."
   ]
  },
  {
   "cell_type": "code",
   "execution_count": null,
   "id": "f57e1ae2",
   "metadata": {},
   "outputs": [],
   "source": [
    "g(3)"
   ]
  },
  {
   "cell_type": "markdown",
   "id": "2dc13c68",
   "metadata": {},
   "source": [
    "---"
   ]
  },
  {
   "cell_type": "code",
   "execution_count": 3,
   "id": "2d442c9b",
   "metadata": {
    "init_cell": true
   },
   "outputs": [
    {
     "data": {
      "text/markdown": [
       "### Problem 2"
      ],
      "text/plain": [
       "<IPython.core.display.Markdown object>"
      ]
     },
     "metadata": {},
     "output_type": "display_data"
    },
    {
     "data": {
      "text/markdown": [
       "Use the function evaluation cell above to estimate the left-hand limit $\\lim_{x \\to {1}^-} g(x)$"
      ],
      "text/plain": [
       "<IPython.core.display.Markdown object>"
      ]
     },
     "metadata": {},
     "output_type": "display_data"
    },
    {
     "data": {
      "text/markdown": [],
      "text/plain": [
       "<IPython.core.display.Markdown object>"
      ]
     },
     "metadata": {},
     "output_type": "display_data"
    },
    {
     "data": {
      "text/markdown": [
       "*Enter the answer(s) in the cell below.*"
      ],
      "text/plain": [
       "<IPython.core.display.Markdown object>"
      ]
     },
     "metadata": {},
     "output_type": "display_data"
    }
   ],
   "source": [
    "%problem 2"
   ]
  },
  {
   "cell_type": "code",
   "execution_count": null,
   "id": "1afd4e41",
   "metadata": {},
   "outputs": [],
   "source": [
    "%%answer Problem 2\n"
   ]
  },
  {
   "cell_type": "code",
   "execution_count": 4,
   "id": "5dce2f54",
   "metadata": {
    "init_cell": true
   },
   "outputs": [
    {
     "data": {
      "text/markdown": [
       "### Problem 3"
      ],
      "text/plain": [
       "<IPython.core.display.Markdown object>"
      ]
     },
     "metadata": {},
     "output_type": "display_data"
    },
    {
     "data": {
      "text/markdown": [
       "Use the function evaluation cell above to estimate the right-hand limit $\\lim_{x \\to {1}^+} g(x)$"
      ],
      "text/plain": [
       "<IPython.core.display.Markdown object>"
      ]
     },
     "metadata": {},
     "output_type": "display_data"
    },
    {
     "data": {
      "text/markdown": [],
      "text/plain": [
       "<IPython.core.display.Markdown object>"
      ]
     },
     "metadata": {},
     "output_type": "display_data"
    },
    {
     "data": {
      "text/markdown": [
       "*Enter the answer(s) in the cell below.*"
      ],
      "text/plain": [
       "<IPython.core.display.Markdown object>"
      ]
     },
     "metadata": {},
     "output_type": "display_data"
    }
   ],
   "source": [
    "%problem 3"
   ]
  },
  {
   "cell_type": "code",
   "execution_count": null,
   "id": "2d16fd18",
   "metadata": {},
   "outputs": [],
   "source": [
    "%%answer Problem 3\n"
   ]
  }
 ],
 "metadata": {
  "hide_input": false,
  "kernelspec": {
   "display_name": "Python 3",
   "language": "python",
   "name": "python3"
  },
  "language_info": {
   "codemirror_mode": {
    "name": "ipython",
    "version": 3
   },
   "file_extension": ".py",
   "mimetype": "text/x-python",
   "name": "python",
   "nbconvert_exporter": "python",
   "pygments_lexer": "ipython3",
   "version": "3.9.4"
  }
 },
 "nbformat": 4,
 "nbformat_minor": 5
}
