{
 "cells": [
  {
   "cell_type": "code",
   "execution_count": 3,
   "id": "b587fd28-18fe-40f4-81db-fd64b90e3cf2",
   "metadata": {
    "hide_input": false,
    "init_cell": true
   },
   "outputs": [],
   "source": [
    "%run limits_def.py"
   ]
  },
  {
   "cell_type": "markdown",
   "id": "a25b6290",
   "metadata": {},
   "source": [
    "## Numerically estimating limits"
   ]
  },
  {
   "cell_type": "code",
   "execution_count": 6,
   "id": "fc16056a",
   "metadata": {
    "hide_input": true,
    "init_cell": true
   },
   "outputs": [
    {
     "data": {
      "text/markdown": [
       "### <font color='SteelBlue'>&#128260;  Problem 1</font>"
      ],
      "text/plain": [
       "<IPython.core.display.Markdown object>"
      ]
     },
     "metadata": {},
     "output_type": "display_data"
    },
    {
     "data": {
      "text/markdown": [
       "Below, you see a table in which we evaluate a function $f(x)$ for values of $x$ that are closer and closer to $-2$ (but **not equal to** $-2$). \\\n",
       "    What do the values $f(x)$ suggest $\\lim_{x\\to -2} f(x)$ would be?"
      ],
      "text/plain": [
       "<IPython.core.display.Markdown object>"
      ]
     },
     "metadata": {},
     "output_type": "display_data"
    },
    {
     "data": {
      "text/html": [
       "<div>\n",
       "<style scoped>\n",
       "    .dataframe tbody tr th:only-of-type {\n",
       "        vertical-align: middle;\n",
       "    }\n",
       "\n",
       "    .dataframe tbody tr th {\n",
       "        vertical-align: top;\n",
       "    }\n",
       "\n",
       "    .dataframe thead th {\n",
       "        text-align: right;\n",
       "    }\n",
       "</style>\n",
       "<table border=\"1\" class=\"dataframe\">\n",
       "  <thead>\n",
       "    <tr style=\"text-align: right;\">\n",
       "      <th></th>\n",
       "      <th>x</th>\n",
       "      <th>f(x)</th>\n",
       "    </tr>\n",
       "  </thead>\n",
       "  <tbody>\n",
       "    <tr>\n",
       "      <th>0</th>\n",
       "      <td>-2.100</td>\n",
       "      <td>-7.57100000000000</td>\n",
       "    </tr>\n",
       "    <tr>\n",
       "      <th>1</th>\n",
       "      <td>-2.010</td>\n",
       "      <td>-6.15070100000000</td>\n",
       "    </tr>\n",
       "    <tr>\n",
       "      <th>2</th>\n",
       "      <td>-2.001</td>\n",
       "      <td>-6.01500700100000</td>\n",
       "    </tr>\n",
       "    <tr>\n",
       "      <th>3</th>\n",
       "      <td>-1.999</td>\n",
       "      <td>-5.98500699900000</td>\n",
       "    </tr>\n",
       "    <tr>\n",
       "      <th>4</th>\n",
       "      <td>-1.990</td>\n",
       "      <td>-5.85069900000000</td>\n",
       "    </tr>\n",
       "    <tr>\n",
       "      <th>5</th>\n",
       "      <td>-1.900</td>\n",
       "      <td>-4.56900000000000</td>\n",
       "    </tr>\n",
       "  </tbody>\n",
       "</table>\n",
       "</div>"
      ],
      "text/plain": [
       "       x               f(x)\n",
       "0 -2.100  -7.57100000000000\n",
       "1 -2.010  -6.15070100000000\n",
       "2 -2.001  -6.01500700100000\n",
       "3 -1.999  -5.98500699900000\n",
       "4 -1.990  -5.85069900000000\n",
       "5 -1.900  -4.56900000000000"
      ]
     },
     "metadata": {},
     "output_type": "display_data"
    },
    {
     "data": {
      "text/markdown": [
       "*Enter the answer(s) in the cell below.*"
      ],
      "text/plain": [
       "<IPython.core.display.Markdown object>"
      ]
     },
     "metadata": {},
     "output_type": "display_data"
    }
   ],
   "source": [
    "%problem 1"
   ]
  },
  {
   "cell_type": "code",
   "execution_count": null,
   "id": "860833c8",
   "metadata": {},
   "outputs": [],
   "source": [
    "%%answer Problem 1\n"
   ]
  },
  {
   "cell_type": "markdown",
   "id": "36e48c4f",
   "metadata": {},
   "source": [
    "## Numerically estimating one-sided limits"
   ]
  },
  {
   "cell_type": "code",
   "execution_count": 5,
   "id": "2d442c9b",
   "metadata": {
    "hide_input": true,
    "init_cell": true,
    "scrolled": true
   },
   "outputs": [
    {
     "data": {
      "text/markdown": [
       "### <font color='SteelBlue'>&#128260;  Problem 2</font>"
      ],
      "text/plain": [
       "<IPython.core.display.Markdown object>"
      ]
     },
     "metadata": {},
     "output_type": "display_data"
    },
    {
     "data": {
      "text/markdown": [
       "Below, you see a spreadshet in which some values of a function $f(x)$ are computed. \\\n",
       "    What do the values $f(x)$ suggest the **right-hand limit** $\\lim_{x\\to 2^+} f(x)$ would be?"
      ],
      "text/plain": [
       "<IPython.core.display.Markdown object>"
      ]
     },
     "metadata": {},
     "output_type": "display_data"
    },
    {
     "data": {
      "application/vnd.jupyter.widget-view+json": {
       "model_id": "d13884d8d807410aa0cca9661d5a6523",
       "version_major": 2,
       "version_minor": 0
      },
      "text/plain": [
       "Sheet(cells=(Cell(column_end=3, column_start=0, numeric_format='0.00000', row_end=0, row_start=0, squeeze_colu…"
      ]
     },
     "metadata": {},
     "output_type": "display_data"
    },
    {
     "data": {
      "text/markdown": [
       "(You can edit the spreadsheet to compute further values of $f$)"
      ],
      "text/plain": [
       "<IPython.core.display.Markdown object>"
      ]
     },
     "metadata": {},
     "output_type": "display_data"
    },
    {
     "data": {
      "text/markdown": [
       "*Enter the answer(s) in the cell below.*"
      ],
      "text/plain": [
       "<IPython.core.display.Markdown object>"
      ]
     },
     "metadata": {},
     "output_type": "display_data"
    }
   ],
   "source": [
    "%problem 2"
   ]
  },
  {
   "cell_type": "code",
   "execution_count": null,
   "id": "1afd4e41",
   "metadata": {},
   "outputs": [],
   "source": [
    "%%answer Problem 2\n"
   ]
  }
 ],
 "metadata": {
  "hide_input": false,
  "kernelspec": {
   "display_name": "Python 3",
   "language": "python",
   "name": "python3"
  },
  "language_info": {
   "codemirror_mode": {
    "name": "ipython",
    "version": 3
   },
   "file_extension": ".py",
   "mimetype": "text/x-python",
   "name": "python",
   "nbconvert_exporter": "python",
   "pygments_lexer": "ipython3",
   "version": "3.9.4"
  }
 },
 "nbformat": 4,
 "nbformat_minor": 5
}
