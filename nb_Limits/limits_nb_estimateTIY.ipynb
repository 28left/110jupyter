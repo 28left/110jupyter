{
 "cells": [
  {
   "cell_type": "markdown",
   "id": "a456539c",
   "metadata": {},
   "source": [
    "# Computational Examples: Limits"
   ]
  },
  {
   "cell_type": "code",
   "execution_count": 2,
   "id": "ba7c2900",
   "metadata": {
    "hide_input": false,
    "init_cell": true,
    "tags": [
     "thebe-init",
     "thebelab-init",
     "hide-input"
    ]
   },
   "outputs": [
    {
     "data": {
      "text/markdown": [
       "Initialization successful"
      ],
      "text/plain": [
       "<IPython.core.display.Markdown object>"
      ]
     },
     "metadata": {},
     "output_type": "display_data"
    }
   ],
   "source": [
    "# The following line will initialize the notebook by loading some libraries necessary to run the code below\n",
    "%run limits_estimate.py"
   ]
  },
  {
   "cell_type": "markdown",
   "id": "9ad93b29",
   "metadata": {},
   "source": [
    "## Estimating limits by evaluating a function"
   ]
  },
  {
   "cell_type": "markdown",
   "id": "eee45917",
   "metadata": {},
   "source": [
    "In this example, we will randomly generate a function $g(x)$. We will not know the function $g(x)$ explicitely, but we can evaluate $g$ for specific $x$ to estimate limits. \n",
    "\n",
    "Let's generate a function $g(x)$ and a number $s$:"
   ]
  },
  {
   "cell_type": "code",
   "execution_count": null,
   "id": "4ca0b343",
   "metadata": {},
   "outputs": [],
   "source": [
    "g,s = generate_example()"
   ]
  },
  {
   "cell_type": "markdown",
   "id": "7fbaeb80",
   "metadata": {},
   "source": [
    "We first compute a table with values of $g(x)$ for numbers $x$ close, *but not equal to*, $s$:"
   ]
  },
  {
   "cell_type": "code",
   "execution_count": null,
   "id": "3006f15c",
   "metadata": {},
   "outputs": [],
   "source": [
    "show_table(g, [s-0.1, s-0.01, s-0.001, s+0.001, s+0.01, s+0.1])"
   ]
  },
  {
   "cell_type": "markdown",
   "id": "f9c32625",
   "metadata": {},
   "source": [
    "It appears that the left-hand limit is not equal to the right-hand limit.\n",
    "\n",
    "For further detail, we can evaluate $g$ at additional inputs:"
   ]
  },
  {
   "cell_type": "code",
   "execution_count": null,
   "id": "31f2fc25",
   "metadata": {},
   "outputs": [],
   "source": [
    "g(s-0.0000001)"
   ]
  },
  {
   "cell_type": "code",
   "execution_count": null,
   "id": "fd72d594",
   "metadata": {},
   "outputs": [],
   "source": [
    "g(s+0.0000001)"
   ]
  },
  {
   "cell_type": "markdown",
   "id": "ba2d4b0e",
   "metadata": {},
   "source": [
    "These values should give us a good estimate of the limits. \n",
    "\n",
    "Let's confirm this by computing the limit formally:"
   ]
  },
  {
   "cell_type": "code",
   "execution_count": null,
   "id": "ab84721f",
   "metadata": {},
   "outputs": [],
   "source": [
    "lim_left(g,s)"
   ]
  },
  {
   "cell_type": "code",
   "execution_count": null,
   "id": "57317d8f",
   "metadata": {},
   "outputs": [],
   "source": [
    "lim_right(g,s)"
   ]
  },
  {
   "cell_type": "markdown",
   "id": "91e3cbfd",
   "metadata": {},
   "source": [
    "Finally, note that in this example both limits are **different from the value of $g$ at $s$**:"
   ]
  },
  {
   "cell_type": "code",
   "execution_count": null,
   "id": "b4e2de8e",
   "metadata": {},
   "outputs": [],
   "source": [
    "g(s)"
   ]
  },
  {
   "cell_type": "markdown",
   "id": "8574a934",
   "metadata": {},
   "source": [
    "Now try this analysis again with different $g$ and $s$. Activate the `Live Code` option and run the cell `g,s = generate_example()` above to generate new $g,s$."
   ]
  }
 ],
 "metadata": {
  "hide_input": false,
  "kernelspec": {
   "display_name": "Python 3",
   "language": "python",
   "name": "python3"
  },
  "language_info": {
   "codemirror_mode": {
    "name": "ipython",
    "version": 3
   },
   "file_extension": ".py",
   "mimetype": "text/x-python",
   "name": "python",
   "nbconvert_exporter": "python",
   "pygments_lexer": "ipython3",
   "version": "3.9.4"
  }
 },
 "nbformat": 4,
 "nbformat_minor": 5
}
