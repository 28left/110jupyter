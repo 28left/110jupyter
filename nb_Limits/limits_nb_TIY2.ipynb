{
 "cells": [
  {
   "cell_type": "markdown",
   "id": "a456539c",
   "metadata": {},
   "source": [
    "# Computational Examples: Limits"
   ]
  },
  {
   "cell_type": "code",
   "execution_count": 1,
   "id": "ba7c2900",
   "metadata": {
    "hide_input": false,
    "init_cell": true,
    "tags": [
     "thebe-init",
     "thebelab-init",
     "hide-cell"
    ]
   },
   "outputs": [
    {
     "data": {
      "text/markdown": [
       "Initialization successful"
      ],
      "text/plain": [
       "<IPython.core.display.Markdown object>"
      ]
     },
     "metadata": {},
     "output_type": "display_data"
    }
   ],
   "source": [
    "# The following line will initialize the notebook by loading some libraries necessary to run the code below\n",
    "%run limits_def.py"
   ]
  },
  {
   "cell_type": "markdown",
   "id": "9ad93b29",
   "metadata": {},
   "source": [
    "## Estimating limits using a table"
   ]
  },
  {
   "cell_type": "markdown",
   "id": "5d4e903f",
   "metadata": {},
   "source": [
    "### Choose a function $f$ and a number $r$."
   ]
  },
  {
   "cell_type": "code",
   "execution_count": null,
   "id": "aae9ee88",
   "metadata": {
    "hide_input": true
   },
   "outputs": [],
   "source": [
    "f = function('x^3-3x+5')\n",
    "r = 1.3\n",
    "\n",
    "show_limit_analysis(f,r)"
   ]
  },
  {
   "cell_type": "markdown",
   "id": "32e8bff1-84c7-406c-a714-460c7a0e4404",
   "metadata": {},
   "source": [
    "### Confirm estimate"
   ]
  },
  {
   "cell_type": "markdown",
   "id": "09ec8fff",
   "metadata": {},
   "source": [
    "You can confirm your estimate by running the cell below. This will compute the limit formally."
   ]
  },
  {
   "cell_type": "code",
   "execution_count": null,
   "id": "5d63b4a9-f07a-4394-b9b9-2141ef25b438",
   "metadata": {},
   "outputs": [],
   "source": [
    "limit(f,r)"
   ]
  },
  {
   "cell_type": "markdown",
   "id": "af3b0766",
   "metadata": {},
   "source": [
    "### Try it yourself!"
   ]
  },
  {
   "cell_type": "markdown",
   "id": "f7b2b3ea",
   "metadata": {},
   "source": [
    "Repeat the above analysis for diffwerent values of $r$ and other choices of $f$.\n",
    "\n",
    "For example, try\n",
    "\n",
    "- $f(x) = 2^x+x^2-1$, $r = 0.5$\n",
    "- $f(x) = \\dfrac{1-x}{1+x^2}$, $r = -1.8$"
   ]
  },
  {
   "cell_type": "markdown",
   "id": "0ee2db10",
   "metadata": {},
   "source": [
    "## Estimating limits by evaluating a function"
   ]
  },
  {
   "cell_type": "markdown",
   "id": "184678c0",
   "metadata": {},
   "source": [
    "Next, we generate a random function $g(x)$ and pick a number $s$:"
   ]
  },
  {
   "cell_type": "code",
   "execution_count": null,
   "id": "f08c7065",
   "metadata": {},
   "outputs": [],
   "source": [
    "g = generate_random_function()"
   ]
  },
  {
   "cell_type": "markdown",
   "id": "eee45917",
   "metadata": {},
   "source": [
    "In this example, we will not know the function $g(x)$ explicitely, but we can evaluate $g$ for specific $x$, such as:"
   ]
  },
  {
   "cell_type": "code",
   "execution_count": null,
   "id": "00db7ad4",
   "metadata": {},
   "outputs": [],
   "source": [
    "g(3)"
   ]
  },
  {
   "cell_type": "markdown",
   "id": "74e9a7e5",
   "metadata": {},
   "source": [
    "Use the evaluation cells to compute values $g(x)$ for $x$ approaching $s$ from the right:"
   ]
  },
  {
   "cell_type": "code",
   "execution_count": null,
   "id": "a14f4550",
   "metadata": {},
   "outputs": [],
   "source": [
    "g(2.1)"
   ]
  },
  {
   "cell_type": "code",
   "execution_count": null,
   "id": "113b8e69",
   "metadata": {},
   "outputs": [],
   "source": [
    "g(2.201)"
   ]
  },
  {
   "cell_type": "code",
   "execution_count": null,
   "id": "68444402",
   "metadata": {},
   "outputs": [],
   "source": [
    "g(2.200001)"
   ]
  },
  {
   "cell_type": "code",
   "execution_count": null,
   "id": "2c9ef799",
   "metadata": {},
   "outputs": [],
   "source": [
    "g(2.200000001)"
   ]
  },
  {
   "cell_type": "markdown",
   "id": "68c651b3",
   "metadata": {},
   "source": [
    "It looks like `13.25` is a good estimate for the limit. Let's confirm this."
   ]
  },
  {
   "cell_type": "code",
   "execution_count": null,
   "id": "57e2bd38",
   "metadata": {},
   "outputs": [],
   "source": [
    "limit(g,s)"
   ]
  },
  {
   "cell_type": "markdown",
   "id": "52b817b3",
   "metadata": {},
   "source": [
    "Note that in this case, we cannot simply evaluate $g$ at $x=2.2$ to obtain the limit:"
   ]
  },
  {
   "cell_type": "code",
   "execution_count": null,
   "id": "1fe4d7e4",
   "metadata": {},
   "outputs": [],
   "source": [
    "g(2.2)"
   ]
  },
  {
   "cell_type": "markdown",
   "id": "8574a934",
   "metadata": {},
   "source": [
    "Now try this again with different $g$ and $s$. Activate the `Live Code` option and run the cell `g = generate_random_function()` above to generate new $g,s$."
   ]
  },
  {
   "cell_type": "code",
   "execution_count": 3,
   "id": "8b83f683",
   "metadata": {},
   "outputs": [
    {
     "data": {
      "text/latex": [
       "$\\text{New $g(x), s$ generated}$"
      ],
      "text/plain": [
       "<IPython.core.display.Latex object>"
      ]
     },
     "metadata": {},
     "output_type": "display_data"
    },
    {
     "data": {
      "text/latex": [
       "$s = -0.4$"
      ],
      "text/plain": [
       "<IPython.core.display.Latex object>"
      ]
     },
     "metadata": {},
     "output_type": "display_data"
    },
    {
     "data": {
      "text/markdown": [
       "**Problem**: *Estimate the one-sided limits*  "
      ],
      "text/plain": [
       "<IPython.core.display.Markdown object>"
      ]
     },
     "metadata": {},
     "output_type": "display_data"
    },
    {
     "data": {
      "text/latex": [
       "$ \\lim_{x \\to s^-} g(x) \\text{ and } \\lim_{x \\to s^+} g(x)$"
      ],
      "text/plain": [
       "<IPython.core.display.Latex object>"
      ]
     },
     "metadata": {},
     "output_type": "display_data"
    }
   ],
   "source": [
    "g,s = generate_example()"
   ]
  },
  {
   "cell_type": "markdown",
   "id": "f6562b78",
   "metadata": {},
   "source": [
    "We first compute a table with values of $g(x)$ for numbers $x$ close, *but not equal to*, $s$:"
   ]
  },
  {
   "cell_type": "code",
   "execution_count": 9,
   "id": "3bbfdc7b",
   "metadata": {},
   "outputs": [
    {
     "data": {
      "text/html": [
       "<style  type=\"text/css\" >\n",
       "</style><table id=\"T_ec27c_\" ><thead>    <tr>        <th class=\"col_heading level0 col0\" >x</th>        <th class=\"col_heading level0 col1\" >f(x)</th>    </tr></thead><tbody>\n",
       "                <tr>\n",
       "                                <td id=\"T_ec27c_row0_col0\" class=\"data row0 col0\" >-0.500000</td>\n",
       "                        <td id=\"T_ec27c_row0_col1\" class=\"data row0 col1\" >4.25000000000000</td>\n",
       "            </tr>\n",
       "            <tr>\n",
       "                                <td id=\"T_ec27c_row1_col0\" class=\"data row1 col0\" >-0.410000</td>\n",
       "                        <td id=\"T_ec27c_row1_col1\" class=\"data row1 col1\" >4.09430000000000</td>\n",
       "            </tr>\n",
       "            <tr>\n",
       "                                <td id=\"T_ec27c_row2_col0\" class=\"data row2 col0\" >-0.401000</td>\n",
       "                        <td id=\"T_ec27c_row2_col1\" class=\"data row2 col1\" >4.08140300000000</td>\n",
       "            </tr>\n",
       "            <tr>\n",
       "                                <td id=\"T_ec27c_row3_col0\" class=\"data row3 col0\" >-0.399000</td>\n",
       "                        <td id=\"T_ec27c_row3_col1\" class=\"data row3 col1\" >4.47860300000000</td>\n",
       "            </tr>\n",
       "            <tr>\n",
       "                                <td id=\"T_ec27c_row4_col0\" class=\"data row4 col0\" >-0.390000</td>\n",
       "                        <td id=\"T_ec27c_row4_col1\" class=\"data row4 col1\" >4.46630000000000</td>\n",
       "            </tr>\n",
       "            <tr>\n",
       "                                <td id=\"T_ec27c_row5_col0\" class=\"data row5 col0\" >-0.300000</td>\n",
       "                        <td id=\"T_ec27c_row5_col1\" class=\"data row5 col1\" >4.37000000000000</td>\n",
       "            </tr>\n",
       "    </tbody></table>"
      ],
      "text/plain": [
       "<pandas.io.formats.style.Styler at 0x11edcaf70>"
      ]
     },
     "execution_count": 9,
     "metadata": {},
     "output_type": "execute_result"
    }
   ],
   "source": [
    "show_table(g, [s-0.1, s-0.01, s-0.001, s+0.001, s+0.01, s+0.1])"
   ]
  },
  {
   "cell_type": "markdown",
   "id": "eeb20345",
   "metadata": {},
   "source": [
    "It certainly appears that the left-hand limit is not equal to the right-hand limit.\n",
    "\n",
    "For further detail, we can evaluate $g$ at additional inputs:"
   ]
  },
  {
   "cell_type": "code",
   "execution_count": 6,
   "id": "24b81520",
   "metadata": {},
   "outputs": [
    {
     "data": {
      "text/latex": [
       "$\\displaystyle 4.08000014000003$"
      ],
      "text/plain": [
       "4.08000014000003"
      ]
     },
     "execution_count": 6,
     "metadata": {},
     "output_type": "execute_result"
    }
   ],
   "source": [
    "g(s-0.0000001)"
   ]
  },
  {
   "cell_type": "code",
   "execution_count": 8,
   "id": "83821905",
   "metadata": {},
   "outputs": [
    {
     "data": {
      "text/latex": [
       "$\\displaystyle 4.47999986000003$"
      ],
      "text/plain": [
       "4.47999986000003"
      ]
     },
     "execution_count": 8,
     "metadata": {},
     "output_type": "execute_result"
    }
   ],
   "source": [
    "g(s+0.0000001)"
   ]
  },
  {
   "cell_type": "markdown",
   "id": "a2f4e213",
   "metadata": {},
   "source": [
    "These values should give us a good estimate of the limits. \n",
    "\n",
    "Let's confirm this by computing the limit formally:"
   ]
  },
  {
   "cell_type": "code",
   "execution_count": 5,
   "id": "a8c5d303",
   "metadata": {},
   "outputs": [
    {
     "data": {
      "text/latex": [
       "$\\displaystyle 4.08$"
      ],
      "text/plain": [
       "4.08000000000000"
      ]
     },
     "execution_count": 5,
     "metadata": {},
     "output_type": "execute_result"
    }
   ],
   "source": [
    "lim_left(g,s)"
   ]
  },
  {
   "cell_type": "code",
   "execution_count": 7,
   "id": "60124e50",
   "metadata": {},
   "outputs": [
    {
     "data": {
      "text/latex": [
       "$\\displaystyle 4.48$"
      ],
      "text/plain": [
       "4.48000000000000"
      ]
     },
     "execution_count": 7,
     "metadata": {},
     "output_type": "execute_result"
    }
   ],
   "source": [
    "lim_right(g,s)"
   ]
  }
 ],
 "metadata": {
  "celltoolbar": "Tags",
  "hide_input": false,
  "kernelspec": {
   "display_name": "Python 3",
   "language": "python",
   "name": "python3"
  },
  "language_info": {
   "codemirror_mode": {
    "name": "ipython",
    "version": 3
   },
   "file_extension": ".py",
   "mimetype": "text/x-python",
   "name": "python",
   "nbconvert_exporter": "python",
   "pygments_lexer": "ipython3",
   "version": "3.9.4"
  }
 },
 "nbformat": 4,
 "nbformat_minor": 5
}
