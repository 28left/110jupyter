{
 "cells": [
  {
   "cell_type": "markdown",
   "id": "a456539c",
   "metadata": {},
   "source": [
    "# Computational Examples: Limits"
   ]
  },
  {
   "cell_type": "code",
   "execution_count": 1,
   "id": "ba7c2900",
   "metadata": {
    "hide_input": false,
    "init_cell": true,
    "tags": [
     "thebe-init",
     "thebelab-init",
     "hide-cell"
    ]
   },
   "outputs": [
    {
     "name": "stdout",
     "output_type": "stream",
     "text": [
      "Initialization successful!\n"
     ]
    }
   ],
   "source": [
    "import sys, os\n",
    "sys.path.append(os.path.abspath('..'))\n",
    "\n",
    "from random import randint\n",
    "\n",
    "from cyllene import *\n",
    "%initialize limits_def"
   ]
  },
  {
   "cell_type": "markdown",
   "id": "9ad93b29",
   "metadata": {},
   "source": [
    "## Estimating limits using a table"
   ]
  },
  {
   "cell_type": "markdown",
   "id": "5d4e903f",
   "metadata": {},
   "source": [
    "### We first choose a function $f$ and pick a number $r$ between $-2$ and $2$."
   ]
  },
  {
   "cell_type": "code",
   "execution_count": null,
   "id": "aae9ee88",
   "metadata": {
    "hide_input": true
   },
   "outputs": [],
   "source": [
    "f = function('x^3-3x+5')\n",
    "r = 1.2\n",
    "\n",
    "show_values(f,r)"
   ]
  },
  {
   "cell_type": "markdown",
   "id": "9cc930ac",
   "metadata": {},
   "source": [
    "### Next, we generate a table of values of $f$ around (but *not exactly at*) $r$: "
   ]
  },
  {
   "cell_type": "code",
   "execution_count": null,
   "id": "40569ae6",
   "metadata": {
    "tags": [
     "hide-input"
    ]
   },
   "outputs": [],
   "source": [
    "show_table(f, [r-0.1, r-0.01, r-0.001, r+0.001, r+0.01, r+0.1])"
   ]
  },
  {
   "cell_type": "markdown",
   "id": "57f56645",
   "metadata": {},
   "source": [
    "### What do the values $f(x)$ suggest would be a reasonable estimate for $\\lim_{x\\to r} f(x)$?"
   ]
  },
  {
   "cell_type": "code",
   "execution_count": null,
   "id": "627e3c4f",
   "metadata": {
    "tags": [
     "hide-input"
    ]
   },
   "outputs": [],
   "source": [
    "show_limit_estimate(f,r)"
   ]
  },
  {
   "cell_type": "markdown",
   "id": "32e8bff1-84c7-406c-a714-460c7a0e4404",
   "metadata": {},
   "source": [
    "### Confirm estimate by formally computing the limit."
   ]
  },
  {
   "cell_type": "code",
   "execution_count": null,
   "id": "5d63b4a9-f07a-4394-b9b9-2141ef25b438",
   "metadata": {
    "tags": [
     "hide-input"
    ]
   },
   "outputs": [],
   "source": [
    "limit(f,r)"
   ]
  }
 ],
 "metadata": {
  "celltoolbar": "Tags",
  "hide_input": false,
  "kernelspec": {
   "display_name": "Python 3",
   "language": "python",
   "name": "python3"
  },
  "language_info": {
   "codemirror_mode": {
    "name": "ipython",
    "version": 3
   },
   "file_extension": ".py",
   "mimetype": "text/x-python",
   "name": "python",
   "nbconvert_exporter": "python",
   "pygments_lexer": "ipython3",
   "version": "3.9.4"
  }
 },
 "nbformat": 4,
 "nbformat_minor": 5
}
