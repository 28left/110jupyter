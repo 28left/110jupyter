{
 "cells": [
  {
   "cell_type": "markdown",
   "id": "a456539c",
   "metadata": {},
   "source": [
    "# Worked Examples: Estimating Limits"
   ]
  },
  {
   "cell_type": "code",
   "execution_count": 3,
   "id": "ba7c2900",
   "metadata": {
    "hide_input": false,
    "init_cell": true,
    "tags": [
     "thebe-init",
     "thebelab-init",
     "hide-cell"
    ]
   },
   "outputs": [],
   "source": [
    "import sys, os\n",
    "sys.path.append(os.path.abspath('..'))\n",
    "\n",
    "from random import randint\n",
    "from IPython.display import Markdown\n",
    "\n",
    "from cyllene.f_table import *"
   ]
  },
  {
   "cell_type": "markdown",
   "id": "9ad93b29",
   "metadata": {},
   "source": [
    "## Estimating a limit using a table"
   ]
  },
  {
   "cell_type": "markdown",
   "id": "5d4e903f",
   "metadata": {},
   "source": [
    "We first set function $f$ and pick a number $r$ at which we want to evaluate the limit."
   ]
  },
  {
   "cell_type": "code",
   "execution_count": 4,
   "id": "aae9ee88",
   "metadata": {
    "hide_input": true,
    "init_cell": true
   },
   "outputs": [
    {
     "data": {
      "text/html": [
       "You set: "
      ],
      "text/plain": [
       "'You set: '"
      ]
     },
     "metadata": {},
     "output_type": "display_data"
    },
    {
     "data": {
      "text/html": [
       "<script type=\"math/tex\">f(x) =</script>"
      ],
      "text/plain": [
       "'$f(x) =$'"
      ]
     },
     "metadata": {},
     "output_type": "display_data"
    },
    {
     "data": {
      "text/html": [
       "<html><script type=\"math/tex; mode=display\">\\newcommand{\\Bold}[1]{\\mathbf{#1}}x \\ {\\mapsto}\\ x^{3} - 2 \\, x^{2} + 5</script></html>"
      ],
      "text/latex": [
       "$$\\newcommand{\\Bold}[1]{\\mathbf{#1}}x \\ {\\mapsto}\\ x^{3} - 2 \\, x^{2} + 5$$"
      ],
      "text/plain": [
       "x |--> x^3 - 2*x^2 + 5"
      ]
     },
     "metadata": {},
     "output_type": "display_data"
    },
    {
     "data": {
      "text/html": [
       "<script type=\"math/tex\">r =</script>"
      ],
      "text/plain": [
       "'$r =$'"
      ]
     },
     "metadata": {},
     "output_type": "display_data"
    },
    {
     "data": {
      "text/html": [
       "<html><script type=\"math/tex; mode=display\">\\newcommand{\\Bold}[1]{\\mathbf{#1}}1.20000000000000</script></html>"
      ],
      "text/latex": [
       "$$\\newcommand{\\Bold}[1]{\\mathbf{#1}}1.20000000000000$$"
      ],
      "text/plain": [
       "1.20000000000000"
      ]
     },
     "metadata": {},
     "output_type": "display_data"
    }
   ],
   "source": [
    "%display latex\n",
    "\n",
    "f(x) = x^3-2*x^2+5\n",
    "r = 1.2\n",
    "\n",
    "display(\"You set: \")\n",
    "display(\"$f(x) =$\", f)\n",
    "display(\"$r =$\", r)"
   ]
  },
  {
   "cell_type": "markdown",
   "id": "9cc930ac",
   "metadata": {},
   "source": [
    "---\n",
    "Next, we generate a table of values of $f$ around $r$: "
   ]
  },
  {
   "cell_type": "code",
   "execution_count": 12,
   "id": "40569ae6",
   "metadata": {
    "tags": [
     "remove-input"
    ]
   },
   "outputs": [
    {
     "data": {
      "text/html": [
       "<style type=\"text/css\">\n",
       "</style>\n",
       "<table id=\"T_78fb8_\">\n",
       "  <thead>\n",
       "    <tr>\n",
       "      <th class=\"col_heading level0 col0\" >x</th>\n",
       "      <th class=\"col_heading level0 col1\" >f(x)</th>\n",
       "    </tr>\n",
       "  </thead>\n",
       "  <tbody>\n",
       "    <tr>\n",
       "      <td id=\"T_78fb8_row0_col0\" class=\"data row0 col0\" >1.10000000000000</td>\n",
       "      <td id=\"T_78fb8_row0_col1\" class=\"data row0 col1\" >3.91100000000000</td>\n",
       "    </tr>\n",
       "    <tr>\n",
       "      <td id=\"T_78fb8_row1_col0\" class=\"data row1 col0\" >1.19000000000000</td>\n",
       "      <td id=\"T_78fb8_row1_col1\" class=\"data row1 col1\" >3.85295900000000</td>\n",
       "    </tr>\n",
       "    <tr>\n",
       "      <td id=\"T_78fb8_row2_col0\" class=\"data row2 col0\" >1.19900000000000</td>\n",
       "      <td id=\"T_78fb8_row2_col1\" class=\"data row2 col1\" >3.84848159900000</td>\n",
       "    </tr>\n",
       "    <tr>\n",
       "      <td id=\"T_78fb8_row3_col0\" class=\"data row3 col0\" >1.20100000000000</td>\n",
       "      <td id=\"T_78fb8_row3_col1\" class=\"data row3 col1\" >3.84752160100000</td>\n",
       "    </tr>\n",
       "    <tr>\n",
       "      <td id=\"T_78fb8_row4_col0\" class=\"data row4 col0\" >1.21000000000000</td>\n",
       "      <td id=\"T_78fb8_row4_col1\" class=\"data row4 col1\" >3.84336100000000</td>\n",
       "    </tr>\n",
       "    <tr>\n",
       "      <td id=\"T_78fb8_row5_col0\" class=\"data row5 col0\" >1.30000000000000</td>\n",
       "      <td id=\"T_78fb8_row5_col1\" class=\"data row5 col1\" >3.81700000000000</td>\n",
       "    </tr>\n",
       "  </tbody>\n",
       "</table>\n"
      ],
      "text/plain": [
       "<pandas.io.formats.style.Styler object at 0x15ffaab80>"
      ]
     },
     "execution_count": 12,
     "metadata": {},
     "output_type": "execute_result"
    }
   ],
   "source": [
    "%display default\n",
    "\n",
    "t = function_to_table(f, [r-0.1, r-0.01, r-0.001, r+0.001, r+0.01, r+0.1])\n",
    "output_table(t)"
   ]
  },
  {
   "cell_type": "markdown",
   "id": "57f56645",
   "metadata": {},
   "source": [
    "What do the values $f(x)$ suggest would be a reasonable estimate for $\\lim_{x\\to r} f(x)$?\n",
    "\n",
    "It looks like as $x$ gets closer to $1.2$, the values get closer to a value somewhere near $3.84$."
   ]
  },
  {
   "cell_type": "markdown",
   "id": "32e8bff1-84c7-406c-a714-460c7a0e4404",
   "metadata": {
    "tags": [
     "hide-cell"
    ]
   },
   "source": [
    "---\n",
    "Let's confirm our estimate by formally computing the limit."
   ]
  },
  {
   "cell_type": "code",
   "execution_count": 13,
   "id": "5d63b4a9-f07a-4394-b9b9-2141ef25b438",
   "metadata": {},
   "outputs": [
    {
     "data": {
      "text/html": [
       "<html><script type=\"math/tex; mode=display\">\\newcommand{\\Bold}[1]{\\mathbf{#1}}x \\ {\\mapsto}\\ 3.848</script></html>"
      ],
      "text/latex": [
       "$$\\newcommand{\\Bold}[1]{\\mathbf{#1}}x \\ {\\mapsto}\\ 3.848$$"
      ],
      "text/plain": [
       "x |--> 3.848"
      ]
     },
     "execution_count": 13,
     "metadata": {},
     "output_type": "execute_result"
    }
   ],
   "source": [
    "%display latex\n",
    "\n",
    "limit(f,x=1.2)"
   ]
  },
  {
   "cell_type": "code",
   "execution_count": null,
   "id": "009bc960-5183-4d4f-a793-3469aa876da4",
   "metadata": {},
   "outputs": [],
   "source": []
  }
 ],
 "metadata": {
  "hide_input": false,
  "kernelspec": {
   "display_name": "SageMath 9.3",
   "language": "sage",
   "name": "sagemath"
  },
  "language_info": {
   "codemirror_mode": {
    "name": "ipython",
    "version": 3
   },
   "file_extension": ".py",
   "mimetype": "text/x-python",
   "name": "python",
   "nbconvert_exporter": "python",
   "pygments_lexer": "ipython3",
   "version": "3.9.6"
  }
 },
 "nbformat": 4,
 "nbformat_minor": 5
}
