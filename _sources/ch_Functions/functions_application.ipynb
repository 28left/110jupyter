{
 "cells": [
  {
   "cell_type": "markdown",
   "id": "cf23085e",
   "metadata": {},
   "source": [
    "# An Application\n",
    "\n",
    "\n",
    "A rectangular box with a **square** base and a volume of $24$ ft$^3$ has costs to construct of $\\$10 / \\text{ft}^2$ for the sides, $\\$20 / \\text{ft}^2$ for the top, and $\\$40 / \\text{ft}^2$ for the base. If $x$ denotes the length of one side of the base (in feet), determine the function in the variable $x$ giving the total cost of constructing the box in dollars and state the appropriate domain\n",
    "\n",
    "\n",
    "````{dropdown} **Step 1:** Draw and label a figure.\n",
    "\n",
    "\n",
    "```{image} ../images/pic_functions_box.png\n",
    ":alt: a box with base length and depth $x$ and height $y$\n",
    ":align: center\n",
    ":width: 300px\n",
    "```\n",
    "\n",
    "Note that we are temporarily using the variable $y$ to denote the height of the box.\n",
    "````\n",
    "\n",
    "```{dropdown} **Long Text Description**\n",
    "A two dimensional projective diagram of a three dimensional square prism, with the square face horizontal and of side length x, and height y.\n",
    "```\n",
    "\n",
    "\n",
    "```{dropdown} **Step 2:** Translate the problem description into a function.\n",
    "\n",
    "Translate the problem description into a function of the variables $x$ and $y$.\n",
    "\n",
    "\\begin{eqnarray*}\n",
    "\\text{Cost} &=& 40\\cdot\\text{(area of base)} + 10\\cdot\\text{(area of sides)} + 20\\cdot\\text{(area of top)} \\\\\n",
    "&=& 40x^2 + 10\\cdot4xy + 20\\cdot x^2 \\\\\n",
    "&=& 60x^2 + 40xy\n",
    "\\end{eqnarray*}\n",
    "```\n",
    "\n",
    "\n",
    "```{dropdown} **Step 3:** Write the total cost as a function of one variable.\n",
    "\n",
    "Use the conditions given in the problem to write the total cost as a function of one variable.\n",
    "\n",
    "Since the volume of the box is given to be $24$ ft$^3$, the variables $x$ and $y$ must satisfy the following equation.\n",
    "\n",
    "$$x^2y = 24$$\n",
    "\n",
    "Solving for $y$ yields $y = 24/x^2$.  Substituting this into our formula for cost in Step 2, we obtain $C(x)$, the cost of constructing the box as a function of $x$.\n",
    "\n",
    "\\begin{eqnarray*}\n",
    "C(x) &=&  60x^2 + 40x\\left(\\frac{24}{x^2}\\right) \\\\\n",
    "&=& 60x^2 + \\frac{960}{x} \n",
    "\\end{eqnarray*}\n",
    "```\n",
    "\n",
    "\n",
    "```{dropdown} **Step 4:** Note any restrictions to be placed on the domain.\n",
    "\n",
    "Note any restrictions to be placed on the domain of the function from physical considerations of the problem.\n",
    "\n",
    "Since $x$ denotes the length of one side of the base, its value must be at least zero.  However, $x$ cannot be equal to zero since the height, $y = 24/x^2$, is undefined at $x=0$.  Therefore, the domain of $C(x)$ is $(0,\\infty)$.\n",
    "```"
   ]
  }
 ],
 "metadata": {
  "jupytext": {
   "formats": "ipynb,md:myst",
   "text_representation": {
    "extension": ".md",
    "format_name": "myst",
    "format_version": 0.13
   }
  },
  "kernelspec": {
   "display_name": "Python 3.9 64-bit",
   "language": "python",
   "name": "python3"
  },
  "language_info": {
   "codemirror_mode": {
    "name": "ipython",
    "version": 3
   },
   "file_extension": ".py",
   "mimetype": "text/x-python",
   "name": "python",
   "nbconvert_exporter": "python",
   "pygments_lexer": "ipython3",
   "version": "3.10.6"
  },
  "source_map": [
   12
  ]
 },
 "nbformat": 4,
 "nbformat_minor": 5
}