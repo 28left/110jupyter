{
 "cells": [
  {
   "cell_type": "markdown",
   "id": "72752bec",
   "metadata": {},
   "source": [
    "# Try It Yourself\n",
    "\n",
    "## Exercise 1\n",
    "Find $\\dfrac{dy}{dx}$ where $y$ is defined implicitly by \n",
    "\n",
    "$$y^4 + x^3y^2 - x = 5.$$\n",
    "\n",
    "```{dropdown} Show answer\n",
    "Answer: $(1 - 3x^2y^2)/(4y^3  + 2x^3y)$\n",
    "```\n",
    "\n",
    "\n",
    "## Exercise 2\n",
    "Find the equation of the line tangent to the curve defined implicitly by \n",
    "\n",
    "$$x^4y-x^3+14y=29$$\n",
    "\n",
    "at the point $(1,2)$.\n",
    "\n",
    "\n",
    "```{dropdown} Show answer\n",
    "Answer: $y=-x/3 + 7/3$\n",
    "```\n",
    "\n",
    "\n",
    "## Exercise 3\n",
    "The demand equation for Hager & Little's *Better Business Calculus* book series is given by\n",
    "\n",
    "$$p = -5x^2 - 2x + 100$$\n",
    "\n",
    "where $p$ is the wholesale unit price in dollars and $x$ is the quantity demanded in units of a thousand.  Compute the elasticity of demand when $x=4$.\n",
    "\n",
    "\n",
    "```{dropdown} Show answer\n",
    "Answer: $1/14$\n",
    "```\n",
    "\n",
    "\n",
    "## Exercise 4\n",
    "A company is increasing production of math-brain protein bars at a rate of 50 cases per day. All cases produced can be sold. The daily demand function is given by \n",
    "\n",
    "$$p(x) = 80 - \\frac{x}{100}$$\n",
    "\n",
    "Where $x$ is the number of cases produced and sold, and $p$ is in dollars. Find the rate of change of the revenue with respect to the time in days when daily production is 500 cases.\n",
    "\n",
    "```{dropdown} Show answer\n",
    "Answer: revenue increases by \\$3,500 per day\n",
    "```\n",
    "\n",
    "\n",
    "## Exercise 5\n",
    "If the quantity demanded daily of a product is related to its unit price in dollars by \n",
    "\n",
    "$$p^2 = 106 - x^2$$\n",
    "\n",
    "How fast is the quantity demanded changing when $x=5$ and the unit price is decreasing at a rate of \\$3 per day.\n",
    "\n",
    "```{dropdown} Show answer\n",
    "Answer: demand increases by $27/5$ units per day\n",
    "```\n",
    "\n",
    "## Exercise 6\n",
    "The weekly demand function is given by \n",
    "\n",
    "$$p + x + 3xp = 43$$\n",
    "\n",
    "where $x$ is the number of thousands of units demanded weekly and $p$ is in dollars. If the price is increasing at a rate of 20 cents per week when the level of demand is 4000 units, at what rate is the demand decreasing?\n",
    "\n",
    "```{dropdown} Show answer\n",
    "Answer: demand decreases by 260 units per week\n",
    "```"
   ]
  }
 ],
 "metadata": {
  "jupytext": {
   "formats": "ipynb,md:myst",
   "text_representation": {
    "extension": ".md",
    "format_name": "myst",
    "format_version": 0.13,
    "jupytext_version": "1.10.3"
   }
  },
  "kernelspec": {
   "display_name": "Python 3.9.4 64-bit",
   "language": "python",
   "name": "python3"
  },
  "language_info": {
   "codemirror_mode": {
    "name": "ipython",
    "version": 3
   },
   "file_extension": ".py",
   "mimetype": "text/x-python",
   "name": "python",
   "nbconvert_exporter": "python",
   "pygments_lexer": "ipython3",
   "version": "3.9.4"
  },
  "source_map": [
   13
  ]
 },
 "nbformat": 4,
 "nbformat_minor": 5
}