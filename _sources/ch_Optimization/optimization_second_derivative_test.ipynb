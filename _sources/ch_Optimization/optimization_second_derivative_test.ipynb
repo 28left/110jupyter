{
 "cells": [
  {
   "cell_type": "markdown",
   "id": "340859c7",
   "metadata": {},
   "source": [
    "# The Second Derivative Test\n",
    "\n",
    "## Using the Second Derivative to Classify Critical Points\n",
    "\n",
    "```{admonition} The Second Derivative Test\n",
    ":class: info\n",
    "\n",
    "Suppose $c$ is a critical point of $f$ where $f'(c) = 0$ and $f''(x)$ is continuous near $x=c$.\n",
    "\n",
    "1. If $f''(c) > 0$, then $f(x)$ has a **relative minimum** at $x=c$.\n",
    "2. If $f''(c) < 0$, then $f(x)$ has a **relative maximum** at $x=c$.\n",
    "3. If $f''(c) = 0$, then the test is **inconclusive**.\n",
    "```\n",
    "\n",
    "## Example 1\n",
    "\n",
    "In [Example 1](optimization_critical_points_example_1), we found that the critical points of \n",
    "\n",
    "$$f(x)=2x^3-15x^2+36x+20$$ \n",
    "\n",
    "were $x=2$ and $x=3$. Classify each critical point using the Second Derivative Test. \n",
    "\n",
    "```{dropdown} **Step 1:** Compute $f''(x)$.\n",
    "\n",
    "\\begin{align*}\n",
    "  f''(x) \n",
    "  &= \\frac{d}{dx}(6x^2 - 30x+36) & \\hbox{using $f'(x)$ from Example 4}\\\\\n",
    "  &= 12x - 30\n",
    "\\end{align*}\n",
    "```\n",
    "\n",
    "```{dropdown} **Step 2:** Classify each critical point.\n",
    "\n",
    "Since $f'(2) = 0$ and $f''(2) = -6 < 0$, $f(x)$ has a relative maximum at $x=2$.\n",
    "\n",
    "Since $f'(3) = 0$ and  $f''(3) = 6 > 0$, $f(x)$ has a relative minimum at $x=3$.\n",
    "```\n",
    "\n",
    "## Example 2\n",
    "\n",
    "In [Example 2](optimization_critical_points_example_2), we found that the only critical point of \n",
    "\n",
    "$$f(x)=\\frac{1}{x^2-1}$$ \n",
    "\n",
    "was $x=0$. Classify the critical point using the Second Derivative Test. \n",
    "\n",
    "```{dropdown} **Step 1:** Compute $f''(x)$.\n",
    "\n",
    "\\begin{align*}\n",
    "  f''(x) \n",
    "  &= \\frac{d}{dx}\\left(\\frac{-2x}{(x^2-1)^2}\\right) & \\hbox{using $f'(x)$ from Example 5}\\\\\n",
    "  &= \\frac{-2(x^2-1)^2 - (-2x)\\cdot 2(x^2-1)2x}{(x^2-1)^4}\\\\\n",
    "  &= \\frac{2(x^2-1)[-(x^2-1) + 4x^2]}{(x^2-1)^4}\\\\\n",
    "  &= \\frac{2(1 + 3x^2)}{(x^2-1)^3}\n",
    "\\end{align*}\n",
    "```\n",
    "\n",
    "```{dropdown} **Step 2:** Classify each critical point.\n",
    "\n",
    "Since $f'(0) = 0$ and $f''(0) = -2 < 0$, $f(x)$ has a relative maximum at $x=0$.\n",
    "```"
   ]
  }
 ],
 "metadata": {
  "jupytext": {
   "formats": "ipynb,md:myst",
   "text_representation": {
    "extension": ".md",
    "format_name": "myst",
    "format_version": 0.13,
    "jupytext_version": "1.10.3"
   }
  },
  "kernelspec": {
   "display_name": "Python 3.9.4 64-bit",
   "language": "python",
   "name": "python3"
  },
  "language_info": {
   "codemirror_mode": {
    "name": "ipython",
    "version": 3
   },
   "file_extension": ".py",
   "mimetype": "text/x-python",
   "name": "python",
   "nbconvert_exporter": "python",
   "pygments_lexer": "ipython3",
   "version": "3.10.6"
  },
  "source_map": [
   13
  ]
 },
 "nbformat": 4,
 "nbformat_minor": 5
}