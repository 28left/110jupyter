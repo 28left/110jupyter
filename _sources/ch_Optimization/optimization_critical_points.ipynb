{
 "cells": [
  {
   "cell_type": "markdown",
   "id": "0cd9f9cd",
   "metadata": {},
   "source": [
    "# Critical Points\n",
    "\n",
    "```{admonition} Definition\n",
    ":class: info\n",
    "\n",
    "A **critical point** of the function $f$ is any number $c$ *in the domain of* $f$ such that \n",
    "\n",
    "$$f'(c)=0 \\quad \\text{or} \\quad \\text{$f'(c)$ does not exist.}$$\n",
    "```\n",
    "\n",
    "Critical points of $f$ correspond to *possible* locations of relative extrema.\n",
    "\n",
    "(optimization_critical_points_example_1)=\n",
    "## Example 1\n",
    "\n",
    "Find all critical points of $f(x)=2x^3-15x^2+36x+20$.\n",
    "\n",
    "```{dropdown} **Step 1:** Compute $f'(x)$. \n",
    "\n",
    "$$f'(x) = 6x^2-30x+36$$\n",
    "```\n",
    "\n",
    "```{dropdown} **Step 2:** Find $x$ such that $f'(x) = 0$.\n",
    "\n",
    "\\begin{align*} \n",
    "  6x^2-30x+36 &= 6(x^2-5x+6)\\\\\n",
    "  &= 6(x-2)(x-3)\\\\\n",
    "  &= 0\n",
    "\\end{align*}\n",
    "\n",
    "when $x=2$ or when $x=3$.\n",
    "```\n",
    "\n",
    "```{dropdown} **Step 3:** Find $x$ such that $f'(x)$ does not exist.\n",
    "\n",
    "Since $f'(x)$ is polynomial, it exists for all real numbers.\n",
    "```\n",
    "\n",
    "```{dropdown} **Step 4:** Verify that the values found in Steps 2 and 3 are in the domain of $f$.\n",
    "\n",
    "The domain of $f(x)$ is all real numbers. Therefore, since both values are in the domain of $f$, $x=2$ and $x=3$ are critical points of $f$.\n",
    "```\n",
    "\n",
    "(optimization_critical_points_example_2)=\n",
    "## Example 2\n",
    "\n",
    "Find all critical points of $f(x)=\\dfrac{1}{x^2-1}$.\n",
    "\n",
    "```{dropdown} **Step 1:** Compute $f'(x)$.\n",
    "\n",
    "\\begin{align*} \n",
    "  f'(x) &= \\frac{d}{dx}(x^2-1)^{-1}\\\\\n",
    "  &= -(x^2-1)^{-2}\\cdot 2x \\\\\n",
    "  &= -\\frac{2x}{(x^2-1)^2}\n",
    "\\end{align*}\n",
    "```\n",
    "\n",
    "```{dropdown} **Step 2:** Find $x$ such that $f'(x) = 0$.\n",
    "\n",
    "$f'(x) = 0$ when $2x = 0$, which occurs when $x=0$.\n",
    "```\n",
    "\n",
    "```{dropdown} **Step 3:** Find $x$ such that $f'(x)$ does not exist.\n",
    "\n",
    "$f'(x)$ does not exist when $(x^2-1)^2 = 0$, which occurs when $x=1$ and when $x=-1$.\n",
    "```\n",
    "\n",
    "```{dropdown} **Step 4:** Verify that the values found in Steps 2 and 3 are in the domain of $f$.\n",
    "\n",
    "The domain of $f(x)$ is all real numbers except $x=1$ and $x=-1$. Therefore, $x=0$ is a critical point, but $x=1$ and $x=-1$ are not critical points since they are not in the domain of $f$. \n",
    "```"
   ]
  }
 ],
 "metadata": {
  "jupytext": {
   "formats": "ipynb,md:myst",
   "text_representation": {
    "extension": ".md",
    "format_name": "myst",
    "format_version": 0.13,
    "jupytext_version": "1.10.3"
   }
  },
  "kernelspec": {
   "display_name": "Python 3.9.4 64-bit",
   "language": "python",
   "name": "python3"
  },
  "language_info": {
   "codemirror_mode": {
    "name": "ipython",
    "version": 3
   },
   "file_extension": ".py",
   "mimetype": "text/x-python",
   "name": "python",
   "nbconvert_exporter": "python",
   "pygments_lexer": "ipython3",
   "version": "3.10.6"
  },
  "source_map": [
   13
  ]
 },
 "nbformat": 4,
 "nbformat_minor": 5
}