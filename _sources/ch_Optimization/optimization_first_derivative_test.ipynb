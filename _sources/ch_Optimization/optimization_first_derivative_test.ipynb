{
 "cells": [
  {
   "cell_type": "markdown",
   "id": "f0c0ad4e",
   "metadata": {},
   "source": [
    "# The First Derivative Test"
   ]
  },
  {
   "cell_type": "code",
   "execution_count": 1,
   "id": "ad0015bc",
   "metadata": {
    "tags": [
     "remove-cell"
    ]
   },
   "outputs": [],
   "source": [
    "%load_ext itikz"
   ]
  },
  {
   "cell_type": "markdown",
   "id": "6aa466a9",
   "metadata": {},
   "source": [
    "## Using the First Derivative to Classify Critical Points\n",
    "\n",
    "\n",
    "```{admonition} The First Derivative Test\n",
    ":class: info\n",
    "\n",
    "Suppose $c$ is a critical point of the continuous function $f$.\n",
    "\n",
    "1. If $f'(x)$ changes sign **from positive to negative** at $x=c$, then $f(c)$ is a **relative maximum**.\n",
    "2. If $f'(x)$ changes sign **from negative to positive** at $x=c$, then $f(c)$ is a **relative minimum**. \n",
    "3. If $f'(x)$ **does not change sign** at $x=c$, then $f(c)$ is **not a relative extrema.** \n",
    "```\n",
    "\n",
    "## Example 1\n",
    "\n",
    "In [Example 1](optimization_critical_points_example_1), we found that the critical points of \n",
    "\n",
    "$$f(x)=2x^3-15x^2+36x+20$$ \n",
    "\n",
    "were $x=2$ and $x=3$. Classify each critical point using the First Derivative Test. \n",
    "\n",
    "````{dropdown} **Step 1:** Break up the domain of $f'(x)$ at each critical point.\n",
    "\n",
    "Plug in one number from each subinterval into $f'(x)$ to determine the sign of $f'(x)$ on each interval.\n",
    "\n",
    "We have $f'(x) = 6(x-2)(x-3)$.\n",
    "\n",
    "```{figure} ../images/pic_optimization_firstderivativetest_1.png\n",
    "---\n",
    "name: pic_optimization_firstderivativetest_1\n",
    "width: 400px\n",
    "---\n",
    "Interval analysis of $f'(x) = 6(x-2)(x-3)$\n",
    "```\n",
    "````\n",
    "\n",
    "\n",
    "```{dropdown} **Step 2:** Classify each critical point.\n",
    "\n",
    "Since $f'(x)$ changes from positive to negative at $x=2$, $f(x)$ has a relative maximum at $x=2$.\n",
    "\n",
    "Since $f'(x)$ changes from negative to positive at $x=3$, $f(x)$ has a relative minimum at $x=3$.\n",
    "```\n",
    "\n",
    "\n",
    "## Example 2\n",
    "\n",
    "In [Example 2](optimization_critical_points_example_2), we found that the only critical point of \n",
    "\n",
    "$$f(x)=\\frac{1}{x^2-1}$$ \n",
    "\n",
    "was $x=0$. Classify the critical point using the First Derivative Test. \n",
    "\n",
    "````{dropdown} **Step 1:** Break up the domain of $f'(x)$ at each critical point.\n",
    "\n",
    "Plug in one number from each subinterval into $f'(x)$ to determine the sign of $f'(x)$ on each interval.\n",
    "\n",
    "We have $f'(x) = -\\dfrac{2x}{(x^2-1)^2}$.\n",
    "\n",
    "```{figure} ../images/pic_optimization_firstderivativetest_2.png\n",
    "---\n",
    "name: pic_optimization_firstderivativetest_2\n",
    "width: 400px\n",
    "---\n",
    "Interval analysis of $f'(x) = -\\dfrac{2x}{(x^2-1)^2}$.\n",
    "```\n",
    "````\n",
    "\n",
    "\n",
    "```{dropdown} **Step 2:** Classify each critical point.\n",
    "\n",
    "Since $f'(x)$ changes from positive to negative at $x=0$, $f(x)$ has a relative maximum at $x=0$.\n",
    "```"
   ]
  }
 ],
 "metadata": {
  "jupytext": {
   "formats": "ipynb,md:myst",
   "text_representation": {
    "extension": ".md",
    "format_name": "myst",
    "format_version": 0.13,
    "jupytext_version": "1.10.3"
   }
  },
  "kernelspec": {
   "display_name": "Python 3.9.4 64-bit",
   "language": "python",
   "name": "python3"
  },
  "language_info": {
   "codemirror_mode": {
    "name": "ipython",
    "version": 3
   },
   "file_extension": ".py",
   "mimetype": "text/x-python",
   "name": "python",
   "nbconvert_exporter": "python",
   "pygments_lexer": "ipython3",
   "version": "3.9.4"
  },
  "source_map": [
   13,
   16,
   20
  ]
 },
 "nbformat": 4,
 "nbformat_minor": 5
}