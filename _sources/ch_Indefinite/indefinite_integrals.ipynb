{
 "cells": [
  {
   "cell_type": "markdown",
   "id": "82431fd5",
   "metadata": {},
   "source": [
    "# Indefinite Integrals\n",
    "\n",
    "## The Antiderivative\n",
    "\n",
    "\n",
    "\n",
    "```{admonition} Definition\n",
    ":class: info\n",
    "\n",
    "A function $F$ is an **antiderivative** of $f$ on an interval $I$ if \n",
    "\n",
    "$$F'(x) = f(x)$$ \n",
    "\n",
    "for all $x$ in $I$.\n",
    "```\n",
    "\n",
    "In other words, the phrase \"*$F$ is an antiderivative of $f$*\" means the same thing as the phrase \"*$f$ is the derivative of $F$*.\"\n",
    "\n",
    "## Example 1\n",
    "\n",
    "Show that $F(x) = 3x^5 + 4x^3 + 7x$ is an antiderivative of $f(x) = 15x^4+12x^2+7$.\n",
    "\n",
    "```{dropdown} **Step 1:** Verify that $F'(x) = f(x)$.\n",
    ":title: bg-success text-white\n",
    ":body: bg-light\n",
    ":animate: fade-in\n",
    "\n",
    "\n",
    "\\begin{align*}\n",
    "  F'(x) &= \\frac{d}{dx}\\left( 3x^5 + 4x^3 + 7x \\right)  \\\\\n",
    "  &= 3 \\cdot 5 x^4+ 4\\cdot 3x^2 + 7\\\\\n",
    "  & = 15x^4+12x^2+7 \\\\\n",
    "  & = f(x)\n",
    "\\end{align*}\n",
    "\n",
    "Because $F'(x) = f(x)$, $F$ is an antiderivative of $f$.\n",
    "```\n",
    "\n",
    "## The Indefinite Integral\n",
    "\n",
    "```{admonition} Definition\n",
    ":class: info\n",
    "\n",
    "The indefinite integral of $f(x)$ with respect to $x$, denoted\n",
    "\n",
    "$$\\int f(x) ~dx$$\n",
    "\n",
    "represents the most general antiderivative of $f$.\n",
    "```\n",
    "\n",
    "In other words, if $F$ is an antiderivative of $f$, then\n",
    "\n",
    "$$\\int f(x) ~dx = F(x)+C.$$"
   ]
  }
 ],
 "metadata": {
  "jupytext": {
   "formats": "ipynb,md:myst",
   "text_representation": {
    "extension": ".md",
    "format_name": "myst",
    "format_version": 0.13,
    "jupytext_version": "1.10.3"
   }
  },
  "kernelspec": {
   "display_name": "Python 3.9.4 64-bit",
   "language": "python",
   "name": "python3"
  },
  "language_info": {
   "codemirror_mode": {
    "name": "ipython",
    "version": 3
   },
   "file_extension": ".py",
   "mimetype": "text/x-python",
   "name": "python",
   "nbconvert_exporter": "python",
   "pygments_lexer": "ipython3",
   "version": "3.9.4"
  },
  "source_map": [
   13
  ]
 },
 "nbformat": 4,
 "nbformat_minor": 5
}