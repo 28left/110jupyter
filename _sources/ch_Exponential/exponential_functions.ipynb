{
 "cells": [
  {
   "cell_type": "markdown",
   "id": "d89eb596",
   "metadata": {},
   "source": [
    "# Exponential and Logarithmic Functions\n",
    "\n",
    "```{admonition} Definition of an Exponential Function\n",
    ":class: info\n",
    "\n",
    "The function defined by\n",
    "\n",
    "$$f(x) = b^x \\qquad (b > 0, b \\neq 1)$$\n",
    "\n",
    "is called an **exponential function with base $b$ and exponent $x$**.\n",
    "\n",
    "```\n",
    "\n",
    "```{admonition} Properties of Exponential Functions\n",
    ":class: info\n",
    "\n",
    "For a function $y = b^x$, the following properties hold:\n",
    "\n",
    "- Its domain is $(-\\infty,\\infty)$.\n",
    "- Its range is $(0,\\infty)$.\n",
    "- Its graph passes through the point $(0,1)$ (i.e., $b^0 = 1$).\n",
    "- It is continuous on $(-\\infty,\\infty)$.\n",
    "- It is increasing on $(-\\infty,\\infty)$ if $b>1$ and decreasing on  $(-\\infty,\\infty)$ if $0<b<1$.\n",
    "```\n",
    "\n",
    "```{admonition} Definition of a Logarithmic Function\n",
    ":class: info\n",
    "\n",
    "\\begin{align*}\n",
    "f(x) = \\log_b(x) & \\qquad  (b>0,b \\neq 1) \n",
    "\\end{align*}\n",
    "\n",
    "is called the **logarithmic function with base $b$** and is defined by\n",
    "\n",
    "$$y = \\log_b(x) ~~~~ \\hbox{ if and only if } ~~~~ x = b^y.$$\n",
    "```\n",
    "\n",
    "```{admonition} Properties of Logarithmic Functions\n",
    ":class: info\n",
    "\n",
    "For a function $y = \\log_{b}(x)$, the following properties hold:\n",
    "\n",
    "- Its domain is $(0,\\infty)$.\n",
    "- Its range is $(-\\infty,\\infty)$.\n",
    "- Its graph passes through the point $(1,0)$ (i.e., $\\log_b(1) = 0$).\n",
    "- It is continuous on $(0,\\infty)$.\n",
    "- It is increasing on $(0,\\infty)$ if $b>1$ and decreasing on $(-\\infty,\\infty)$ if $0<b<1$.\n",
    "\n",
    "```"
   ]
  }
 ],
 "metadata": {
  "jupytext": {
   "formats": "ipynb,md:myst",
   "text_representation": {
    "extension": ".md",
    "format_name": "myst",
    "format_version": 0.13,
    "jupytext_version": "1.10.3"
   }
  },
  "kernelspec": {
   "display_name": "Python 3.9.4 64-bit",
   "language": "python",
   "name": "python3"
  },
  "language_info": {
   "codemirror_mode": {
    "name": "ipython",
    "version": 3
   },
   "file_extension": ".py",
   "mimetype": "text/x-python",
   "name": "python",
   "nbconvert_exporter": "python",
   "pygments_lexer": "ipython3",
   "version": "3.9.4"
  },
  "source_map": [
   13
  ]
 },
 "nbformat": 4,
 "nbformat_minor": 5
}