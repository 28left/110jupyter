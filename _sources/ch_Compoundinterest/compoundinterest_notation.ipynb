{
 "cells": [
  {
   "cell_type": "markdown",
   "id": "9d695ca0",
   "metadata": {},
   "source": [
    "# Notation and Terminology\n",
    "\n",
    "```{admonition} Basic Notation and Terminology\n",
    ":class: info\n",
    "\n",
    "- $P = $ Principal (i.e., value of initial deposit)\n",
    "- $A = $ Accumulated amount (i.e., sum of the principal and interest)\n",
    "- $r = $ Nominal interest rate\n",
    "- $m = $ Number of conversion periods per year, (a conversion period is the interval of time between successive interest payments)\n",
    "\n",
    "|Annually|Semiannually|Quarterly|Monthly|Weekly|Daily\n",
    "| :---: | :---: | :---: | :---: | :---: | :---:\n",
    "|$m=1$|$m=2$|$m=4$|$m=12$|$m=52$|$m=365$\n",
    "\n",
    "- $t = $ Term of investment (in years)\n",
    "```\n",
    "\n",
    "```{admonition} Simple Interest\n",
    ":class: info\n",
    "\n",
    "Interest is always computed based on the original principal.\n",
    "\n",
    "|Interest Earned|Accumulated Amount\n",
    "| :---: | :---: \n",
    "|$I = Prt$| $A = P(1 + rt)$\n",
    "```\n",
    "\n",
    "```{admonition} Discrete Compound Interest\n",
    ":class: info\n",
    "\n",
    "Interest payments are added to the principal at the end of each conversion period and therefore earn interest during future conversion periods.\n",
    "\n",
    "|Accumulated Amount|Present Value Formula\n",
    "| :---: | :---: \n",
    "|$A = P \\left(1 + \\frac{r}{m}\\right)^{mt}$| $P = A\\left(1 + \\frac{r}{m}\\right)^{-mt}$\n",
    "```\n",
    "\n",
    "```{admonition} Continuous Compound Interest\n",
    ":class: info\n",
    "\n",
    "Continuous compounding of interest is equivalent to a discrete compounding of interest where $m$, the number of conversion periods per year, goes to infinity.\n",
    "\n",
    "|Accumulated Amount|Present Value Formula\n",
    "| :---: | :---: \n",
    "|$A = Pe^{rt}$| $P = Ae^{-rt}$\n",
    "```\n",
    "\n",
    "```{admonition} Effective Rate of Interest\n",
    ":class: info\n",
    "\n",
    "The effective interest rate, $r_{\\text{eff}}$, is the simple interest rate that produces the same accumulated amount in 1 year as the nominal rate, $r$, compounded $m$ times a year.\n",
    "\n",
    "$$r_{\\text{eff}}=\\left(1+\\frac{r}{m}\\right)^m-1$$\n",
    "```"
   ]
  }
 ],
 "metadata": {
  "jupytext": {
   "formats": "ipynb,md:myst",
   "text_representation": {
    "extension": ".md",
    "format_name": "myst",
    "format_version": 0.13,
    "jupytext_version": "1.10.3"
   }
  },
  "kernelspec": {
   "display_name": "Python 3.9.4 64-bit",
   "language": "python",
   "name": "python3"
  },
  "language_info": {
   "codemirror_mode": {
    "name": "ipython",
    "version": 3
   },
   "file_extension": ".py",
   "mimetype": "text/x-python",
   "name": "python",
   "nbconvert_exporter": "python",
   "pygments_lexer": "ipython3",
   "version": "3.9.4"
  },
  "source_map": [
   13
  ]
 },
 "nbformat": 4,
 "nbformat_minor": 5
}