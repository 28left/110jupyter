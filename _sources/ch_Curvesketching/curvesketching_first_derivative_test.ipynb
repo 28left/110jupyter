{
 "cells": [
  {
   "cell_type": "markdown",
   "id": "fa96b326",
   "metadata": {},
   "source": [
    "# The First Derivative Test"
   ]
  },
  {
   "cell_type": "code",
   "execution_count": 1,
   "id": "e76c2ee4",
   "metadata": {
    "tags": [
     "remove-cell"
    ]
   },
   "outputs": [],
   "source": [
    "%load_ext itikz"
   ]
  },
  {
   "cell_type": "markdown",
   "id": "ab7c3db9",
   "metadata": {},
   "source": [
    "## Using the First Derivative to Classify Critical Points\n",
    "\n",
    "\n",
    "```{admonition} The First Derivative Test\n",
    ":class: info\n",
    "\n",
    "Suppose $c$ is a critical point of the continuous function $f$.\n",
    "\n",
    "1. If $f'(x)$ changes sign **from positive to negative** at $x=c$, then $f(c)$ is a **relative maximum**.\n",
    "2. If $f'(x)$ changes sign **from negative to positive** at $x=c$, then $f(c)$ is a **relative minimum**. \n",
    "3. If $f'(x)$ **does not change sign** at $x=c$, then $f(c)$ is **not a relative extrema.** \n",
    "```\n",
    "\n",
    "## Example 1\n",
    "\n",
    "In [Example 1](curvesketching_critical_points_example_1), we found that the critical points of \n",
    "\n",
    "$$f(x) = \\sqrt[3]{x^2-1}$$ \n",
    "\n",
    "were $x=-1$, $x=0$, and $x=1$.\n",
    "Classify each critical point using the First Derivative Test. \n",
    "\n",
    "````{dropdown} **Step 1:** Break up the domain of $f'(x)$ at each critical point.\n",
    "\n",
    "Plug in one number from each subinterval into $f'(x)$ to determine the sign of $f'(x)$ on each interval.\n",
    "\n",
    "We have $f'(x) = \\dfrac{2x}{3(x^2 - 1)^{2/3}}$.\n",
    "\n",
    "```{figure} ../images/pic_curvesketching_firstderivativetest_1.png\n",
    "---\n",
    "name: pic_curvesketching_firstderivativetest_1\n",
    "width: 400px\n",
    "---\n",
    "Interval analysis of $f'(x) = \\dfrac{2x}{3(x^2 - 1)^{2/3}}$\n",
    "```\n",
    "````\n",
    "\n",
    "\n",
    "```{dropdown} **Step 2:** Classify each critical point.\n",
    "\n",
    "Since $f'(x)$ changes from negative to positive at $x=0$, $f(x)$ has a relative minimum at $x=0$.  \n",
    "\n",
    "Since $f'(x)$ does not change sign at $x=-1$ and $x=1$, $f(x)$ does not have relative extrema at these values of $x$.\n",
    "```\n",
    "\n",
    "\n",
    "## Example 2\n",
    "\n",
    "In [Example 2](curvesketching_critical_points_example_2), we found that the critical points of \n",
    "\n",
    "$$f(x) = x^3 +3x^2 - 24x + 1$$ \n",
    "\n",
    "were $x=-4$ and $x=2$. Classify the critical point using the First Derivative Test. \n",
    "\n",
    "````{dropdown} **Step 1:** Break up the domain of $f'(x)$ at each critical point.\n",
    "\n",
    "Plug in one number from each subinterval into $f'(x)$ to determine the sign of $f'(x)$ on each interval.\n",
    "\n",
    "We have $f'(x) = 3(x+4)(x-2)$.\n",
    "\n",
    "```{figure} ../images/pic_curvesketching_firstderivativetest_2.png\n",
    "---\n",
    "name: pic_curvesketching_firstderivativetest_2\n",
    "width: 400px\n",
    "---\n",
    "Interval analysis of $f'(x) = 3(x+4)(x-2)$.\n",
    "```\n",
    "````\n",
    "\n",
    "\n",
    "```{dropdown} **Step 2:** Classify each critical point.\n",
    "\n",
    "Since $f'(x)$ changes from positive to negative at $x=-4$, $f(x)$ has a relative maximum at $x=-4$.  Since $f'(x)$ changes from negative to positive at $x=2$, $f(x)$ has a relative minimum at $x=2$.\n",
    "```"
   ]
  }
 ],
 "metadata": {
  "jupytext": {
   "formats": "ipynb,md:myst",
   "text_representation": {
    "extension": ".md",
    "format_name": "myst",
    "format_version": 0.13,
    "jupytext_version": "1.10.3"
   }
  },
  "kernelspec": {
   "display_name": "Python 3.9.4 64-bit",
   "language": "python",
   "name": "python3"
  },
  "language_info": {
   "codemirror_mode": {
    "name": "ipython",
    "version": 3
   },
   "file_extension": ".py",
   "mimetype": "text/x-python",
   "name": "python",
   "nbconvert_exporter": "python",
   "pygments_lexer": "ipython3",
   "version": "3.9.4"
  },
  "source_map": [
   13,
   16,
   20
  ]
 },
 "nbformat": 4,
 "nbformat_minor": 5
}