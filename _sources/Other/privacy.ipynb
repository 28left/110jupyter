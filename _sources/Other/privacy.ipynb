{
 "cells": [
  {
   "cell_type": "markdown",
   "id": "d8084b1d",
   "metadata": {},
   "source": [
    "# Privacy\n",
    "\n",
    "When using this web site, we do not collect your Personally Identifiable Information (PII) (as defined by  [Penn State Policy AD53](https://policy.psu.edu/policies/ad53)), but we may automatically collect and store general information about your visit to our webpages, but that information does not identify you personally. The information that we collect is used to track how users interact with our website, so that we can improve the user’s experience and make other improvements to these pages, in particular, to improve the content.\n",
    "\n",
    "## Google Analytics\n",
    "\n",
    "We use Google Analytics to help analyze how users interact with our site and, potentially, to provide our users with more personalized content. Google Analytics aggregates and tracks non-identifiable visitor information that we use to measure page views, scrolls, clicks, and file downloads. \n",
    "\n",
    "### Opt-Out\n",
    "\n",
    "If you would like to opt-out of Google Analytics tracking, Google has provided a plugin for most browsers that enables this functionality.  [Learn more about how the plugin works and how to install it](https://tools.google.com/dlpage/gaoptout/) . Google Analytics also provides you with the ability to modify and delete the information that Google tracks for remarketing purposes by visiting  [Google’s ad settings page](https://adssettings.google.com/authenticated) . You can also disable collection of any demographic data on that page. Additionally, you are able to modify and delete the information that Google tracks for remarketing purposes by visiting Google’s ad settings page. You also have the option of disabling collection of any demographic data on that page."
   ]
  }
 ],
 "metadata": {
  "jupytext": {
   "formats": "ipynb,md:myst",
   "text_representation": {
    "extension": ".md",
    "format_name": "myst",
    "format_version": 0.13,
    "jupytext_version": "1.10.3"
   }
  },
  "kernelspec": {
   "display_name": "Python 3.9.4 64-bit",
   "language": "python",
   "name": "python3"
  },
  "language_info": {
   "codemirror_mode": {
    "name": "ipython",
    "version": 3
   },
   "file_extension": ".py",
   "mimetype": "text/x-python",
   "name": "python",
   "nbconvert_exporter": "python",
   "pygments_lexer": "ipython3",
   "version": "3.10.6"
  },
  "source_map": [
   13
  ]
 },
 "nbformat": 4,
 "nbformat_minor": 5
}