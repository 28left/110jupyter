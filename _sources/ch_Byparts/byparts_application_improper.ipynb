{
 "cells": [
  {
   "cell_type": "markdown",
   "id": "ed7b6b27",
   "metadata": {},
   "source": [
    "# Application of Improper Integrals\n",
    "\n",
    "## Perpetuity\n",
    "\n",
    "```{panels}\n",
    "\n",
    "A **perpetuity** is an annuity (i.e., a sequence of payments made at regular intervals) in which the periodic payments begin at a fixed date and continue indefinitely.\n",
    "\n",
    "- $P=$ the size of each payment\n",
    "- $r$ = annual interest rate (compounded continuously)\n",
    "- $m=$ the number of payments per year\n",
    "\n",
    "---\n",
    "\n",
    "|Annually|Semiannually|Quarterly|\n",
    "| :---: | :---: | :---: |\n",
    "|$m=1$|$m=2$|$m=4$|\n",
    "\n",
    "|Monthly|Weekly|Daily|\n",
    "| :---: | :---: | :---: |\n",
    "|$m=12$|$m=52$|$m=365$|\n",
    "\n",
    "```\n",
    "\n",
    "By taking the present value formula for an income stream (see page 7) with $R(t) = mP$ and letting the term $T$ go to infinity (i.e., evaluating the improper integral $\\int_0^\\infty mPe^{-rt} ~dt$), we arrive at the following formula for the present value of a perpetuity.\n",
    "\n",
    "```{admonition} Present Value of a Perpetuity\n",
    ":class: info\n",
    "\n",
    "$$PV = \\frac{mP}{r}$$\n",
    "```\n",
    "\n",
    "## Example 1\n",
    "\n",
    "```{admonition} Computing the funds necessary for an endowment\n",
    ":class: tip\n",
    "\n",
    "A group wishes to provide a semiannual math scholarship in the amount of \\$6,000 beginning in six months. If the fund will earn 4\\% interest per year compounded continuously, find the amount of the endowment the group is required to make now.\n",
    "```\n",
    "\n",
    "```{dropdown} **Step 1:** Recall the formula for the present value of a perpetuity.\n",
    "\n",
    "$$PV = \\frac{mP}{r}$$\n",
    "```\n",
    "\n",
    "```{dropdown} **Step 2:** Plug in the given values: $m=2$, $P=6000$, and $r=0.04$. \n",
    "\n",
    "\\begin{align*}\n",
    "  PV\n",
    "  &= \\frac{2(6000)}{0.04}\\\\\n",
    "  &= \\frac{12000}{4/100}\\\\\n",
    "  &= \\frac{12000(100)}{4}\\\\\n",
    "  &= 3000(100) \\\\\n",
    "  &= 300000\n",
    "\\end{align*}\n",
    "\n",
    "Therefore, a single payment of \\$300,000 is required to fund the scholarship indefinitely.\n",
    "```"
   ]
  }
 ],
 "metadata": {
  "jupytext": {
   "formats": "ipynb,md:myst",
   "text_representation": {
    "extension": ".md",
    "format_name": "myst",
    "format_version": 0.13,
    "jupytext_version": "1.10.3"
   }
  },
  "kernelspec": {
   "display_name": "Python 3.9.4 64-bit",
   "language": "python",
   "name": "python3"
  },
  "language_info": {
   "codemirror_mode": {
    "name": "ipython",
    "version": 3
   },
   "file_extension": ".py",
   "mimetype": "text/x-python",
   "name": "python",
   "nbconvert_exporter": "python",
   "pygments_lexer": "ipython3",
   "version": "3.9.4"
  },
  "source_map": [
   13
  ]
 },
 "nbformat": 4,
 "nbformat_minor": 5
}