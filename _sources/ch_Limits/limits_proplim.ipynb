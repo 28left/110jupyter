{
 "cells": [
  {
   "cell_type": "markdown",
   "id": "dd5e77ac",
   "metadata": {},
   "source": [
    "(lim:prop_lim)=\n",
    "# Properties of Finite Limits\n",
    "\n",
    "Suppose $\\displaystyle \\lim_{x\\to a} f(x) = L$ and $\\displaystyle \\lim_{x\\to a} g(x) = M$\n",
    "\n",
    "```{admonition} (1) Limit of a Constant\n",
    ":class: info\n",
    "For any real number $c$, \n",
    "\n",
    "$$\\lim_{x\\to a} c = c $$\n",
    "```\n",
    "\n",
    "```{admonition} (2) The Sum & Difference Properties\n",
    ":class: info\n",
    "\n",
    "$$\\lim_{x\\to a} [f(x) \\pm g(x)] = \\lim_{x\\to a} f(x) \\pm \\lim_{x\\to a} g(x)=L \\pm M$$\n",
    "```\n",
    "\n",
    "```{admonition} (3) The Constant Multiple Property\n",
    ":class: info\n",
    "\n",
    "For any real number $c$, \n",
    "\n",
    "$$\\lim_{x\\to a} cf(x) = c\\lim_{x\\to a} f(x) = cL$$\n",
    "```\n",
    "\n",
    "```{admonition} (4) Generalized Product Property\n",
    ":class: info\n",
    "\n",
    "$$\\lim_{x\\to a} [f(x)g(x)] = [\\lim_{x\\to a} f(x)][\\lim_{x\\to a} g(x)]=LM$$\n",
    "```\n",
    "\n",
    "```{admonition} (5) Quotient Property\n",
    ":class: info\n",
    "\n",
    "If $M\\neq 0$,\n",
    "\n",
    "$$\\lim_{x\\to a} \\dfrac{f(x)}{g(x)} = \\dfrac{\\lim\\limits_{x\\to a} f(x)}{\\lim\\limits_{x\\to a} g(x)}=\\dfrac{L}{M}$$\n",
    "```\n",
    "\n",
    "```{admonition} (6) The Power Property\n",
    ":class: info\n",
    "\n",
    "$$\\lim_{x\\to a} [f(x)]^r = \\left[\\lim_{x\\to a} f(x)\\right]^r = L^r$$\n",
    "```\n",
    "\n",
    "```{admonition} (7) Polynomial and Rational Functions\n",
    ":class: info\n",
    "\n",
    "If $f(x)$ is a polynomial or rational function and $a$ is in the domain of $f(x)$, then\n",
    "\n",
    "$$\\lim_{x\\to a} f(x) = f(a)$$\n",
    "```"
   ]
  }
 ],
 "metadata": {
  "jupytext": {
   "formats": "ipynb,md:myst",
   "text_representation": {
    "extension": ".md",
    "format_name": "myst",
    "format_version": 0.13,
    "jupytext_version": "1.10.3"
   }
  },
  "kernelspec": {
   "display_name": "Python 3.9.4 64-bit",
   "language": "python",
   "name": "python3"
  },
  "language_info": {
   "codemirror_mode": {
    "name": "ipython",
    "version": 3
   },
   "file_extension": ".py",
   "mimetype": "text/x-python",
   "name": "python",
   "nbconvert_exporter": "python",
   "pygments_lexer": "ipython3",
   "version": "3.9.4"
  },
  "source_map": [
   13
  ]
 },
 "nbformat": 4,
 "nbformat_minor": 5
}