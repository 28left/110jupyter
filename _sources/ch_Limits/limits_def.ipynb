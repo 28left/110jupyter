{
 "cells": [
  {
   "cell_type": "markdown",
   "id": "6a231f8a",
   "metadata": {},
   "source": [
    "# Limit of a Function"
   ]
  },
  {
   "cell_type": "markdown",
   "id": "05fdea6d",
   "metadata": {},
   "source": [
    "## Definition of a Limit\n",
    "\n",
    "```{admonition} Definition\n",
    ":class: info\n",
    "The limit of $f(x)$ as $x$ approaches $a$ is equal to the finite number $L$, denoted by\n",
    "\n",
    "$$ \\lim_{x\\to a} f(x) = L$$\n",
    "\n",
    "if the value of $f(x)$ can be made as close to $L$ as we want by taking x values *sufficiently close* to, but not equal to, $a$.\n",
    "```"
   ]
  },
  {
   "cell_type": "markdown",
   "id": "5435e053",
   "metadata": {},
   "source": [
    "Keep in mind that the value of a limit does not depend on the value of the function at $x=a$.  In fact, it is possible that $\\lim\\limits_{x\\to a}f(x) = L$ even though\n",
    "- $f(a)$ does not exist, or\n",
    "- $f(a)$ exists, but is not equal to $L$.\n",
    "\n",
    "\n",
    "````{admonition} Exercise\n",
    ":class: warning\n",
    "\n",
    "Below, you see a table in which we evaluate a function $f(x)$ for values of $x$ that are closer and closer to $1$ (but **not equal to** $1$). What do the values $f(x)$ suggest $\\lim\\limits_{x\\to 1} f(x)$ would be?\n",
    "\n",
    ":::{card}\n",
    ":width: 50%\n",
    "\n",
    "| $x$ | $f(x)$ |\n",
    "|-----|-------:|\n",
    "| 1.100000 | 4.63000000 |\n",
    "| 1.010000 | 4.06030000 |\n",
    "| 1.001000 | 4.00600300 |\n",
    "| 1.000100 | 4.00060003 |\n",
    ":::\n",
    "````\n",
    "\n",
    "```{admonition} Show solution\n",
    ":class: tip, dropdown\n",
    "The values $f(x)$ get closer to $4$ as $x$ gets closer to $1$.\n",
    "This suggests that $\\lim\\limits_{x \\to 1} f(x) = 4$.\n",
    "```"
   ]
  },
  {
   "cell_type": "markdown",
   "id": "251d4cab",
   "metadata": {},
   "source": [
    "## One-Sided Limits"
   ]
  },
  {
   "cell_type": "markdown",
   "id": "ede105d1",
   "metadata": {},
   "source": [
    "```{admonition} Definition\n",
    ":class: info\n",
    "\n",
    "The limit of $f(x)$ as $x$ approaches $a$ *from the right* is equal to the finite number $L$, denoted by\n",
    "\n",
    "$$\\lim_{x\\to a^+} f(x) = L $$ \n",
    "\n",
    "if the values of $f(x)$ can be made as close to $L$ as we want by taking $x$ *sufficiently close* to (but not equal to) $a$ and to the right of $a$ (i.e., $x>a$).\n",
    "\n",
    "Similarly, the limit of $f(x)$ as $x$ approaches $a$ *from the left* is equal to the finite number $M$, denoted by\n",
    "\n",
    "$$\\lim_{x\\to a^-} f(x) = M$$ \n",
    "\n",
    "if the values of $f(x)$ can be made as close to $M$ as we want by taking $x$ *sufficiently close* to (but not equal to) $a$ and to the left of $a$ (i.e., $x<a$).\n",
    "```"
   ]
  },
  {
   "cell_type": "markdown",
   "id": "08545d2b",
   "metadata": {},
   "source": [
    "````{admonition} Exercise\n",
    ":class: warning\n",
    "\n",
    "Below, you see a table in which we evaluate a function $f(x)$ for values of $x$ that are closer and closer to $1$ (but **not equal to** $1$). The first four values are for inputs $x < 1$, the next four are for inputs $x> 1$. \n",
    "\n",
    ":::{card}\n",
    ":width: 50%\n",
    "| $x$ | $f(x)$ |\n",
    "|-----|-------:|\n",
    "| 0.900000 | 1.810000 |\n",
    "| 0.990000 | 1.980100 |\n",
    "| 0.999000 | 1.998001 |\n",
    "| 0.999900 | 1.999800 |\n",
    "| 1.000100 | 1.000600 |\n",
    "| 1.001000 | 1.006003 |\n",
    "| 1.010000 | 1.060300 |\n",
    "| 1.100000 | 1.630000 |\n",
    ":::\n",
    "\n",
    "What do the values $f(x)$ suggest $\\lim\\limits_{x\\to 1^+} f(x)$ and $\\lim\\limits_{x\\to 1^-} f(x)$  would be?\n",
    "````\n",
    "\n",
    "\n",
    "```{admonition} Show solution\n",
    ":class: tip, dropdown\n",
    "If approaching from the left ($x< 1$), the values $f(x)$ get closer to $2$ as $x$ gets closer to $1$. This suggests that $\\lim\\limits_{x \\to 1^-} f(x) = 2$.\n",
    "\n",
    "If approaching from the right ($x> 1$), the values $f(x)$ get closer to $1$ as $x$ gets closer to $1$. This suggests that $\\lim\\limits_{x \\to 1^+} f(x) = 1$.\n",
    "```\n",
    "\n",
    "\n",
    "## Limit vs. One-Sided Limits\n",
    "\n",
    "```{admonition} Fact\n",
    ":class: info\n",
    "\n",
    "If both one-sided limits exist and are equal to the same value, $L$, then we can say that the limit exists, and is also equal to $L$.  In other words, \n",
    "\n",
    "$$\\lim_{x\\to a} f(x) = L$$\n",
    "\n",
    "means the same thing as\n",
    "\n",
    "$$\\lim_{x\\to a^-} f(x) = L ~~~~ \\hbox{and} ~~~~ \\lim_{x\\to a^+} f(x)= L.$$\n",
    "```"
   ]
  },
  {
   "cell_type": "markdown",
   "id": "ddb17b17",
   "metadata": {},
   "source": [
    "<!-- ## Try It Yourself!\n",
    "\n",
    "```{link-button} https://binder.jupytr.cloud.psu.edu/v2/gh/28left/110jupyter/master?filepath=ch_Limits/limits_def_TIY.ipynb\n",
    "    :type: url\n",
    "    :text: Click to launch activity\n",
    "    :classes: btn-outline-warning btn-block\n",
    "``` -->"
   ]
  }
 ],
 "metadata": {
  "jupytext": {
   "formats": "ipynb,md:myst",
   "text_representation": {
    "extension": ".md",
    "format_name": "myst",
    "format_version": 0.13,
    "jupytext_version": "1.10.3"
   }
  },
  "kernelspec": {
   "display_name": "Python 3.9.4 64-bit",
   "language": "python",
   "name": "python3"
  },
  "language_info": {
   "codemirror_mode": {
    "name": "ipython",
    "version": 3
   },
   "file_extension": ".py",
   "mimetype": "text/x-python",
   "name": "python",
   "nbconvert_exporter": "python",
   "pygments_lexer": "ipython3",
   "version": "3.10.6"
  },
  "source_map": [
   13,
   17,
   30,
   60,
   64,
   83,
   130
  ]
 },
 "nbformat": 4,
 "nbformat_minor": 5
}