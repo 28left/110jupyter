{
 "cells": [
  {
   "cell_type": "markdown",
   "id": "a456539c",
   "metadata": {},
   "source": [
    "# More Examples -- Limits. Try it Yourself! "
   ]
  },
  {
   "cell_type": "code",
   "execution_count": 22,
   "id": "ba7c2900",
   "metadata": {
    "hide_input": false,
    "init_cell": true,
    "tags": [
     "thebe-init",
     "remove-cell"
    ]
   },
   "outputs": [
    {
     "name": "stdout",
     "output_type": "stream",
     "text": [
      "Initialization successful!\n"
     ]
    }
   ],
   "source": [
    "import sys, os\n",
    "sys.path.append(os.path.abspath('..'))\n",
    "\n",
    "from random import randint\n",
    "\n",
    "from cyllene import *\n",
    "%initialize limits_def"
   ]
  },
  {
   "cell_type": "markdown",
   "id": "9ad93b29",
   "metadata": {},
   "source": [
    "## Estimating limits"
   ]
  },
  {
   "cell_type": "markdown",
   "id": "5d4e903f",
   "metadata": {},
   "source": [
    "We first generate a random function $f$ and pick a number $r$ between $-2$ and $2$."
   ]
  },
  {
   "cell_type": "code",
   "execution_count": 29,
   "id": "aae9ee88",
   "metadata": {
    "hide_input": true,
    "init_cell": true
   },
   "outputs": [],
   "source": [
    "f = function('random')\n",
    "r = 1.2"
   ]
  },
  {
   "cell_type": "markdown",
   "id": "9cc930ac",
   "metadata": {},
   "source": [
    "Next, we generate a table of values of $f$ around $r$: "
   ]
  },
  {
   "cell_type": "code",
   "execution_count": 30,
   "id": "40569ae6",
   "metadata": {
    "tags": [
     "hide-input"
    ]
   },
   "outputs": [
    {
     "data": {
      "text/html": [
       "<div>\n",
       "<style scoped>\n",
       "    .dataframe tbody tr th:only-of-type {\n",
       "        vertical-align: middle;\n",
       "    }\n",
       "\n",
       "    .dataframe tbody tr th {\n",
       "        vertical-align: top;\n",
       "    }\n",
       "\n",
       "    .dataframe thead th {\n",
       "        text-align: right;\n",
       "    }\n",
       "</style>\n",
       "<table border=\"1\" class=\"dataframe\">\n",
       "  <thead>\n",
       "    <tr style=\"text-align: right;\">\n",
       "      <th></th>\n",
       "      <th>x</th>\n",
       "      <th>f(x)</th>\n",
       "    </tr>\n",
       "  </thead>\n",
       "  <tbody>\n",
       "    <tr>\n",
       "      <th>0</th>\n",
       "      <td>1.100</td>\n",
       "      <td>1.64100000000000</td>\n",
       "    </tr>\n",
       "    <tr>\n",
       "      <th>1</th>\n",
       "      <td>1.190</td>\n",
       "      <td>2.29125900000000</td>\n",
       "    </tr>\n",
       "    <tr>\n",
       "      <th>2</th>\n",
       "      <td>1.199</td>\n",
       "      <td>2.36028459900000</td>\n",
       "    </tr>\n",
       "    <tr>\n",
       "      <th>3</th>\n",
       "      <td>1.201</td>\n",
       "      <td>2.37572460100000</td>\n",
       "    </tr>\n",
       "    <tr>\n",
       "      <th>4</th>\n",
       "      <td>1.210</td>\n",
       "      <td>2.44566100000000</td>\n",
       "    </tr>\n",
       "    <tr>\n",
       "      <th>5</th>\n",
       "      <td>1.300</td>\n",
       "      <td>3.18700000000000</td>\n",
       "    </tr>\n",
       "  </tbody>\n",
       "</table>\n",
       "</div>"
      ],
      "text/plain": [
       "       x              f(x)\n",
       "0  1.100  1.64100000000000\n",
       "1  1.190  2.29125900000000\n",
       "2  1.199  2.36028459900000\n",
       "3  1.201  2.37572460100000\n",
       "4  1.210  2.44566100000000\n",
       "5  1.300  3.18700000000000"
      ]
     },
     "execution_count": 30,
     "metadata": {},
     "output_type": "execute_result"
    }
   ],
   "source": [
    "function_to_table(f, [r-0.1, r-0.01, r-0.001, r+0.001, r+0.01, r+0.1])"
   ]
  },
  {
   "cell_type": "markdown",
   "id": "57f56645",
   "metadata": {},
   "source": [
    "What do the values $f(x)$ suggest would be a reasonable estimate for $\\lim_{x\\to r} f(x)$?"
   ]
  },
  {
   "cell_type": "markdown",
   "id": "32e8bff1-84c7-406c-a714-460c7a0e4404",
   "metadata": {
    "tags": [
     "hide-cell"
    ]
   },
   "source": [
    "Let's confirm our estimate by formally computing the limit."
   ]
  },
  {
   "cell_type": "code",
   "execution_count": 1,
   "id": "5d63b4a9-f07a-4394-b9b9-2141ef25b438",
   "metadata": {},
   "outputs": [
    {
     "ename": "NameError",
     "evalue": "name 'sp' is not defined",
     "output_type": "error",
     "traceback": [
      "\u001b[0;31m---------------------------------------------------------------------------\u001b[0m",
      "\u001b[0;31mNameError\u001b[0m                                 Traceback (most recent call last)",
      "\u001b[0;32m<ipython-input-1-e40911d73e98>\u001b[0m in \u001b[0;36m<module>\u001b[0;34m\u001b[0m\n\u001b[0;32m----> 1\u001b[0;31m \u001b[0msp\u001b[0m\u001b[0;34m.\u001b[0m\u001b[0mlimit\u001b[0m\u001b[0;34m(\u001b[0m\u001b[0mf\u001b[0m\u001b[0;34m(\u001b[0m\u001b[0mx\u001b[0m\u001b[0;34m)\u001b[0m\u001b[0;34m,\u001b[0m\u001b[0mx\u001b[0m\u001b[0;34m,\u001b[0m\u001b[0;36m1.2\u001b[0m\u001b[0;34m)\u001b[0m\u001b[0;34m\u001b[0m\u001b[0;34m\u001b[0m\u001b[0m\n\u001b[0m",
      "\u001b[0;31mNameError\u001b[0m: name 'sp' is not defined"
     ]
    }
   ],
   "source": [
    "sp.limit(f(x),x,1.2)"
   ]
  },
  {
   "cell_type": "code",
   "execution_count": null,
   "id": "4d072ae2-cc68-4614-97ba-8feed0278d4e",
   "metadata": {},
   "outputs": [],
   "source": []
  }
 ],
 "metadata": {
  "hide_input": false,
  "kernelspec": {
   "display_name": "Python 3",
   "language": "python",
   "name": "python3"
  },
  "language_info": {
   "codemirror_mode": {
    "name": "ipython",
    "version": 3
   },
   "file_extension": ".py",
   "mimetype": "text/x-python",
   "name": "python",
   "nbconvert_exporter": "python",
   "pygments_lexer": "ipython3",
   "version": "3.9.4"
  }
 },
 "nbformat": 4,
 "nbformat_minor": 5
}
