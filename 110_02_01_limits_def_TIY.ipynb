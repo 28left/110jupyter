{
 "cells": [
  {
   "cell_type": "code",
   "execution_count": 1,
   "id": "b587fd28-18fe-40f4-81db-fd64b90e3cf2",
   "metadata": {
    "hide_input": false,
    "init_cell": true
   },
   "outputs": [
    {
     "name": "stdout",
     "output_type": "stream",
     "text": [
      "Initialization successful!\n"
     ]
    }
   ],
   "source": [
    "from cyllene import *\n",
    "%initialize 110_02_01_limits_def"
   ]
  },
  {
   "cell_type": "markdown",
   "id": "a25b6290",
   "metadata": {},
   "source": [
    "## Numerically estimating limits"
   ]
  },
  {
   "cell_type": "code",
   "execution_count": 2,
   "id": "fc16056a",
   "metadata": {
    "hide_input": true,
    "init_cell": true
   },
   "outputs": [
    {
     "data": {
      "text/markdown": [
       "### <font color='SteelBlue'>&#128260;  Problem 1</font>"
      ],
      "text/plain": [
       "<IPython.core.display.Markdown object>"
      ]
     },
     "metadata": {},
     "output_type": "display_data"
    },
    {
     "data": {
      "text/markdown": [
       "Below, you see a table in which we evaluate a function $f(x)$ for values of $x$ that are closer and closer to $-1$ (but **not equal to** $-1$). \\\n",
       "    What do the values $f(x)$ suggest $\\lim_{x\\to -1} f(x)$ would be?"
      ],
      "text/plain": [
       "<IPython.core.display.Markdown object>"
      ]
     },
     "metadata": {},
     "output_type": "display_data"
    },
    {
     "data": {
      "text/html": [
       "<div>\n",
       "<style scoped>\n",
       "    .dataframe tbody tr th:only-of-type {\n",
       "        vertical-align: middle;\n",
       "    }\n",
       "\n",
       "    .dataframe tbody tr th {\n",
       "        vertical-align: top;\n",
       "    }\n",
       "\n",
       "    .dataframe thead th {\n",
       "        text-align: right;\n",
       "    }\n",
       "</style>\n",
       "<table border=\"1\" class=\"dataframe\">\n",
       "  <thead>\n",
       "    <tr style=\"text-align: right;\">\n",
       "      <th></th>\n",
       "      <th>x</th>\n",
       "      <th>f(x)</th>\n",
       "    </tr>\n",
       "  </thead>\n",
       "  <tbody>\n",
       "    <tr>\n",
       "      <th>0</th>\n",
       "      <td>-1.100</td>\n",
       "      <td>-9.22900000000000</td>\n",
       "    </tr>\n",
       "    <tr>\n",
       "      <th>1</th>\n",
       "      <td>-1.010</td>\n",
       "      <td>-8.12029900000000</td>\n",
       "    </tr>\n",
       "    <tr>\n",
       "      <th>2</th>\n",
       "      <td>-1.001</td>\n",
       "      <td>-8.01200299900000</td>\n",
       "    </tr>\n",
       "    <tr>\n",
       "      <th>3</th>\n",
       "      <td>-0.999</td>\n",
       "      <td>-7.98800300100000</td>\n",
       "    </tr>\n",
       "    <tr>\n",
       "      <th>4</th>\n",
       "      <td>-0.990</td>\n",
       "      <td>-7.88030100000000</td>\n",
       "    </tr>\n",
       "    <tr>\n",
       "      <th>5</th>\n",
       "      <td>-0.900</td>\n",
       "      <td>-6.83100000000000</td>\n",
       "    </tr>\n",
       "  </tbody>\n",
       "</table>\n",
       "</div>"
      ],
      "text/plain": [
       "       x               f(x)\n",
       "0 -1.100  -9.22900000000000\n",
       "1 -1.010  -8.12029900000000\n",
       "2 -1.001  -8.01200299900000\n",
       "3 -0.999  -7.98800300100000\n",
       "4 -0.990  -7.88030100000000\n",
       "5 -0.900  -6.83100000000000"
      ]
     },
     "metadata": {},
     "output_type": "display_data"
    },
    {
     "data": {
      "text/markdown": [
       "*Enter the answer(s) in the cell below.*"
      ],
      "text/plain": [
       "<IPython.core.display.Markdown object>"
      ]
     },
     "metadata": {},
     "output_type": "display_data"
    }
   ],
   "source": [
    "%problem 1"
   ]
  },
  {
   "cell_type": "code",
   "execution_count": null,
   "id": "860833c8",
   "metadata": {},
   "outputs": [],
   "source": [
    "%%answer Problem 1\n"
   ]
  },
  {
   "cell_type": "markdown",
   "id": "36e48c4f",
   "metadata": {},
   "source": [
    "## Numerically estimating one-sided limits"
   ]
  },
  {
   "cell_type": "code",
   "execution_count": 3,
   "id": "2d442c9b",
   "metadata": {
    "hide_input": true,
    "init_cell": true,
    "scrolled": true
   },
   "outputs": [
    {
     "data": {
      "text/markdown": [
       "### <font color='SteelBlue'>&#128260;  Problem 2</font>"
      ],
      "text/plain": [
       "<IPython.core.display.Markdown object>"
      ]
     },
     "metadata": {},
     "output_type": "display_data"
    },
    {
     "data": {
      "text/markdown": [
       "Below, you see a spreadshet in which some values of a function $f(x)$ are computed. \\\n",
       "    What do the values $f(x)$ suggest the **right-hand limit** $\\lim_{x\\to 1^+} f(x)$ would be?"
      ],
      "text/plain": [
       "<IPython.core.display.Markdown object>"
      ]
     },
     "metadata": {},
     "output_type": "display_data"
    },
    {
     "data": {
      "application/vnd.jupyter.widget-view+json": {
       "model_id": "f54d11453ba84f45b99275166e41c327",
       "version_major": 2,
       "version_minor": 0
      },
      "text/plain": [
       "Sheet(cells=(Cell(column_end=3, column_start=0, numeric_format='0.00000', row_end=0, row_start=0, squeeze_colu…"
      ]
     },
     "metadata": {},
     "output_type": "display_data"
    },
    {
     "data": {
      "text/markdown": [
       "(You can edit the spreadsheet to compute further values of $f$)"
      ],
      "text/plain": [
       "<IPython.core.display.Markdown object>"
      ]
     },
     "metadata": {},
     "output_type": "display_data"
    },
    {
     "data": {
      "text/markdown": [
       "*Enter the answer(s) in the cell below.*"
      ],
      "text/plain": [
       "<IPython.core.display.Markdown object>"
      ]
     },
     "metadata": {},
     "output_type": "display_data"
    }
   ],
   "source": [
    "%problem 2"
   ]
  },
  {
   "cell_type": "code",
   "execution_count": null,
   "id": "1afd4e41",
   "metadata": {},
   "outputs": [],
   "source": [
    "%%answer Problem 2\n"
   ]
  },
  {
   "cell_type": "markdown",
   "id": "eed545bd",
   "metadata": {},
   "source": [
    "---"
   ]
  },
  {
   "cell_type": "markdown",
   "id": "a85bfb87",
   "metadata": {},
   "source": [
    "In the cell below, you can evaluate an unknow function $g(x)$ for any value of $x$. For example, to compute $g(3)$ you would enter `g(3)` in the cell below and press `Shift+Enter` to execute."
   ]
  },
  {
   "cell_type": "code",
   "execution_count": null,
   "id": "98cd5aab",
   "metadata": {},
   "outputs": [],
   "source": [
    "g(3)"
   ]
  },
  {
   "cell_type": "code",
   "execution_count": 4,
   "id": "5dce2f54",
   "metadata": {
    "hide_input": true,
    "init_cell": true
   },
   "outputs": [
    {
     "data": {
      "text/markdown": [
       "### <font color='SteelBlue'>&#128260;  Problem 3</font>"
      ],
      "text/plain": [
       "<IPython.core.display.Markdown object>"
      ]
     },
     "metadata": {},
     "output_type": "display_data"
    },
    {
     "data": {
      "text/markdown": [
       "Use the function evaluation cell above to estimate the **left-hand limit** $\\lim_{x \\to {1}^-} g(x)$"
      ],
      "text/plain": [
       "<IPython.core.display.Markdown object>"
      ]
     },
     "metadata": {},
     "output_type": "display_data"
    },
    {
     "data": {
      "text/markdown": [
       "*Enter the answer(s) in the cell below.*"
      ],
      "text/plain": [
       "<IPython.core.display.Markdown object>"
      ]
     },
     "metadata": {},
     "output_type": "display_data"
    }
   ],
   "source": [
    "%problem 3"
   ]
  },
  {
   "cell_type": "code",
   "execution_count": null,
   "id": "2d16fd18",
   "metadata": {},
   "outputs": [],
   "source": [
    "%%answer Problem 3\n"
   ]
  }
 ],
 "metadata": {
  "hide_input": false,
  "kernelspec": {
   "display_name": "Python 3",
   "language": "python",
   "name": "python3"
  },
  "language_info": {
   "codemirror_mode": {
    "name": "ipython",
    "version": 3
   },
   "file_extension": ".py",
   "mimetype": "text/x-python",
   "name": "python",
   "nbconvert_exporter": "python",
   "pygments_lexer": "ipython3",
   "version": "3.9.4"
  }
 },
 "nbformat": 4,
 "nbformat_minor": 5
}