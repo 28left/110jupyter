{
 "cells": [
  {
   "cell_type": "code",
   "execution_count": 1,
   "metadata": {},
   "outputs": [],
   "source": [
    "from __future__ import print_function\n",
    "from ipywidgets import interact, interactive, fixed, interact_manual\n",
    "import ipywidgets as widgets\n",
    "from traitlets import traitlets\n",
    "from IPython.display import display, Math, Latex\n",
    "import matplotlib.pyplot as plt\n",
    "import numpy as np\n",
    "import sympy as sp\n",
    "from functools import partial\n",
    "\n",
    "\n",
    "\n",
    "\n",
    "#\n",
    "# Auxiliary functions needed to parse function string inputs\n",
    "#\n",
    "\n",
    "\n",
    "# operator dictionary\n",
    "unary_operators=['neg','sqrt','abs','exp','log','sin','cos','tan','sec','csc','cot','arcsin','arccos','arctan','arcsec','arccsc','arccot']\n",
    "binary_operators=['+','-','*','/','^']\n",
    "\n",
    "#Reserve some symbols in Sympy\n",
    "x, y, z, h = sp.symbols('x y z h')\n",
    "\n",
    "\n",
    "def is_number(s):\n",
    "    # checks whether the string s is a number (integer or float)\n",
    "    try:\n",
    "        float(s)\n",
    "        return True\n",
    "    except ValueError:\n",
    "        return False\n",
    "    \n",
    "def is_letter(s):\n",
    "    # checks whether the string s is a single letter. Returns false if s contains more than one character\n",
    "    if len(s)==1 and s.isalpha():\n",
    "        return True\n",
    "    return False\n",
    "\n",
    "def needs_times(string,i):\n",
    "    # accepts a string and in index i. Returns true if string needs a '*' character inserted between positions i and i+1 in order to be properly interpreted as a function\n",
    "    if i==len(string)-1:\n",
    "        return False\n",
    "    \n",
    "    if is_letter(string[i]) and is_number(string[i+1]):\n",
    "        return True\n",
    "    if is_letter(string[i+1]) and is_number(string[i]):\n",
    "        return True\n",
    "    if is_number(string[i]) and string[i+1]=='(':\n",
    "        return True\n",
    "    if is_letter(string[i]) and string[i+1]=='(' and get_adjacent_characters(string,i)[0] not in unary_operators:\n",
    "        return True\n",
    "    if string[i]==')' and is_letter(string[i+1]):\n",
    "        return True\n",
    "    if string[i]==')' and is_number(string[i+1]):\n",
    "        return True\n",
    "    if string[i]==')' and string[i+1]=='(':\n",
    "        return True\n",
    "    \n",
    "    return False\n",
    "\n",
    "def get_adjacent_characters(string,i,test=lambda x:is_letter(x)):\n",
    "    # returns a triple of the form [s,a,b] where s is the largest substring of string containing the index i where all the characters match a specific form. The default is that all the characters in s are letters. a and b are the indices in string of the first and last chcaracters in s respectively.\n",
    "    s=string[i]\n",
    "\n",
    "    if not test(s):\n",
    "        return []\n",
    "    \n",
    "    j=i+1\n",
    "    while j<len(string) and test(string[j]):\n",
    "        s=s+string[j]\n",
    "        j+=1\n",
    "    \n",
    "    k=i-1\n",
    "    while k>-1 and test(string[k]):\n",
    "        s=string[k]+s\n",
    "        k-=1\n",
    "    \n",
    "    return [s,k+1,j-1]\n",
    "\n",
    "def fix_minuses(string):\n",
    "    # adjusts a string to account for the inconvenient fact that the '-' symbol can be interpreted as either a minus sign or a negative sign.\n",
    "    i=0\n",
    "    while i<len(string):\n",
    "        if string[i]=='-':\n",
    "            [m,a,b]=get_adjacent_characters(string,i,test=lambda x:x=='-')\n",
    "            if a==0:\n",
    "                if b%2==1:\n",
    "                    string=string[b+1:]\n",
    "                else:\n",
    "                    string='-'+string[b+1:]\n",
    "                i=0\n",
    "            elif b<len(string)-1:\n",
    "                s1=string[:a]\n",
    "                s2=string[b+1:]\n",
    "                if string[a-1] in ['+','*','/','^']:\n",
    "                    if (b-a)%2==1:\n",
    "                        string=s1+s2\n",
    "                    else:\n",
    "                        string=s1+'-'+s2\n",
    "                else:\n",
    "                    if (b-a)%2==1:\n",
    "                        string=s1+'+'+s2\n",
    "                    else:\n",
    "                        string=s1+'-'+s2\n",
    "                i=a+1\n",
    "            else:\n",
    "                if (b-a)%2==1:\n",
    "                    string=string[:a]\n",
    "                else:\n",
    "                    string=string[:a]+'-'\n",
    "                i=len(string)-1\n",
    "        i+=1\n",
    "    return string\n",
    "                \n",
    "                \n",
    "def add_times(string):\n",
    "    i=0\n",
    "    while i<len(string):\n",
    "        if string[i]==' ':\n",
    "            ws=get_adjacent_characters(string,i,test=lambda x:x==' ')\n",
    "            if ws[1]==0:\n",
    "                string=string[ws[2]+1:]\n",
    "            elif ws[2]==len(string)-1:\n",
    "                string=string[:ws[1]]\n",
    "            elif is_letter(string[ws[1]-1]) and is_letter(string[ws[2]+1]):\n",
    "                string=string[:ws[1]]+'*'+string[ws[2]+1:]\n",
    "            else:\n",
    "                string=string[:ws[1]]+'*'+string[ws[2]+1:]\n",
    "            i-=1\n",
    "        if needs_times(string,i):\n",
    "            string=string[:i+1]+'*'+string[i+1:]    \n",
    "        i+=1\n",
    "        \n",
    "    return string\n",
    "\n",
    "\n",
    "def check_adjacency(s):\n",
    "    if s[0]=='(' and s[1]==')':\n",
    "        return ['emptry parentheses: ()']\n",
    "    if s[0]=='(' and s[1] in ['+','*','/','^']:\n",
    "        return ['empty operand: '+s]\n",
    "    if s[0] in binary_operators and s[1]==')':\n",
    "        return ['empty operand: '+s]\n",
    "    if s[0] in binary_operators and s[1] in ['+','*','/','^']:\n",
    "        return ['double operator: '+s]\n",
    "    \n",
    "    return []\n",
    "\n",
    "\n",
    "def get_variables(list_form):\n",
    "    var=list(set(get_variables_dup(list_form)))\n",
    "    var.sort()\n",
    "    return var\n",
    "\n",
    "def get_variables_dup(list_form):\n",
    "    if  type(list_form) is not list:\n",
    "        if is_number(list_form):\n",
    "            return []\n",
    "        else:\n",
    "            return [list_form]\n",
    "        \n",
    "    if len(list_form)==2:\n",
    "        return get_variables(list_form[1]) \n",
    "    else:\n",
    "        return get_variables(list_form[1])+get_variables(list_form[2])\n",
    "\n",
    "\n",
    "#\n",
    "# end auxiliary parsing functions\n",
    "#\n",
    "\n",
    "\n",
    "\n",
    "# Check format of input string whether it corresponds to \"correct\" expression\n",
    "def check_format(string):\n",
    "    if string=='':\n",
    "        return ['empty']\n",
    "    issues=[]\n",
    "    nest_level=0\n",
    "    neg=False;\n",
    "    for i in range(len(string)):\n",
    "        if string[i]=='(':\n",
    "            nest_level+=1\n",
    "        if string[i]==')':\n",
    "            nest_level-=1\n",
    "        if nest_level<0:\n",
    "            neg=True\n",
    "        if i<len(string)-1:\n",
    "            issues+=check_adjacency(string[i:i+2])\n",
    "        if (string[i] not in binary_operators) and (not is_letter(string[i])) and (not is_number(string[i])) and (string[i] not in ['.','(',')']): \n",
    "            issues+=['invalid character: '+string[i]]\n",
    "    if nest_level>0:\n",
    "        issues+=['more open parentheses than close parentheses']\n",
    "    if nest_level<0:\n",
    "        issues+=['more close parentheses than open parentheses']\n",
    "    if neg:\n",
    "        issues+=['parentheses unbalanced']\n",
    "            \n",
    "    if string[0] in ['+','*','/','^']:\n",
    "        issues+=['cannot begin with an operator']\n",
    "    \n",
    "    if string[-1] in binary_operators:\n",
    "        issues+=['cannot end with an operator']\n",
    "    \n",
    "    i=0\n",
    "    while i<len(string):\n",
    "        if is_letter(string[i]):\n",
    "            word=get_adjacent_characters(string,i)\n",
    "            if word[0] in unary_operators and (word[2]==len(string)-1 or not string[word[2]+1]=='('):\n",
    "                issues+=['function '+word[0]+' must be followed by parentheses']\n",
    "            i=word[2]\n",
    "        i+=1\n",
    "    \n",
    "    return issues\n",
    "\n",
    "\n",
    "\n",
    "def to_list_form(string):\n",
    "    if string[0]=='-':\n",
    "        neg=True\n",
    "    else:\n",
    "        neg=False\n",
    "\n",
    "    nest_level=0\n",
    "    plus=[]\n",
    "    minus=[]\n",
    "    times=[]\n",
    "    divide=[]\n",
    "    power=[]\n",
    "    for i in range(len(string)):\n",
    "        if string[i]=='(':\n",
    "            nest_level+=1\n",
    "        if string[i]==')':\n",
    "            nest_level-=1\n",
    "        if string[i]=='+' and nest_level==0:\n",
    "            plus+=[i]\n",
    "        if string[i]=='-' and nest_level==0 and (i==0 or (i>0 and string[i-1] not in ['*','/','^'])):\n",
    "            minus+=[i]\n",
    "        if string[i]=='*' and nest_level==0:\n",
    "            times+=[i]\n",
    "        if string[i]=='/' and nest_level==0:\n",
    "            divide+=[i]\n",
    "        if string[i]=='^' and nest_level==0:\n",
    "            power+=[i]\n",
    "    \n",
    "    if len(plus)>0:\n",
    "        pos=plus[0]\n",
    "    elif len(minus)>0 and not neg:\n",
    "        pos=minus[0]\n",
    "    elif len(minus)>1 and neg:\n",
    "        pos=minus[1]\n",
    "    elif len(times)>0:\n",
    "        pos=times[0]\n",
    "    elif len(divide)>0:\n",
    "        pos=divide[0]\n",
    "    elif len(power)>0:\n",
    "        pos=power[0]\n",
    "    else:\n",
    "        pos=-1\n",
    "    if pos>-1:\n",
    "        return [string[pos],\n",
    "                to_list_form(string[:pos]),\n",
    "                to_list_form(string[pos+1:])]\n",
    "    \n",
    "    if string[0]=='(' and string[-1]==')':\n",
    "        return to_list_form(string[1:-1])        \n",
    "    \n",
    "    if neg:\n",
    "        return ['neg',to_list_form(string[1:])]\n",
    "    for func in unary_operators:\n",
    "        if string.startswith(func):\n",
    "            return [func,to_list_form(string[len(func):])]\n",
    "        \n",
    "    return string\n",
    "\n",
    "\n",
    "\n",
    "\n",
    "\n",
    "class BaseFunction:\n",
    "\n",
    "    def __init__(self,*args):\n",
    "        \n",
    "        if len(args) > 0:\n",
    "            self.set_function(args[0])\n",
    "        else:\n",
    "            self.set_function()\n",
    "            \n",
    "\n",
    "    def set_function(self,*args):\n",
    "        \n",
    "        if len(args) == 0:\n",
    "            self.str_form = ''\n",
    "            self.list_form = []\n",
    "            self.tex_form = ''                \n",
    "            self.sym_form = sp.sympify('-1')\n",
    "            self.compilable = False\n",
    "            self.func_is_defined = False\n",
    "\n",
    "        # parse argument according to type (string or sympy expression)\n",
    "        elif type(args[0]) == str:\n",
    "            \n",
    "            # perform some pre-processing  \n",
    "            self.str_form=fix_minuses(add_times(args[0]))\n",
    "\n",
    "            # check format of input string\n",
    "            self.issues=check_format(self.str_form)\n",
    "\n",
    "            # if format ok, try to convert to various forms\n",
    "            if len(self.issues)==0:\n",
    "\n",
    "                self.compileable=True\n",
    "\n",
    "                try:\n",
    "                    # get list_form\n",
    "                    self.list_form=to_list_form(self.str_form)\n",
    "\n",
    "                    # collect variables and get symbolic form\n",
    "\n",
    "                    # get the variables from the list form and put them in a string\n",
    "                    self.func_symbols = get_variables(self.list_form)\n",
    "\n",
    "                    # now create sympy symbols for each variable symbol found\n",
    "                    if len(self.func_symbols) > 0:\n",
    "                        var_string=self.func_symbols[0]\n",
    "                        i=1\n",
    "                        while i < len(self.func_symbols):\n",
    "                            var_string+=' '+self.func_symbols[i]\n",
    "                            i+=1\n",
    "\n",
    "                        self.func_vars = sp.symbols(var_string)\n",
    "\n",
    "                    # create sympy expression from input string, converting usual exp sign to Python exp\n",
    "                    self.sym_form = sp.sympify(self.str_form.replace('^','**'))\n",
    "\n",
    "                    # use sympy converter to initialize tex form\n",
    "                    self.tex_form = sp.latex(self.sym_form)\n",
    "\n",
    "                    # Set \"defined\" flag\n",
    "                    self.func_is_defined = True\n",
    "\n",
    "                except:\n",
    "                    self.compileable=False\n",
    "                    self.list_form=[]\n",
    "                    self.sym_form=sp.sympify('-1')\n",
    "                    self.tex_form=''\n",
    "                    self.issues=['This function could not be compiled for an unknown reason']\n",
    "                    self.func_is_defined = False\n",
    "\n",
    "            else:\n",
    "                self.compileable=False\n",
    "                self.list_form=[]\n",
    "                self.sym_form=sp.sympify('-1')\n",
    "                self.tex_form = ''\n",
    "                self.func_is_defined = False\n",
    "\n",
    "\n",
    "        # if agrument is sympy expression, we can initialize right away        \n",
    "        elif isinstance(args[0], tuple(sp.core.all_classes)):\n",
    "            self.sym_form = args[0]\n",
    "            self.compileable=False\n",
    "            self.str_form = str(self.sym_form)\n",
    "            self.list_form=[]\n",
    "            self.tex_form = sp.latex(self.sym_form)\n",
    "            self.func_is_defined = True\n",
    "\n",
    "            \n",
    "\n",
    "        else:\n",
    "            self.compileable=False\n",
    "            self.list_form=[]\n",
    "            self.sym_form=sp.sympify('-1')\n",
    "            self.tex_form = ''\n",
    "            self.func_is_defined = False\n",
    "\n",
    "\n",
    "\n",
    "            \n",
    "            \n",
    "\n",
    "    # check whether function is equal to a given expression\n",
    "    def check_function(self,expr):\n",
    "        \n",
    "        if self.func_is_defined == True:\n",
    "            \n",
    "            print(expr)\n",
    "            test_function = BaseFunction(expr['new'])\n",
    "            print(self.tex_form) \n",
    "            print(test_function.tex_form)\n",
    "            if sp.simplify(self.sym_form-test_function.sym_form) == 0:\n",
    "                print(\"Correct!\")\n",
    "                return True\n",
    "            else:\n",
    "                print(\"Not correct.\")\n",
    "                return False\n",
    "                    \n",
    "    \n",
    "\n",
    "        \n",
    "# Derive a function class with widget methods: \n",
    "class WidgetFunction(BaseFunction):\n",
    "\n",
    "    def __init__(self, *args):\n",
    "        if len(args) == 0:\n",
    "            self.get_input_from_widget()\n",
    "        else:\n",
    "            self.set_function(args[0])\n",
    "            \n",
    "            \n",
    "    def set_function_on_click(self,input_text,button):\n",
    "        \n",
    "        self.set_function(input_text.value)\n",
    "        print(\"You entered: \")\n",
    "        display(Math(self.tex_form))\n",
    "        \n",
    "        \n",
    "    def get_input_from_button_widget(self):\n",
    "        \n",
    "        w_g = widgets.Text(\n",
    "            value='',\n",
    "            placeholder='Type something',\n",
    "            description='g(x) = ',\n",
    "            continuous_update=False,\n",
    "            disabled=False\n",
    "        )\n",
    "\n",
    "        display(w_g)\n",
    "        button = widgets.Button(description=\"Submit\")\n",
    "        display(button)\n",
    "        button.on_click(partial(self.set_function_on_click,w_g))\n",
    "    \n",
    "    \n",
    "    def subs_into_function(self,expr):\n",
    "        \n",
    "        return self.sym_form.subs(vars[0], expr)\n",
    "    \n",
    "    \n",
    "        \n",
    "    def check_function_against_input(self, name):\n",
    "\n",
    "        input_field = widgets.Text(\n",
    "            value='',\n",
    "            placeholder='Type answer and press enter',\n",
    "            description= name + ' = ',\n",
    "            continuous_update=False,\n",
    "            disabled=False\n",
    "        )\n",
    "\n",
    "        input_field.observe(self.evaluate_text_input, names='value')            \n",
    "        display(input_field)\n",
    "            \n",
    "\n",
    "            \n",
    "    # check whether function is equal to a given expression\n",
    "    def evaluate_text_input(self,expr):\n",
    "        \n",
    "        input_function = BaseFunction(expr['new'])\n",
    "        print(\"You entered: \") \n",
    "        display(Math(input_function.tex_form))\n",
    "\n",
    "        if sp.simplify(self.sym_form - input_function.sym_form) == 0:\n",
    "            print(\"Correct!\")\n",
    "            return True\n",
    "        else:\n",
    "            print(\"Not correct. Please try again.\")\n",
    "            return False\n",
    "\n",
    "\n",
    "\n",
    "# def evaluate_text_input_against_expr(self,expr):\n",
    "\n",
    "#     input_function = BaseFunction(expr['new'])\n",
    "#     print(\"You entered: \") \n",
    "#     display(Math(input_function.tex_form))\n",
    "\n",
    "#     if sp.simplify(self.sym_form - input_function.sym_form) == 0:\n",
    "#         print(\"Correct!\")\n",
    "#         return True\n",
    "#     else:\n",
    "#         print(\"Not correct. Please try again.\")\n",
    "#         return False\n",
    "\n",
    "\n",
    "        \n",
    "# def check_expr_against_input(expr):\n",
    "#     w_g = widgets.Text(\n",
    "#         value='',\n",
    "#         placeholder='Type and press Enter',\n",
    "#         description='Your answer: ',\n",
    "#         continuous_update=False,\n",
    "#         disabled=False\n",
    "#     )\n",
    "\n",
    "#     display(w_g)\n",
    "#     button = widgets.Button(description=\"Submit\")\n",
    "#     display(button)\n",
    "#     button.on_click(partial(self.set_function_on_click,w_g))\n",
    "\n",
    "   "
   ]
  },
  {
   "cell_type": "markdown",
   "metadata": {},
   "source": [
    "# Activity 2 – What is a function?"
   ]
  },
  {
   "cell_type": "markdown",
   "metadata": {
    "hide_input": false
   },
   "source": [
    "## Part 1 – The definition of a function"
   ]
  },
  {
   "cell_type": "markdown",
   "metadata": {},
   "source": [
    "A function is a correspondence, or, \"rule\" between inputs and outputs such that every input corresponds to only one output. This is different from the more general notion of a relation, where an input can be sent to multiple outputs. One can think of a function as a \"machine\" that accepts inputs and turns them into outputs. For example, consider the function that multiplies every input by 2. (Your calculator is a “function machine;” when you ask it a question, it only gives you one response.)"
   ]
  },
  {
   "cell_type": "markdown",
   "metadata": {},
   "source": [
    "Here’s a drawing of a function machine."
   ]
  },
  {
   "cell_type": "markdown",
   "metadata": {},
   "source": [
    "![Function Machine](image_activity_2.png \"Logo Title\")"
   ]
  },
  {
   "cell_type": "markdown",
   "metadata": {},
   "source": [
    "If we input 5 into this function, we get 10 as the output. If $x$ represents a generic number that we input, our output will be $2x$."
   ]
  },
  {
   "cell_type": "markdown",
   "metadata": {},
   "source": [
    "### Function notation"
   ]
  },
  {
   "cell_type": "markdown",
   "metadata": {},
   "source": [
    "It would be cumbersome to have to refer to the function above as \"the function that multiplies every input by 2\". Therefore, we introduce the idea of function notation as a shorter way to get the same idea across. Remember that we said inputting a generic number $x$ will yield an output of $2x$. This relationship tells us exactly what our function does -- it multiplies inputs by 2. If we denote our function by a lowercase letter, say $f$, we can describe what it does as\n",
    "\n",
    "> $f(x) = 2x$."
   ]
  },
  {
   "cell_type": "markdown",
   "metadata": {},
   "source": [
    "We read this as \"*f of x equals 2x*\". This is a short way of saying that is the function that, when $x$ is the input, the output of the function is $2x$."
   ]
  },
  {
   "cell_type": "markdown",
   "metadata": {},
   "source": [
    "We can convert sentences into function notation."
   ]
  },
  {
   "cell_type": "markdown",
   "metadata": {},
   "source": [
    "> **Example:** “k is the function that divides the input 3 and adds 1” would be written as $f(x) = \\frac{x}{3}+1$."
   ]
  },
  {
   "cell_type": "markdown",
   "metadata": {},
   "source": [
    "### Problem 1"
   ]
  },
  {
   "cell_type": "markdown",
   "metadata": {},
   "source": [
    "Convert each of the following sentences to function notation."
   ]
  },
  {
   "cell_type": "markdown",
   "metadata": {},
   "source": [
    "1. $g$ is the function that adds 5 to the input and takes the square root of the result."
   ]
  },
  {
   "cell_type": "code",
   "execution_count": 2,
   "metadata": {},
   "outputs": [
    {
     "data": {
      "application/vnd.jupyter.widget-view+json": {
       "model_id": "9fb3fe3da7544d93ba34022739b80729",
       "version_major": 2,
       "version_minor": 0
      },
      "text/plain": [
       "Text(value='', continuous_update=False, description='g(x) = ', placeholder='Type answer and press enter')"
      ]
     },
     "metadata": {},
     "output_type": "display_data"
    },
    {
     "name": "stdout",
     "output_type": "stream",
     "text": [
      "You entered: \n"
     ]
    },
    {
     "data": {
      "text/latex": [
       "$\\displaystyle x + 1$"
      ],
      "text/plain": [
       "<IPython.core.display.Math object>"
      ]
     },
     "metadata": {},
     "output_type": "display_data"
    },
    {
     "name": "stdout",
     "output_type": "stream",
     "text": [
      "Not correct. Please try again.\n",
      "You entered: \n"
     ]
    },
    {
     "data": {
      "text/latex": [
       "$\\displaystyle \\sqrt{x + 5}$"
      ],
      "text/plain": [
       "<IPython.core.display.Math object>"
      ]
     },
     "metadata": {},
     "output_type": "display_data"
    },
    {
     "name": "stdout",
     "output_type": "stream",
     "text": [
      "Correct!\n",
      "You entered: \n"
     ]
    },
    {
     "data": {
      "text/latex": [
       "$\\displaystyle \\sqrt{x + 5}$"
      ],
      "text/plain": [
       "<IPython.core.display.Math object>"
      ]
     },
     "metadata": {},
     "output_type": "display_data"
    },
    {
     "name": "stdout",
     "output_type": "stream",
     "text": [
      "Correct!\n",
      "You entered: \n"
     ]
    },
    {
     "data": {
      "text/latex": [
       "$\\displaystyle \\sqrt{x + 5}$"
      ],
      "text/plain": [
       "<IPython.core.display.Math object>"
      ]
     },
     "metadata": {},
     "output_type": "display_data"
    },
    {
     "name": "stdout",
     "output_type": "stream",
     "text": [
      "Correct!\n"
     ]
    }
   ],
   "source": [
    "f = WidgetFunction('sqrt(x+5)')\n",
    "f.check_function_against_input('g(x)')"
   ]
  },
  {
   "cell_type": "markdown",
   "metadata": {},
   "source": [
    "2. $h$ is the function that cubes the input and then adds half of the input."
   ]
  },
  {
   "cell_type": "code",
   "execution_count": 3,
   "metadata": {},
   "outputs": [
    {
     "data": {
      "application/vnd.jupyter.widget-view+json": {
       "model_id": "a8bf01e54ff84b3abac1275af6fb053c",
       "version_major": 2,
       "version_minor": 0
      },
      "text/plain": [
       "Text(value='', continuous_update=False, description='h(x) = ', placeholder='Type answer and press enter')"
      ]
     },
     "metadata": {},
     "output_type": "display_data"
    }
   ],
   "source": [
    "f = WidgetFunction('x^3+x/2')\n",
    "f.check_function_against_input('h(x)')"
   ]
  },
  {
   "cell_type": "markdown",
   "metadata": {},
   "source": [
    "3. $m$ is the function that takes the reciprocal of the input and then takes the logarithm of the result."
   ]
  },
  {
   "cell_type": "code",
   "execution_count": 4,
   "metadata": {},
   "outputs": [
    {
     "data": {
      "application/vnd.jupyter.widget-view+json": {
       "model_id": "2622917354b147da9d161c56387e59d1",
       "version_major": 2,
       "version_minor": 0
      },
      "text/plain": [
       "Text(value='', continuous_update=False, description='m(x) = ', placeholder='Type answer and press enter')"
      ]
     },
     "metadata": {},
     "output_type": "display_data"
    },
    {
     "name": "stdout",
     "output_type": "stream",
     "text": [
      "You entered: \n"
     ]
    },
    {
     "data": {
      "text/latex": [
       "$\\displaystyle \\log{\\left(\\frac{1}{x} \\right)}$"
      ],
      "text/plain": [
       "<IPython.core.display.Math object>"
      ]
     },
     "metadata": {},
     "output_type": "display_data"
    },
    {
     "name": "stdout",
     "output_type": "stream",
     "text": [
      "Correct!\n",
      "You entered: \n"
     ]
    },
    {
     "data": {
      "text/latex": [
       "$\\displaystyle - \\log{\\left(x \\right)}$"
      ],
      "text/plain": [
       "<IPython.core.display.Math object>"
      ]
     },
     "metadata": {},
     "output_type": "display_data"
    },
    {
     "name": "stdout",
     "output_type": "stream",
     "text": [
      "Not correct. Please try again.\n",
      "You entered: \n"
     ]
    },
    {
     "data": {
      "text/latex": [
       "$\\displaystyle - \\log{\\left(x \\right)}$"
      ],
      "text/plain": [
       "<IPython.core.display.Math object>"
      ]
     },
     "metadata": {},
     "output_type": "display_data"
    },
    {
     "name": "stdout",
     "output_type": "stream",
     "text": [
      "Not correct. Please try again.\n"
     ]
    }
   ],
   "source": [
    "m = WidgetFunction('log(1/x)')\n",
    "m.check_function_against_input('m(x)')"
   ]
  },
  {
   "cell_type": "markdown",
   "metadata": {},
   "source": [
    "## Part 2 -- Function evaluation"
   ]
  },
  {
   "cell_type": "markdown",
   "metadata": {},
   "source": [
    "One advantage to function notation is that it makes it easy to evaluate functions; that is, input numbers or expressions into the function."
   ]
  },
  {
   "cell_type": "markdown",
   "metadata": {},
   "source": [
    "### Example 1"
   ]
  },
  {
   "cell_type": "markdown",
   "metadata": {},
   "source": [
    ">  Consider the function $g(x) = x^2-1$ . This is the function that squares the input and subtracts 1 from the result.\n",
    ">    Let's say we wanted to input 2 into this function. Using the verbal description of the function, we would do the following:\n",
    ">    i. Square the input: 2 squared is 4\n",
    ">    ii. Subtract 1 from the result of the last step: 4 minus 1 is 3.\n",
    ">    The output is 3.\n",
    ">    Using function notation, we can do the following. We are no longer inputting a generic x; we are inputting 2. Therefore, we replace all instances of x in the functional expression with 2.\n",
    "\n",
    "> &nbsp;&nbsp;&nbsp;&nbsp;&nbsp; $g(2) = 2^2-1 = 4-1 = 3$"
   ]
  },
  {
   "cell_type": "markdown",
   "metadata": {},
   "source": [
    "### Example 2 -- Inputting variable expressions"
   ]
  },
  {
   "cell_type": "markdown",
   "metadata": {},
   "source": [
    "> While we often input numbers into a function, we can also input expressions involving variables. We use the same technique as inputting numbers; we replace x with the new input."
   ]
  },
  {
   "cell_type": "markdown",
   "metadata": {},
   "source": [
    "> For the function $g(x)=x^2-1$, we can input $(x+1)$ for $x$, with the following result:\n",
    "> &nbsp;&nbsp;&nbsp;&nbsp;&nbsp; $g(x+1) = (x+1)^2-1 = x^2 +2x +1 -1 = x^2 + 2x$ "
   ]
  },
  {
   "cell_type": "markdown",
   "metadata": {},
   "source": [
    "> When we input $(x+h)$, we arrive at\n",
    "> &nbsp;&nbsp;&nbsp;&nbsp;&nbsp; $g(x+h) = (x+h)^2-1 = x^2 +2xh +h^2 -1 $ "
   ]
  },
  {
   "cell_type": "markdown",
   "metadata": {},
   "source": [
    "### Problem 2"
   ]
  },
  {
   "cell_type": "markdown",
   "metadata": {},
   "source": [
    "> Let $f(x) = \\frac{1}{x^2}$. Evaluate the following."
   ]
  },
  {
   "cell_type": "markdown",
   "metadata": {},
   "source": [
    "1. $f(-3)$"
   ]
  },
  {
   "cell_type": "code",
   "execution_count": 5,
   "metadata": {},
   "outputs": [
    {
     "data": {
      "application/vnd.jupyter.widget-view+json": {
       "model_id": "6832cdeb8f2545289a3bb58e5f336ca5",
       "version_major": 2,
       "version_minor": 0
      },
      "text/plain": [
       "Text(value='', continuous_update=False, description='Answer = ', placeholder='Type answer and press enter')"
      ]
     },
     "metadata": {},
     "output_type": "display_data"
    }
   ],
   "source": [
    "f = WidgetFunction('1/(x^2)')\n",
    "g = WidgetFunction(f.sym_form.subs(x,-3))\n",
    "g.check_function_against_input('Answer')"
   ]
  },
  {
   "cell_type": "markdown",
   "metadata": {},
   "source": [
    "2. $f(1/4)$"
   ]
  },
  {
   "cell_type": "code",
   "execution_count": 6,
   "metadata": {},
   "outputs": [
    {
     "data": {
      "application/vnd.jupyter.widget-view+json": {
       "model_id": "56773d6a16a24409a6762a8ea257a50d",
       "version_major": 2,
       "version_minor": 0
      },
      "text/plain": [
       "Text(value='', continuous_update=False, description='Answer = ', placeholder='Type answer and press enter')"
      ]
     },
     "metadata": {},
     "output_type": "display_data"
    }
   ],
   "source": [
    "g = WidgetFunction(f.sym_form.subs(x,1/4))\n",
    "g.check_function_against_input('Answer')"
   ]
  },
  {
   "cell_type": "markdown",
   "metadata": {},
   "source": [
    "3. $f(x+1)$"
   ]
  },
  {
   "cell_type": "code",
   "execution_count": 7,
   "metadata": {},
   "outputs": [
    {
     "data": {
      "application/vnd.jupyter.widget-view+json": {
       "model_id": "9ce6e296a2b64b00b16f9fd8dfbb1335",
       "version_major": 2,
       "version_minor": 0
      },
      "text/plain": [
       "Text(value='', continuous_update=False, description='Answer = ', placeholder='Type answer and press enter')"
      ]
     },
     "metadata": {},
     "output_type": "display_data"
    }
   ],
   "source": [
    "g = WidgetFunction(f.sym_form.subs(x,x+1))\n",
    "g.check_function_against_input('Answer')"
   ]
  },
  {
   "cell_type": "markdown",
   "metadata": {},
   "source": [
    "4. $f(x+h)$"
   ]
  },
  {
   "cell_type": "code",
   "execution_count": 8,
   "metadata": {},
   "outputs": [
    {
     "data": {
      "application/vnd.jupyter.widget-view+json": {
       "model_id": "e64c32d080f24995bc86433a1fe5f42f",
       "version_major": 2,
       "version_minor": 0
      },
      "text/plain": [
       "Text(value='', continuous_update=False, description='Answer = ', placeholder='Type answer and press enter')"
      ]
     },
     "metadata": {},
     "output_type": "display_data"
    }
   ],
   "source": [
    "g = WidgetFunction(f.sym_form.subs(x,x+h))\n",
    "g.check_function_against_input('Answer')"
   ]
  },
  {
   "cell_type": "markdown",
   "metadata": {},
   "source": [
    "## Part 3 – Difference Quotients"
   ]
  },
  {
   "cell_type": "markdown",
   "metadata": {},
   "source": [
    "Given a function $f$, we define the difference quotient as:\n",
    ">  &nbsp;&nbsp;&nbsp;&nbsp;&nbsp; $\\dfrac{f(x+h)-f(x)}{h}$"
   ]
  },
  {
   "cell_type": "markdown",
   "metadata": {},
   "source": [
    "### Example"
   ]
  },
  {
   "cell_type": "markdown",
   "metadata": {},
   "source": [
    "> Given the function $g(x) = x^2-1$, its difference quotient is\n",
    "\n",
    "> &nbsp;&nbsp;&nbsp;&nbsp;&nbsp; $\\dfrac{g(x+h)-g(x)}{h} = \\dfrac{((x+h)^2-1) - (x^2-1)}{h} = \\dfrac{(x^2+2xh+h^2-1) - (x^2-1)}{h} = \\dfrac{2xh + h^2}{h} = 2x+h$"
   ]
  },
  {
   "cell_type": "markdown",
   "metadata": {},
   "source": [
    "### Problem 3"
   ]
  },
  {
   "cell_type": "markdown",
   "metadata": {},
   "source": [
    "> For each of the functions below, determine the difference quotient and simplify when possible."
   ]
  },
  {
   "cell_type": "markdown",
   "metadata": {},
   "source": [
    "1. $f(x) = x+3$"
   ]
  },
  {
   "cell_type": "code",
   "execution_count": 9,
   "metadata": {},
   "outputs": [
    {
     "data": {
      "application/vnd.jupyter.widget-view+json": {
       "model_id": "b6b7b59b85db46b2bad3b2ac55a3bbd2",
       "version_major": 2,
       "version_minor": 0
      },
      "text/plain": [
       "Text(value='', continuous_update=False, description='Answer = ', placeholder='Type answer and press enter')"
      ]
     },
     "metadata": {},
     "output_type": "display_data"
    }
   ],
   "source": [
    "f = WidgetFunction('x+3')\n",
    "g = WidgetFunction((f.sym_form.subs(x,x+h)-f.sym_form)/h)\n",
    "g.check_function_against_input('Answer')"
   ]
  },
  {
   "cell_type": "markdown",
   "metadata": {},
   "source": [
    "2. $f(x) = x^2+2x$"
   ]
  },
  {
   "cell_type": "code",
   "execution_count": 10,
   "metadata": {},
   "outputs": [
    {
     "data": {
      "application/vnd.jupyter.widget-view+json": {
       "model_id": "2ae4158e0e4245479b39c20eeabda349",
       "version_major": 2,
       "version_minor": 0
      },
      "text/plain": [
       "Text(value='', continuous_update=False, description='Answer = ', placeholder='Type answer and press enter')"
      ]
     },
     "metadata": {},
     "output_type": "display_data"
    }
   ],
   "source": [
    "f = WidgetFunction('x^2+2x')\n",
    "g = WidgetFunction((f.sym_form.subs(x,x+h)-f.sym_form)/h)\n",
    "g.check_function_against_input('Answer')"
   ]
  },
  {
   "cell_type": "markdown",
   "metadata": {},
   "source": [
    "3. $f(x) = \\dfrac{1}{2x}$"
   ]
  },
  {
   "cell_type": "code",
   "execution_count": 11,
   "metadata": {},
   "outputs": [
    {
     "data": {
      "application/vnd.jupyter.widget-view+json": {
       "model_id": "15d00e9da7de4f6a8fa56dffb858a362",
       "version_major": 2,
       "version_minor": 0
      },
      "text/plain": [
       "Text(value='', continuous_update=False, description='Answer = ', placeholder='Type answer and press enter')"
      ]
     },
     "metadata": {},
     "output_type": "display_data"
    }
   ],
   "source": [
    "f = WidgetFunction('1/(2x)')\n",
    "g = WidgetFunction((f.sym_form.subs(x,x+h)-f.sym_form)/h)\n",
    "g.check_function_against_input('Answer')"
   ]
  }
 ],
 "metadata": {
  "hide_input": true,
  "kernelspec": {
   "display_name": "Python 3",
   "language": "python",
   "name": "python3"
  },
  "language_info": {
   "codemirror_mode": {
    "name": "ipython",
    "version": 3
   },
   "file_extension": ".py",
   "mimetype": "text/x-python",
   "name": "python",
   "nbconvert_exporter": "python",
   "pygments_lexer": "ipython3",
   "version": "3.7.3"
  },
  "latex_envs": {
   "LaTeX_envs_menu_present": true,
   "autoclose": false,
   "autocomplete": true,
   "bibliofile": "biblio.bib",
   "cite_by": "apalike",
   "current_citInitial": 1,
   "eqLabelWithNumbers": true,
   "eqNumInitial": 1,
   "hotkeys": {
    "equation": "Ctrl-E",
    "itemize": "Ctrl-I"
   },
   "labels_anchors": false,
   "latex_user_defs": false,
   "report_style_numbering": false,
   "user_envs_cfg": false
  }
 },
 "nbformat": 4,
 "nbformat_minor": 4
}
