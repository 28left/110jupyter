{
 "cells": [
  {
   "cell_type": "code",
   "execution_count": 1,
   "metadata": {},
   "outputs": [],
   "source": [
    "import ipywidgets as widgets\n",
    "from sympy import *\n",
    "from sympy.parsing.latex import parse_latex\n",
    "x,y,z = symbols('x y z')"
   ]
  },
  {
   "cell_type": "markdown",
   "metadata": {},
   "source": [
    "# Activity 2 – What is a function?"
   ]
  },
  {
   "cell_type": "markdown",
   "metadata": {},
   "source": [
    "## Part 1 – The definition of a function"
   ]
  },
  {
   "cell_type": "markdown",
   "metadata": {},
   "source": [
    "A function is a correspondence, or, \"rule\" between inputs and outputs such that every input corresponds to only one output. This is different from the more general notion of a relation, where an input can be sent to multiple outputs. One can think of a function as a \"machine\" that accepts inputs and turns them into outputs. For example, consider the function that multiplies every input by 2. (Your calculator is a “function machine;” when you ask it a question, it only gives you one response.)"
   ]
  },
  {
   "cell_type": "markdown",
   "metadata": {},
   "source": [
    "Here’s a drawing of a function machine."
   ]
  },
  {
   "cell_type": "markdown",
   "metadata": {},
   "source": [
    "![Function Machine](image_activity_2.png \"Logo Title\")"
   ]
  },
  {
   "cell_type": "markdown",
   "metadata": {},
   "source": [
    "If we input 5 into this function, we get 10 as the output. If $x$ represents a generic number that we input, our output will be $2x$."
   ]
  },
  {
   "cell_type": "markdown",
   "metadata": {},
   "source": [
    "### Function notation"
   ]
  },
  {
   "cell_type": "markdown",
   "metadata": {},
   "source": [
    "It would be cumbersome to have to refer to the function above as \"the function that multiplies every input by 2\". Therefore, we introduce the idea of function notation as a shorter way to get the same idea across. Remember that we said inputting a generic number $x$ will yield an output of $2x$. This relationship tells us exactly what our function does -- it multiplies inputs by 2. If we denote our function by a lowercase letter, say $f$, we can describe what it does as\n",
    "\n",
    "> $f(x) = 2x$."
   ]
  },
  {
   "cell_type": "markdown",
   "metadata": {},
   "source": [
    "We read this as \"*f of x equals 2x*\". This is a short way of saying that is the function that, when $x$ is the input, the output of the function is $2x$."
   ]
  },
  {
   "cell_type": "markdown",
   "metadata": {},
   "source": [
    "We can convert sentences into function notation."
   ]
  },
  {
   "cell_type": "markdown",
   "metadata": {},
   "source": [
    "> **Example:** “k is the function that divides the input 3 and adds 1” would be written as $f(x) = \\frac{x}{3}+1$."
   ]
  },
  {
   "cell_type": "markdown",
   "metadata": {},
   "source": [
    "### Problem 1"
   ]
  },
  {
   "cell_type": "markdown",
   "metadata": {},
   "source": [
    "Convert each of the following sentences to function notation."
   ]
  },
  {
   "cell_type": "markdown",
   "metadata": {},
   "source": [
    "* $g$ is the function that adds 5 to the input and takes the square root of the result."
   ]
  },
  {
   "cell_type": "code",
   "execution_count": 2,
   "metadata": {},
   "outputs": [
    {
     "data": {
      "application/vnd.jupyter.widget-view+json": {
       "model_id": "7ca1bca08a754704aab67ee7dffc2c99",
       "version_major": 2,
       "version_minor": 0
      },
      "text/plain": [
       "Text(value='', continuous_update=False, description='g(x) = ', placeholder='Type something')"
      ]
     },
     "metadata": {},
     "output_type": "display_data"
    },
    {
     "data": {
      "application/vnd.jupyter.widget-view+json": {
       "model_id": "e969332e04e34da1913fe5c1ea4923d2",
       "version_major": 2,
       "version_minor": 0
      },
      "text/plain": [
       "Button(description='Check Answer', style=ButtonStyle())"
      ]
     },
     "metadata": {},
     "output_type": "display_data"
    },
    {
     "data": {
      "application/vnd.jupyter.widget-view+json": {
       "model_id": "9c9b20b70b2e47a6a8cf0f234bde1b13",
       "version_major": 2,
       "version_minor": 0
      },
      "text/plain": [
       "Output()"
      ]
     },
     "metadata": {},
     "output_type": "display_data"
    }
   ],
   "source": [
    "w_g = widgets.Text(\n",
    "    value='',\n",
    "    placeholder='Type something',\n",
    "    description='g(x) = ',\n",
    "    continuous_update=False,\n",
    "    disabled=False\n",
    ")\n",
    "display(w_g)\n",
    "\n",
    "button = widgets.Button(description=\"Check Answer\")\n",
    "output = widgets.Output()\n",
    "\n",
    "display(button, output)\n",
    "\n",
    "def on_button_clicked(b):\n",
    "    with output:\n",
    "        output.clear_output()\n",
    "        expr_g = parse_latex(w_g.value)\n",
    "        if simplify(expr_g - sqrt(x+5)):\n",
    "            print(\"Not correct. Try again.\")\n",
    "        else:\n",
    "            print(\"That's correct\")    \n",
    "\n",
    "button.on_click(on_button_clicked)"
   ]
  },
  {
   "cell_type": "markdown",
   "metadata": {},
   "source": [
    "* $h$ is the function that cubes the input and then adds half of the input."
   ]
  },
  {
   "cell_type": "code",
   "execution_count": 3,
   "metadata": {},
   "outputs": [
    {
     "data": {
      "application/vnd.jupyter.widget-view+json": {
       "model_id": "86343e6b4d964bc08349768468dd86da",
       "version_major": 2,
       "version_minor": 0
      },
      "text/plain": [
       "Text(value='', continuous_update=False, description='h(x) = ', placeholder='Type something')"
      ]
     },
     "metadata": {},
     "output_type": "display_data"
    },
    {
     "data": {
      "application/vnd.jupyter.widget-view+json": {
       "model_id": "c3f0db7a233942138a89e9dcc70b4cc0",
       "version_major": 2,
       "version_minor": 0
      },
      "text/plain": [
       "Button(description='Check Answer', style=ButtonStyle())"
      ]
     },
     "metadata": {},
     "output_type": "display_data"
    },
    {
     "data": {
      "application/vnd.jupyter.widget-view+json": {
       "model_id": "61deec77de7e4a89a0dff50b88e88f8a",
       "version_major": 2,
       "version_minor": 0
      },
      "text/plain": [
       "Output()"
      ]
     },
     "metadata": {},
     "output_type": "display_data"
    }
   ],
   "source": [
    "w_h = widgets.Text(\n",
    "    value='',\n",
    "    placeholder='Type something',\n",
    "    description='h(x) = ',\n",
    "    continuous_update=False,\n",
    "    disabled=False\n",
    ")\n",
    "display(w_h)\n",
    "\n",
    "button_h = widgets.Button(description=\"Check Answer\")\n",
    "output_h = widgets.Output()\n",
    "\n",
    "display(button_h, output_h)\n",
    "\n",
    "def on_button_clicked_h(c):\n",
    "    with output_h:\n",
    "        output_h.clear_output()\n",
    "        expr_h = parse_latex(w_h.value)\n",
    "        if simplify(expr_h - (x**3+(x/2))):\n",
    "            print(\"Not correct. Try again.\")\n",
    "        else:\n",
    "            print(\"That's correct\")    \n",
    "\n",
    "button_h.on_click(on_button_clicked_h)"
   ]
  },
  {
   "cell_type": "code",
   "execution_count": null,
   "metadata": {},
   "outputs": [],
   "source": []
  }
 ],
 "metadata": {
  "hide_input": true,
  "kernelspec": {
   "display_name": "Python 3",
   "language": "python",
   "name": "python3"
  },
  "language_info": {
   "codemirror_mode": {
    "name": "ipython",
    "version": 3
   },
   "file_extension": ".py",
   "mimetype": "text/x-python",
   "name": "python",
   "nbconvert_exporter": "python",
   "pygments_lexer": "ipython3",
   "version": "3.6.7"
  },
  "latex_envs": {
   "LaTeX_envs_menu_present": true,
   "autoclose": false,
   "autocomplete": true,
   "bibliofile": "biblio.bib",
   "cite_by": "apalike",
   "current_citInitial": 1,
   "eqLabelWithNumbers": true,
   "eqNumInitial": 1,
   "hotkeys": {
    "equation": "Ctrl-E",
    "itemize": "Ctrl-I"
   },
   "labels_anchors": false,
   "latex_user_defs": false,
   "report_style_numbering": false,
   "user_envs_cfg": false
  }
 },
 "nbformat": 4,
 "nbformat_minor": 2
}
