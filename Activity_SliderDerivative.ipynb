{
 "cells": [
  {
   "cell_type": "markdown",
   "metadata": {},
   "source": [
    "# Activity: Estimate the derivative"
   ]
  },
  {
   "cell_type": "code",
   "execution_count": 1,
   "metadata": {},
   "outputs": [],
   "source": [
    "%config IPCompleter.greedy=True\n",
    "%matplotlib inline"
   ]
  },
  {
   "cell_type": "code",
   "execution_count": 2,
   "metadata": {},
   "outputs": [],
   "source": [
    "from __future__ import print_function\n",
    "from ipywidgets import interact, interactive, fixed, interact_manual\n",
    "import ipywidgets as widgets\n",
    "from IPython.display import display, Math, Latex\n",
    "import matplotlib.pyplot as plt\n",
    "import numpy as np"
   ]
  },
  {
   "cell_type": "markdown",
   "metadata": {},
   "source": [
    "In this activity, we estimate the derivative at a point numercially and graphically."
   ]
  },
  {
   "cell_type": "markdown",
   "metadata": {},
   "source": [
    "The function in this example is \\begin{equation*}\n",
    " f(x) = 3 x^2.\n",
    "\\end{equation*}\n"
   ]
  },
  {
   "cell_type": "markdown",
   "metadata": {},
   "source": [
    "__TASK__: Using the sliders below, estimate $f'(x)$ at $x=1.5$."
   ]
  },
  {
   "cell_type": "code",
   "execution_count": 3,
   "metadata": {},
   "outputs": [
    {
     "data": {
      "application/vnd.jupyter.widget-view+json": {
       "model_id": "68da209ae8ca4a3588fce47d96d19a4d",
       "version_major": 2,
       "version_minor": 0
      },
      "text/plain": [
       "HBox(children=(FloatSlider(value=2.0, description='\\\\(x\\\\)', max=5.0, min=-1.0), FloatLogSlider(value=1.0, des…"
      ]
     },
     "metadata": {},
     "output_type": "display_data"
    },
    {
     "data": {
      "application/vnd.jupyter.widget-view+json": {
       "model_id": "bc71cc132ee14de88e885a2b2260e4e8",
       "version_major": 2,
       "version_minor": 0
      },
      "text/plain": [
       "Output()"
      ]
     },
     "metadata": {},
     "output_type": "display_data"
    }
   ],
   "source": [
    "def DiffQuot(x,delx): # We use the function 3*x^2 in this example\n",
    "    if delx != 0:\n",
    "        return (3*((x+delx)**2)- 3*(x**2))/(delx)\n",
    "\n",
    "d = widgets.FloatSlider(value=2, min=-1, max= 5, description=r'\\(x\\)')\n",
    "e = widgets.FloatLogSlider(\n",
    "    value=1,\n",
    "    base=10,\n",
    "    min=-7, # max exponent of base\n",
    "    max=1, # min exponent of base\n",
    "    step=0.2, # exponent step\n",
    "    description=r'\\(\\Delta x\\)')\n",
    "ui = widgets.HBox([d,e])\n",
    "\n",
    "def printDiffQuot(a,b):\n",
    "    display(Math(r'{\\Delta y}/{\\Delta x} ='),DiffQuot(a,b))\n",
    "    \n",
    "out = widgets.interactive_output(printDiffQuot, {'a': d, 'b': e})\n",
    "\n",
    "display(ui,out)"
   ]
  },
  {
   "cell_type": "markdown",
   "metadata": {},
   "source": [
    "In the activity below, you can use the slider to see how the secant line becomes a tangent line if we let $\\Delta x$ go to $0$. Try it with different values for $x$, for example $x=-0.2, 0, 0.5$."
   ]
  },
  {
   "cell_type": "code",
   "execution_count": 4,
   "metadata": {},
   "outputs": [
    {
     "data": {
      "application/vnd.jupyter.widget-view+json": {
       "model_id": "d93b1913c92849eb91785b5212ab3567",
       "version_major": 2,
       "version_minor": 0
      },
      "text/plain": [
       "interactive(children=(FloatSlider(value=0.5, description='x', max=0.9, min=-0.9), FloatLogSlider(value=1.0, de…"
      ]
     },
     "metadata": {},
     "output_type": "display_data"
    }
   ],
   "source": [
    "def graph(a,b):\n",
    "#     plt.figure(2)\n",
    "    x = np.linspace(-1, 1, num=1000)\n",
    "    plt.plot(x,3*(x**2))\n",
    "    plt.plot(x, DiffQuot(a,b)* x +(3*(a**2)-DiffQuot(a,b)*a))\n",
    "    plt.ylim(-5, 5)\n",
    "    plt.show()\n",
    "\n",
    "interactive_plot = interactive(graph, \n",
    "                               a=widgets.FloatSlider(value=0.5, min=-0.9, max= 0.9, description='x'), \n",
    "                               b=widgets.FloatLogSlider(value=1,base=10,min=-3,max=1,step=0.2, description=r'\\(\\Delta x\\)') )\n",
    "output = interactive_plot.children[-1]\n",
    "output.layout.height = '350px'\n",
    "interactive_plot"
   ]
  },
  {
   "cell_type": "code",
   "execution_count": null,
   "metadata": {},
   "outputs": [],
   "source": []
  }
 ],
 "metadata": {
  "hide_input": true,
  "kernelspec": {
   "display_name": "Python 3",
   "language": "python",
   "name": "python3"
  },
  "language_info": {
   "codemirror_mode": {
    "name": "ipython",
    "version": 3
   },
   "file_extension": ".py",
   "mimetype": "text/x-python",
   "name": "python",
   "nbconvert_exporter": "python",
   "pygments_lexer": "ipython3",
   "version": "3.6.8"
  },
  "latex_envs": {
   "LaTeX_envs_menu_present": true,
   "autoclose": false,
   "autocomplete": true,
   "bibliofile": "biblio.bib",
   "cite_by": "apalike",
   "current_citInitial": 1,
   "eqLabelWithNumbers": true,
   "eqNumInitial": 1,
   "hotkeys": {
    "equation": "Ctrl-E",
    "itemize": "Ctrl-I"
   },
   "labels_anchors": false,
   "latex_user_defs": false,
   "report_style_numbering": false,
   "user_envs_cfg": false
  }
 },
 "nbformat": 4,
 "nbformat_minor": 2
}
